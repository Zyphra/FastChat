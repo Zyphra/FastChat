{
  "cells": [
    {
      "cell_type": "code",
      "execution_count": 1,
      "metadata": {
        "colab": {
          "base_uri": "https://localhost:8080/"
        },
        "id": "Vp5YVvaTpIiX",
        "outputId": "3c5b2a63-1fb4-430d-a986-4092ee8d4891"
      },
      "outputs": [
        {
          "name": "stdout",
          "output_type": "stream",
          "text": [
            "--2024-09-18 04:51:26--  https://huggingface.co/spaces/lmsys/mt-bench/resolve/main/data/mt_bench/model_judgment/gpt-4_single.jsonl\n",
            "Resolving huggingface.co (huggingface.co)... 99.86.102.109, 99.86.102.9, 99.86.102.115, ...\n",
            "Connecting to huggingface.co (huggingface.co)|99.86.102.109|:443... connected.\n",
            "HTTP request sent, awaiting response... 302 Found\n",
            "Location: https://cdn-lfs.huggingface.co/repos/12/2b/122bd8e9eccbb3acc98acf73e0ecef3c96f24dcdb5f6639074ed304eb19f9cd4/76c55033c6b2b1cc3f62513458f84748a23352495fd42b1062a7401de5ff9bd9?response-content-disposition=inline%3B+filename*%3DUTF-8%27%27gpt-4_single.jsonl%3B+filename%3D%22gpt-4_single.jsonl%22%3B&Expires=1726894286&Policy=eyJTdGF0ZW1lbnQiOlt7IkNvbmRpdGlvbiI6eyJEYXRlTGVzc1RoYW4iOnsiQVdTOkVwb2NoVGltZSI6MTcyNjg5NDI4Nn19LCJSZXNvdXJjZSI6Imh0dHBzOi8vY2RuLWxmcy5odWdnaW5nZmFjZS5jby9yZXBvcy8xMi8yYi8xMjJiZDhlOWVjY2JiM2FjYzk4YWNmNzNlMGVjZWYzYzk2ZjI0ZGNkYjVmNjYzOTA3NGVkMzA0ZWIxOWY5Y2Q0Lzc2YzU1MDMzYzZiMmIxY2MzZjYyNTEzNDU4Zjg0NzQ4YTIzMzUyNDk1ZmQ0MmIxMDYyYTc0MDFkZTVmZjliZDk%7EcmVzcG9uc2UtY29udGVudC1kaXNwb3NpdGlvbj0qIn1dfQ__&Signature=dx78b-GowhJ65%7ENF7lm3%7EI5pd720IDRDiHu6C5a6Pj%7EXpw2n5y8PyHHwnyNT2fI2P2jS%7EFewpGsX-f1ewBh-QJWE4mxumeuVtnYptWKiQb0KrpxZOKM2Uw6UZzg-fGqvDDifGHioGo4kF82Hr360nrcneQnGZuKPnMfrE1RD3y0-3wYjoKotFQE01M28Ll5d59XvwncMZBX1j%7ECZ6J-xkF5jUhj2EqPxHOUlo%7Ez-Or3yOh7yMYCvikgcJ0il9moI4hmkS5-MSIW0HEllbIzl4uD9FBdRKBYqEbIE%7EdcCIvuioLUkrwjqAGX0zscIzhehVxS5lr6xsMkWAourRaaSHQ__&Key-Pair-Id=K3ESJI6DHPFC7 [following]\n",
            "--2024-09-18 04:51:26--  https://cdn-lfs.huggingface.co/repos/12/2b/122bd8e9eccbb3acc98acf73e0ecef3c96f24dcdb5f6639074ed304eb19f9cd4/76c55033c6b2b1cc3f62513458f84748a23352495fd42b1062a7401de5ff9bd9?response-content-disposition=inline%3B+filename*%3DUTF-8%27%27gpt-4_single.jsonl%3B+filename%3D%22gpt-4_single.jsonl%22%3B&Expires=1726894286&Policy=eyJTdGF0ZW1lbnQiOlt7IkNvbmRpdGlvbiI6eyJEYXRlTGVzc1RoYW4iOnsiQVdTOkVwb2NoVGltZSI6MTcyNjg5NDI4Nn19LCJSZXNvdXJjZSI6Imh0dHBzOi8vY2RuLWxmcy5odWdnaW5nZmFjZS5jby9yZXBvcy8xMi8yYi8xMjJiZDhlOWVjY2JiM2FjYzk4YWNmNzNlMGVjZWYzYzk2ZjI0ZGNkYjVmNjYzOTA3NGVkMzA0ZWIxOWY5Y2Q0Lzc2YzU1MDMzYzZiMmIxY2MzZjYyNTEzNDU4Zjg0NzQ4YTIzMzUyNDk1ZmQ0MmIxMDYyYTc0MDFkZTVmZjliZDk%7EcmVzcG9uc2UtY29udGVudC1kaXNwb3NpdGlvbj0qIn1dfQ__&Signature=dx78b-GowhJ65%7ENF7lm3%7EI5pd720IDRDiHu6C5a6Pj%7EXpw2n5y8PyHHwnyNT2fI2P2jS%7EFewpGsX-f1ewBh-QJWE4mxumeuVtnYptWKiQb0KrpxZOKM2Uw6UZzg-fGqvDDifGHioGo4kF82Hr360nrcneQnGZuKPnMfrE1RD3y0-3wYjoKotFQE01M28Ll5d59XvwncMZBX1j%7ECZ6J-xkF5jUhj2EqPxHOUlo%7Ez-Or3yOh7yMYCvikgcJ0il9moI4hmkS5-MSIW0HEllbIzl4uD9FBdRKBYqEbIE%7EdcCIvuioLUkrwjqAGX0zscIzhehVxS5lr6xsMkWAourRaaSHQ__&Key-Pair-Id=K3ESJI6DHPFC7\n",
            "Resolving cdn-lfs.huggingface.co (cdn-lfs.huggingface.co)... "
          ]
        },
        {
          "name": "stdout",
          "output_type": "stream",
          "text": [
            "99.86.74.13, 99.86.74.62, 99.86.74.116, ...\n",
            "Connecting to cdn-lfs.huggingface.co (cdn-lfs.huggingface.co)|99.86.74.13|:443... connected.\n",
            "HTTP request sent, awaiting response... 200 OK\n",
            "Length: 20113128 (19M) [text/plain]\n",
            "Saving to: ‘gpt-4_single.jsonl’\n",
            "\n",
            "gpt-4_single.jsonl  100%[===================>]  19.18M  41.0MB/s    in 0.5s    \n",
            "\n",
            "2024-09-18 04:51:32 (41.0 MB/s) - ‘gpt-4_single.jsonl’ saved [20113128/20113128]\n",
            "\n",
            "--2024-09-18 04:51:32--  https://huggingface.co/spaces/lmsys/mt-bench/resolve/main/data/mt_bench/model_judgment/gpt-4_pair.jsonl\n",
            "Resolving huggingface.co (huggingface.co)... 99.86.102.9, 99.86.102.115, 99.86.102.109, ...\n",
            "Connecting to huggingface.co (huggingface.co)|99.86.102.9|:443... connected.\n",
            "HTTP request sent, awaiting response... 302 Found\n",
            "Location: https://cdn-lfs.huggingface.co/repos/12/2b/122bd8e9eccbb3acc98acf73e0ecef3c96f24dcdb5f6639074ed304eb19f9cd4/d662c0b7d1d297f0494fcb4cc09fe8f054fa22d75deb4754a483a921984bc585?response-content-disposition=inline%3B+filename*%3DUTF-8%27%27gpt-4_pair.jsonl%3B+filename%3D%22gpt-4_pair.jsonl%22%3B&Expires=1726894292&Policy=eyJTdGF0ZW1lbnQiOlt7IkNvbmRpdGlvbiI6eyJEYXRlTGVzc1RoYW4iOnsiQVdTOkVwb2NoVGltZSI6MTcyNjg5NDI5Mn19LCJSZXNvdXJjZSI6Imh0dHBzOi8vY2RuLWxmcy5odWdnaW5nZmFjZS5jby9yZXBvcy8xMi8yYi8xMjJiZDhlOWVjY2JiM2FjYzk4YWNmNzNlMGVjZWYzYzk2ZjI0ZGNkYjVmNjYzOTA3NGVkMzA0ZWIxOWY5Y2Q0L2Q2NjJjMGI3ZDFkMjk3ZjA0OTRmY2I0Y2MwOWZlOGYwNTRmYTIyZDc1ZGViNDc1NGE0ODNhOTIxOTg0YmM1ODU%7EcmVzcG9uc2UtY29udGVudC1kaXNwb3NpdGlvbj0qIn1dfQ__&Signature=GagtJdksa9F-e2xmuYoF-zmY2Hksf%7Es1qZUzgvhLsYcDrnRzKe3ge6Efb5YNcFMC0fjoWKvuRYoVMOi%7Eh-z0nZCegkTDHgLofu5og6KiCj9g5auanc1xqFGFn1d7SBCOBKazIMwVDSXvJ3nSBsR3kPpmUcRIL%7EQIuGy7GCu2Er-g2HFVqve1s4sIusCKtnYdqXG0e2ekIhYwXa%7EN0NefcF%7EhKJC0YOCS31co0cgp1iIorJi3c7GWKGLd4hVDWlhrU%7EbPUG9ctc9w88ohvNEmecAsQMB3gz97EkRrb9gOEVRxW2nQZWKNdBAugBuT5pTb72e64aSrHXMQDIiyg34M8w__&Key-Pair-Id=K3ESJI6DHPFC7 [following]\n",
            "--2024-09-18 04:51:32--  https://cdn-lfs.huggingface.co/repos/12/2b/122bd8e9eccbb3acc98acf73e0ecef3c96f24dcdb5f6639074ed304eb19f9cd4/d662c0b7d1d297f0494fcb4cc09fe8f054fa22d75deb4754a483a921984bc585?response-content-disposition=inline%3B+filename*%3DUTF-8%27%27gpt-4_pair.jsonl%3B+filename%3D%22gpt-4_pair.jsonl%22%3B&Expires=1726894292&Policy=eyJTdGF0ZW1lbnQiOlt7IkNvbmRpdGlvbiI6eyJEYXRlTGVzc1RoYW4iOnsiQVdTOkVwb2NoVGltZSI6MTcyNjg5NDI5Mn19LCJSZXNvdXJjZSI6Imh0dHBzOi8vY2RuLWxmcy5odWdnaW5nZmFjZS5jby9yZXBvcy8xMi8yYi8xMjJiZDhlOWVjY2JiM2FjYzk4YWNmNzNlMGVjZWYzYzk2ZjI0ZGNkYjVmNjYzOTA3NGVkMzA0ZWIxOWY5Y2Q0L2Q2NjJjMGI3ZDFkMjk3ZjA0OTRmY2I0Y2MwOWZlOGYwNTRmYTIyZDc1ZGViNDc1NGE0ODNhOTIxOTg0YmM1ODU%7EcmVzcG9uc2UtY29udGVudC1kaXNwb3NpdGlvbj0qIn1dfQ__&Signature=GagtJdksa9F-e2xmuYoF-zmY2Hksf%7Es1qZUzgvhLsYcDrnRzKe3ge6Efb5YNcFMC0fjoWKvuRYoVMOi%7Eh-z0nZCegkTDHgLofu5og6KiCj9g5auanc1xqFGFn1d7SBCOBKazIMwVDSXvJ3nSBsR3kPpmUcRIL%7EQIuGy7GCu2Er-g2HFVqve1s4sIusCKtnYdqXG0e2ekIhYwXa%7EN0NefcF%7EhKJC0YOCS31co0cgp1iIorJi3c7GWKGLd4hVDWlhrU%7EbPUG9ctc9w88ohvNEmecAsQMB3gz97EkRrb9gOEVRxW2nQZWKNdBAugBuT5pTb72e64aSrHXMQDIiyg34M8w__&Key-Pair-Id=K3ESJI6DHPFC7\n",
            "Resolving cdn-lfs.huggingface.co (cdn-lfs.huggingface.co)... 99.86.74.81, 99.86.74.13, 99.86.74.62, ...\n",
            "Connecting to cdn-lfs.huggingface.co (cdn-lfs.huggingface.co)|99.86.74.81|:443... connected.\n",
            "HTTP request sent, awaiting response... 200 OK\n",
            "Length: 48043462 (46M) [binary/octet-stream]\n",
            "Saving to: ‘gpt-4_pair.jsonl’\n",
            "\n",
            "gpt-4_pair.jsonl    100%[===================>]  45.82M  47.4MB/s    in 1.0s    \n",
            "\n",
            "2024-09-18 04:51:34 (47.4 MB/s) - ‘gpt-4_pair.jsonl’ saved [48043462/48043462]\n",
            "\n"
          ]
        }
      ],
      "source": [
        "!wget https://huggingface.co/spaces/lmsys/mt-bench/resolve/main/data/mt_bench/model_judgment/gpt-4_single.jsonl\n",
        "!wget https://huggingface.co/spaces/lmsys/mt-bench/resolve/main/data/mt_bench/model_judgment/gpt-4_pair.jsonl"
      ]
    },
    {
      "cell_type": "code",
      "execution_count": 1,
      "metadata": {
        "colab": {
          "base_uri": "https://localhost:8080/"
        },
        "id": "4eYlKr9RrPu2",
        "outputId": "b957d1f9-0024-4c5c-eb07-dcb1a0071081"
      },
      "outputs": [
        {
          "name": "stdout",
          "output_type": "stream",
          "text": [
            "Looking in indexes: https://pypi.org/simple, https://pypi.ngc.nvidia.com\n",
            "Collecting plotly\n",
            "  Obtaining dependency information for plotly from https://files.pythonhosted.org/packages/e5/ae/580600f441f6fc05218bd6c9d5794f4aef072a7d9093b291f1c50a9db8bc/plotly-5.24.1-py3-none-any.whl.metadata\n",
            "  Downloading plotly-5.24.1-py3-none-any.whl.metadata (7.3 kB)\n",
            "Collecting kaleido\n",
            "  Obtaining dependency information for kaleido from https://files.pythonhosted.org/packages/ae/b3/a0f0f4faac229b0011d8c4a7ee6da7c2dca0b6fd08039c95920846f23ca4/kaleido-0.2.1-py2.py3-none-manylinux1_x86_64.whl.metadata\n",
            "  Downloading kaleido-0.2.1-py2.py3-none-manylinux1_x86_64.whl.metadata (15 kB)\n",
            "Collecting tenacity>=6.2.0 (from plotly)\n",
            "  Obtaining dependency information for tenacity>=6.2.0 from https://files.pythonhosted.org/packages/b6/cb/b86984bed139586d01532a587464b5805f12e397594f19f931c4c2fbfa61/tenacity-9.0.0-py3-none-any.whl.metadata\n",
            "  Downloading tenacity-9.0.0-py3-none-any.whl.metadata (1.2 kB)\n",
            "Requirement already satisfied: packaging in /usr/local/lib/python3.10/dist-packages (from plotly) (23.1)\n",
            "Downloading plotly-5.24.1-py3-none-any.whl (19.1 MB)\n",
            "\u001b[2K   \u001b[90m━━━━━━━━━━━━━━━━━━━━━━━━━━━━━━━━━━━━━━━━\u001b[0m \u001b[32m19.1/19.1 MB\u001b[0m \u001b[31m121.4 MB/s\u001b[0m eta \u001b[36m0:00:00\u001b[0ma \u001b[36m0:00:01\u001b[0m\n",
            "\u001b[?25hDownloading kaleido-0.2.1-py2.py3-none-manylinux1_x86_64.whl (79.9 MB)\n",
            "\u001b[2K   \u001b[90m━━━━━━━━━━━━━━━━━━━━━━━━━━━━━━━━━━━━━━━━\u001b[0m \u001b[32m79.9/79.9 MB\u001b[0m \u001b[31m133.6 MB/s\u001b[0m eta \u001b[36m0:00:00\u001b[0ma \u001b[36m0:00:01\u001b[0m\n",
            "\u001b[?25hDownloading tenacity-9.0.0-py3-none-any.whl (28 kB)\n",
            "Installing collected packages: kaleido, tenacity, plotly\n",
            "Successfully installed kaleido-0.2.1 plotly-5.24.1 tenacity-9.0.0\n",
            "\u001b[33mWARNING: Running pip as the 'root' user can result in broken permissions and conflicting behaviour with the system package manager. It is recommended to use a virtual environment instead: https://pip.pypa.io/warnings/venv\u001b[0m\u001b[33m\n",
            "\u001b[0m\n",
            "\u001b[1m[\u001b[0m\u001b[34;49mnotice\u001b[0m\u001b[1;39;49m]\u001b[0m\u001b[39;49m A new release of pip is available: \u001b[0m\u001b[31;49m23.2.1\u001b[0m\u001b[39;49m -> \u001b[0m\u001b[32;49m24.2\u001b[0m\n",
            "\u001b[1m[\u001b[0m\u001b[34;49mnotice\u001b[0m\u001b[1;39;49m]\u001b[0m\u001b[39;49m To update, run: \u001b[0m\u001b[32;49mpython -m pip install --upgrade pip\u001b[0m\n"
          ]
        }
      ],
      "source": [
        "!pip install -U plotly kaleido"
      ]
    },
    {
      "cell_type": "code",
      "execution_count": 27,
      "metadata": {
        "id": "m2tG_vDyqWZw"
      },
      "outputs": [
        {
          "name": "stdout",
          "output_type": "stream",
          "text": [
            "['instr_release_ultrafeedback_batch32_rejected_fully_from_zamba_round3'\n",
            " 'nstr_release_ultrafeedback_batch32_rejected_fully_from_zamba_round2'\n",
            " 'instr_release_ultrafeedback_infinfstruct_batch32_with_actual_mix_infinstr_ultrachat'\n",
            " 'instr_release_ultrafeedback_batch32_rejected_half_from_zamba_round3'\n",
            " 'instr_release_ultrafeedback_infinfstruct_batch32_with_actual_mix_infinstr_ultrachat_round3'\n",
            " 'instr_release_ultrafeedback_batch32_rejected_fully_from_zamba'\n",
            " 'instr_release_ultrafeedback_batch32_rejected_half_from_zamba_round2'\n",
            " 'instr_release_ultrafeedback_infinfstruct_batch32_with_actual_mix_infinstr_ultrachat_round2'\n",
            " 'instr_release_ultrafeedback_batch32_rejected_half_from_zamba'\n",
            " 'gemma-2-2b-it' 'ultrafeedback_openhermespref_orcadoppairs_4epochs'\n",
            " 'ultrafeedback_openhermespref_orcadoppairs_1epoch'\n",
            " 'ultrafeedback_openhermespref_orcadoppairs_1epoch_then_2epochs'\n",
            " 'ultrafeedback_openhermespref_orcadoppairs_1epoch_then_2epochs_then_1epoch'\n",
            " 'HuggingFaceTB_SmolLM-1.7B-Instruct' 'microsoft_Phi-3-mini-4k-instruct'\n",
            " 'Qwen_Qwen2-1.5B-Instruct' 'stabilityai_stablelm-2-1_6b-chat'\n",
            " 'microsoft_Phi-3.5-mini-instruct' 'h2oai_h2o-danube3-4b-chat'\n",
            " 'stabilityai_stablelm-zephyr-3b' 'h2oai_h2o-danube2-1.8b-chat'\n",
            " 'zamba2_1B_ultrafeedback_openhermespref_orcadoppairs_1epoch_then_1epoch_then_1epoch'\n",
            " 'mistralai_Mistral-7B-Instruct-v0.1']\n"
          ]
        },
        {
          "data": {
            "application/vnd.plotly.v1+json": {
              "config": {
                "plotlyServerURL": "https://plot.ly"
              },
              "data": [
                {
                  "hovertemplate": "model=Mistral 7B Instruct-v0.1<br>score=%{r}<br>category=%{theta}<extra></extra>",
                  "legendgroup": "Mistral 7B Instruct-v0.1",
                  "line": {
                    "color": "#4C78A8",
                    "dash": "solid"
                  },
                  "marker": {
                    "symbol": "circle"
                  },
                  "mode": "lines+markers",
                  "name": "Mistral 7B Instruct-v0.1",
                  "r": [
                    8.55,
                    7.65,
                    5.8,
                    4.1,
                    3.7,
                    6.85,
                    7.65,
                    8.85,
                    8.55
                  ],
                  "showlegend": true,
                  "subplot": "polar",
                  "theta": [
                    "Writing",
                    "Roleplay",
                    "Reasoning",
                    "Math",
                    "Coding",
                    "Extraction",
                    "STEM",
                    "Humanities",
                    "Writing"
                  ],
                  "type": "scatterpolar"
                },
                {
                  "hovertemplate": "model=Zamba2 2.7B instruct<br>score=%{r}<br>category=%{theta}<extra></extra>",
                  "legendgroup": "Zamba2 2.7B instruct",
                  "line": {
                    "color": "#F58518",
                    "dash": "solid"
                  },
                  "marker": {
                    "symbol": "circle"
                  },
                  "mode": "lines+markers",
                  "name": "Zamba2 2.7B instruct",
                  "r": [
                    8.8,
                    8.2,
                    6.35,
                    6.75,
                    3.35,
                    6,
                    9.2,
                    9.325,
                    8.8
                  ],
                  "showlegend": true,
                  "subplot": "polar",
                  "theta": [
                    "Writing",
                    "Roleplay",
                    "Reasoning",
                    "Math",
                    "Coding",
                    "Extraction",
                    "STEM",
                    "Humanities",
                    "Writing"
                  ],
                  "type": "scatterpolar"
                },
                {
                  "hovertemplate": "model=Gemma2 2.6B instruct<br>score=%{r}<br>category=%{theta}<extra></extra>",
                  "legendgroup": "Gemma2 2.6B instruct",
                  "line": {
                    "color": "#E45756",
                    "dash": "solid"
                  },
                  "marker": {
                    "symbol": "circle"
                  },
                  "mode": "lines+markers",
                  "name": "Gemma2 2.6B instruct",
                  "r": [
                    8.225,
                    7.125,
                    4.75,
                    3.45,
                    2.473684210526316,
                    2.1,
                    6.65,
                    6.45,
                    8.225
                  ],
                  "showlegend": true,
                  "subplot": "polar",
                  "theta": [
                    "Writing",
                    "Roleplay",
                    "Reasoning",
                    "Math",
                    "Coding",
                    "Extraction",
                    "STEM",
                    "Humanities",
                    "Writing"
                  ],
                  "type": "scatterpolar"
                }
              ],
              "layout": {
                "legend": {
                  "itemwidth": 50,
                  "orientation": "h",
                  "title": {},
                  "tracegroupgap": 0,
                  "traceorder": "normal",
                  "x": 0.5,
                  "xanchor": "center",
                  "y": -0.2,
                  "yanchor": "top"
                },
                "margin": {
                  "t": 60
                },
                "polar": {
                  "angularaxis": {
                    "categoryarray": [
                      "Writing",
                      "Roleplay",
                      "Reasoning",
                      "Math",
                      "Coding",
                      "Extraction",
                      "STEM",
                      "Humanities"
                    ],
                    "categoryorder": "array",
                    "direction": "clockwise",
                    "rotation": 90
                  },
                  "domain": {
                    "x": [
                      0,
                      1
                    ],
                    "y": [
                      0,
                      1
                    ]
                  }
                },
                "template": {
                  "data": {
                    "bar": [
                      {
                        "error_x": {
                          "color": "#2a3f5f"
                        },
                        "error_y": {
                          "color": "#2a3f5f"
                        },
                        "marker": {
                          "line": {
                            "color": "#E5ECF6",
                            "width": 0.5
                          },
                          "pattern": {
                            "fillmode": "overlay",
                            "size": 10,
                            "solidity": 0.2
                          }
                        },
                        "type": "bar"
                      }
                    ],
                    "barpolar": [
                      {
                        "marker": {
                          "line": {
                            "color": "#E5ECF6",
                            "width": 0.5
                          },
                          "pattern": {
                            "fillmode": "overlay",
                            "size": 10,
                            "solidity": 0.2
                          }
                        },
                        "type": "barpolar"
                      }
                    ],
                    "carpet": [
                      {
                        "aaxis": {
                          "endlinecolor": "#2a3f5f",
                          "gridcolor": "white",
                          "linecolor": "white",
                          "minorgridcolor": "white",
                          "startlinecolor": "#2a3f5f"
                        },
                        "baxis": {
                          "endlinecolor": "#2a3f5f",
                          "gridcolor": "white",
                          "linecolor": "white",
                          "minorgridcolor": "white",
                          "startlinecolor": "#2a3f5f"
                        },
                        "type": "carpet"
                      }
                    ],
                    "choropleth": [
                      {
                        "colorbar": {
                          "outlinewidth": 0,
                          "ticks": ""
                        },
                        "type": "choropleth"
                      }
                    ],
                    "contour": [
                      {
                        "colorbar": {
                          "outlinewidth": 0,
                          "ticks": ""
                        },
                        "colorscale": [
                          [
                            0,
                            "#0d0887"
                          ],
                          [
                            0.1111111111111111,
                            "#46039f"
                          ],
                          [
                            0.2222222222222222,
                            "#7201a8"
                          ],
                          [
                            0.3333333333333333,
                            "#9c179e"
                          ],
                          [
                            0.4444444444444444,
                            "#bd3786"
                          ],
                          [
                            0.5555555555555556,
                            "#d8576b"
                          ],
                          [
                            0.6666666666666666,
                            "#ed7953"
                          ],
                          [
                            0.7777777777777778,
                            "#fb9f3a"
                          ],
                          [
                            0.8888888888888888,
                            "#fdca26"
                          ],
                          [
                            1,
                            "#f0f921"
                          ]
                        ],
                        "type": "contour"
                      }
                    ],
                    "contourcarpet": [
                      {
                        "colorbar": {
                          "outlinewidth": 0,
                          "ticks": ""
                        },
                        "type": "contourcarpet"
                      }
                    ],
                    "heatmap": [
                      {
                        "colorbar": {
                          "outlinewidth": 0,
                          "ticks": ""
                        },
                        "colorscale": [
                          [
                            0,
                            "#0d0887"
                          ],
                          [
                            0.1111111111111111,
                            "#46039f"
                          ],
                          [
                            0.2222222222222222,
                            "#7201a8"
                          ],
                          [
                            0.3333333333333333,
                            "#9c179e"
                          ],
                          [
                            0.4444444444444444,
                            "#bd3786"
                          ],
                          [
                            0.5555555555555556,
                            "#d8576b"
                          ],
                          [
                            0.6666666666666666,
                            "#ed7953"
                          ],
                          [
                            0.7777777777777778,
                            "#fb9f3a"
                          ],
                          [
                            0.8888888888888888,
                            "#fdca26"
                          ],
                          [
                            1,
                            "#f0f921"
                          ]
                        ],
                        "type": "heatmap"
                      }
                    ],
                    "heatmapgl": [
                      {
                        "colorbar": {
                          "outlinewidth": 0,
                          "ticks": ""
                        },
                        "colorscale": [
                          [
                            0,
                            "#0d0887"
                          ],
                          [
                            0.1111111111111111,
                            "#46039f"
                          ],
                          [
                            0.2222222222222222,
                            "#7201a8"
                          ],
                          [
                            0.3333333333333333,
                            "#9c179e"
                          ],
                          [
                            0.4444444444444444,
                            "#bd3786"
                          ],
                          [
                            0.5555555555555556,
                            "#d8576b"
                          ],
                          [
                            0.6666666666666666,
                            "#ed7953"
                          ],
                          [
                            0.7777777777777778,
                            "#fb9f3a"
                          ],
                          [
                            0.8888888888888888,
                            "#fdca26"
                          ],
                          [
                            1,
                            "#f0f921"
                          ]
                        ],
                        "type": "heatmapgl"
                      }
                    ],
                    "histogram": [
                      {
                        "marker": {
                          "pattern": {
                            "fillmode": "overlay",
                            "size": 10,
                            "solidity": 0.2
                          }
                        },
                        "type": "histogram"
                      }
                    ],
                    "histogram2d": [
                      {
                        "colorbar": {
                          "outlinewidth": 0,
                          "ticks": ""
                        },
                        "colorscale": [
                          [
                            0,
                            "#0d0887"
                          ],
                          [
                            0.1111111111111111,
                            "#46039f"
                          ],
                          [
                            0.2222222222222222,
                            "#7201a8"
                          ],
                          [
                            0.3333333333333333,
                            "#9c179e"
                          ],
                          [
                            0.4444444444444444,
                            "#bd3786"
                          ],
                          [
                            0.5555555555555556,
                            "#d8576b"
                          ],
                          [
                            0.6666666666666666,
                            "#ed7953"
                          ],
                          [
                            0.7777777777777778,
                            "#fb9f3a"
                          ],
                          [
                            0.8888888888888888,
                            "#fdca26"
                          ],
                          [
                            1,
                            "#f0f921"
                          ]
                        ],
                        "type": "histogram2d"
                      }
                    ],
                    "histogram2dcontour": [
                      {
                        "colorbar": {
                          "outlinewidth": 0,
                          "ticks": ""
                        },
                        "colorscale": [
                          [
                            0,
                            "#0d0887"
                          ],
                          [
                            0.1111111111111111,
                            "#46039f"
                          ],
                          [
                            0.2222222222222222,
                            "#7201a8"
                          ],
                          [
                            0.3333333333333333,
                            "#9c179e"
                          ],
                          [
                            0.4444444444444444,
                            "#bd3786"
                          ],
                          [
                            0.5555555555555556,
                            "#d8576b"
                          ],
                          [
                            0.6666666666666666,
                            "#ed7953"
                          ],
                          [
                            0.7777777777777778,
                            "#fb9f3a"
                          ],
                          [
                            0.8888888888888888,
                            "#fdca26"
                          ],
                          [
                            1,
                            "#f0f921"
                          ]
                        ],
                        "type": "histogram2dcontour"
                      }
                    ],
                    "mesh3d": [
                      {
                        "colorbar": {
                          "outlinewidth": 0,
                          "ticks": ""
                        },
                        "type": "mesh3d"
                      }
                    ],
                    "parcoords": [
                      {
                        "line": {
                          "colorbar": {
                            "outlinewidth": 0,
                            "ticks": ""
                          }
                        },
                        "type": "parcoords"
                      }
                    ],
                    "pie": [
                      {
                        "automargin": true,
                        "type": "pie"
                      }
                    ],
                    "scatter": [
                      {
                        "fillpattern": {
                          "fillmode": "overlay",
                          "size": 10,
                          "solidity": 0.2
                        },
                        "type": "scatter"
                      }
                    ],
                    "scatter3d": [
                      {
                        "line": {
                          "colorbar": {
                            "outlinewidth": 0,
                            "ticks": ""
                          }
                        },
                        "marker": {
                          "colorbar": {
                            "outlinewidth": 0,
                            "ticks": ""
                          }
                        },
                        "type": "scatter3d"
                      }
                    ],
                    "scattercarpet": [
                      {
                        "marker": {
                          "colorbar": {
                            "outlinewidth": 0,
                            "ticks": ""
                          }
                        },
                        "type": "scattercarpet"
                      }
                    ],
                    "scattergeo": [
                      {
                        "marker": {
                          "colorbar": {
                            "outlinewidth": 0,
                            "ticks": ""
                          }
                        },
                        "type": "scattergeo"
                      }
                    ],
                    "scattergl": [
                      {
                        "marker": {
                          "colorbar": {
                            "outlinewidth": 0,
                            "ticks": ""
                          }
                        },
                        "type": "scattergl"
                      }
                    ],
                    "scattermapbox": [
                      {
                        "marker": {
                          "colorbar": {
                            "outlinewidth": 0,
                            "ticks": ""
                          }
                        },
                        "type": "scattermapbox"
                      }
                    ],
                    "scatterpolar": [
                      {
                        "marker": {
                          "colorbar": {
                            "outlinewidth": 0,
                            "ticks": ""
                          }
                        },
                        "type": "scatterpolar"
                      }
                    ],
                    "scatterpolargl": [
                      {
                        "marker": {
                          "colorbar": {
                            "outlinewidth": 0,
                            "ticks": ""
                          }
                        },
                        "type": "scatterpolargl"
                      }
                    ],
                    "scatterternary": [
                      {
                        "marker": {
                          "colorbar": {
                            "outlinewidth": 0,
                            "ticks": ""
                          }
                        },
                        "type": "scatterternary"
                      }
                    ],
                    "surface": [
                      {
                        "colorbar": {
                          "outlinewidth": 0,
                          "ticks": ""
                        },
                        "colorscale": [
                          [
                            0,
                            "#0d0887"
                          ],
                          [
                            0.1111111111111111,
                            "#46039f"
                          ],
                          [
                            0.2222222222222222,
                            "#7201a8"
                          ],
                          [
                            0.3333333333333333,
                            "#9c179e"
                          ],
                          [
                            0.4444444444444444,
                            "#bd3786"
                          ],
                          [
                            0.5555555555555556,
                            "#d8576b"
                          ],
                          [
                            0.6666666666666666,
                            "#ed7953"
                          ],
                          [
                            0.7777777777777778,
                            "#fb9f3a"
                          ],
                          [
                            0.8888888888888888,
                            "#fdca26"
                          ],
                          [
                            1,
                            "#f0f921"
                          ]
                        ],
                        "type": "surface"
                      }
                    ],
                    "table": [
                      {
                        "cells": {
                          "fill": {
                            "color": "#EBF0F8"
                          },
                          "line": {
                            "color": "white"
                          }
                        },
                        "header": {
                          "fill": {
                            "color": "#C8D4E3"
                          },
                          "line": {
                            "color": "white"
                          }
                        },
                        "type": "table"
                      }
                    ]
                  },
                  "layout": {
                    "annotationdefaults": {
                      "arrowcolor": "#2a3f5f",
                      "arrowhead": 0,
                      "arrowwidth": 1
                    },
                    "autotypenumbers": "strict",
                    "coloraxis": {
                      "colorbar": {
                        "outlinewidth": 0,
                        "ticks": ""
                      }
                    },
                    "colorscale": {
                      "diverging": [
                        [
                          0,
                          "#8e0152"
                        ],
                        [
                          0.1,
                          "#c51b7d"
                        ],
                        [
                          0.2,
                          "#de77ae"
                        ],
                        [
                          0.3,
                          "#f1b6da"
                        ],
                        [
                          0.4,
                          "#fde0ef"
                        ],
                        [
                          0.5,
                          "#f7f7f7"
                        ],
                        [
                          0.6,
                          "#e6f5d0"
                        ],
                        [
                          0.7,
                          "#b8e186"
                        ],
                        [
                          0.8,
                          "#7fbc41"
                        ],
                        [
                          0.9,
                          "#4d9221"
                        ],
                        [
                          1,
                          "#276419"
                        ]
                      ],
                      "sequential": [
                        [
                          0,
                          "#0d0887"
                        ],
                        [
                          0.1111111111111111,
                          "#46039f"
                        ],
                        [
                          0.2222222222222222,
                          "#7201a8"
                        ],
                        [
                          0.3333333333333333,
                          "#9c179e"
                        ],
                        [
                          0.4444444444444444,
                          "#bd3786"
                        ],
                        [
                          0.5555555555555556,
                          "#d8576b"
                        ],
                        [
                          0.6666666666666666,
                          "#ed7953"
                        ],
                        [
                          0.7777777777777778,
                          "#fb9f3a"
                        ],
                        [
                          0.8888888888888888,
                          "#fdca26"
                        ],
                        [
                          1,
                          "#f0f921"
                        ]
                      ],
                      "sequentialminus": [
                        [
                          0,
                          "#0d0887"
                        ],
                        [
                          0.1111111111111111,
                          "#46039f"
                        ],
                        [
                          0.2222222222222222,
                          "#7201a8"
                        ],
                        [
                          0.3333333333333333,
                          "#9c179e"
                        ],
                        [
                          0.4444444444444444,
                          "#bd3786"
                        ],
                        [
                          0.5555555555555556,
                          "#d8576b"
                        ],
                        [
                          0.6666666666666666,
                          "#ed7953"
                        ],
                        [
                          0.7777777777777778,
                          "#fb9f3a"
                        ],
                        [
                          0.8888888888888888,
                          "#fdca26"
                        ],
                        [
                          1,
                          "#f0f921"
                        ]
                      ]
                    },
                    "colorway": [
                      "#636efa",
                      "#EF553B",
                      "#00cc96",
                      "#ab63fa",
                      "#FFA15A",
                      "#19d3f3",
                      "#FF6692",
                      "#B6E880",
                      "#FF97FF",
                      "#FECB52"
                    ],
                    "font": {
                      "color": "#2a3f5f"
                    },
                    "geo": {
                      "bgcolor": "white",
                      "lakecolor": "white",
                      "landcolor": "#E5ECF6",
                      "showlakes": true,
                      "showland": true,
                      "subunitcolor": "white"
                    },
                    "hoverlabel": {
                      "align": "left"
                    },
                    "hovermode": "closest",
                    "mapbox": {
                      "style": "light"
                    },
                    "paper_bgcolor": "white",
                    "plot_bgcolor": "#E5ECF6",
                    "polar": {
                      "angularaxis": {
                        "gridcolor": "white",
                        "linecolor": "white",
                        "ticks": ""
                      },
                      "bgcolor": "#E5ECF6",
                      "radialaxis": {
                        "gridcolor": "white",
                        "linecolor": "white",
                        "ticks": ""
                      }
                    },
                    "scene": {
                      "xaxis": {
                        "backgroundcolor": "#E5ECF6",
                        "gridcolor": "white",
                        "gridwidth": 2,
                        "linecolor": "white",
                        "showbackground": true,
                        "ticks": "",
                        "zerolinecolor": "white"
                      },
                      "yaxis": {
                        "backgroundcolor": "#E5ECF6",
                        "gridcolor": "white",
                        "gridwidth": 2,
                        "linecolor": "white",
                        "showbackground": true,
                        "ticks": "",
                        "zerolinecolor": "white"
                      },
                      "zaxis": {
                        "backgroundcolor": "#E5ECF6",
                        "gridcolor": "white",
                        "gridwidth": 2,
                        "linecolor": "white",
                        "showbackground": true,
                        "ticks": "",
                        "zerolinecolor": "white"
                      }
                    },
                    "shapedefaults": {
                      "line": {
                        "color": "#2a3f5f"
                      }
                    },
                    "ternary": {
                      "aaxis": {
                        "gridcolor": "white",
                        "linecolor": "white",
                        "ticks": ""
                      },
                      "baxis": {
                        "gridcolor": "white",
                        "linecolor": "white",
                        "ticks": ""
                      },
                      "bgcolor": "#E5ECF6",
                      "caxis": {
                        "gridcolor": "white",
                        "linecolor": "white",
                        "ticks": ""
                      }
                    },
                    "title": {
                      "x": 0.05
                    },
                    "xaxis": {
                      "automargin": true,
                      "gridcolor": "white",
                      "linecolor": "white",
                      "ticks": "",
                      "title": {
                        "standoff": 15
                      },
                      "zerolinecolor": "white",
                      "zerolinewidth": 2
                    },
                    "yaxis": {
                      "automargin": true,
                      "gridcolor": "white",
                      "linecolor": "white",
                      "ticks": "",
                      "title": {
                        "standoff": 15
                      },
                      "zerolinecolor": "white",
                      "zerolinewidth": 2
                    }
                  }
                },
                "title": {
                  "font": {
                    "size": 24
                  },
                  "text": "MT Bench",
                  "x": 0.5,
                  "xanchor": "center",
                  "y": 0.98,
                  "yanchor": "top"
                }
              }
            },
            "text/html": [
              "<div>                            <div id=\"822ea316-28f5-4731-ab3e-bcf71eff4efb\" class=\"plotly-graph-div\" style=\"height:525px; width:100%;\"></div>            <script type=\"text/javascript\">                require([\"plotly\"], function(Plotly) {                    window.PLOTLYENV=window.PLOTLYENV || {};                                    if (document.getElementById(\"822ea316-28f5-4731-ab3e-bcf71eff4efb\")) {                    Plotly.newPlot(                        \"822ea316-28f5-4731-ab3e-bcf71eff4efb\",                        [{\"hovertemplate\":\"model=Mistral 7B Instruct-v0.1\\u003cbr\\u003escore=%{r}\\u003cbr\\u003ecategory=%{theta}\\u003cextra\\u003e\\u003c\\u002fextra\\u003e\",\"legendgroup\":\"Mistral 7B Instruct-v0.1\",\"line\":{\"color\":\"#4C78A8\",\"dash\":\"solid\"},\"marker\":{\"symbol\":\"circle\"},\"mode\":\"lines+markers\",\"name\":\"Mistral 7B Instruct-v0.1\",\"r\":[8.55,7.65,5.8,4.1,3.7,6.85,7.65,8.85,8.55],\"showlegend\":true,\"subplot\":\"polar\",\"theta\":[\"Writing\",\"Roleplay\",\"Reasoning\",\"Math\",\"Coding\",\"Extraction\",\"STEM\",\"Humanities\",\"Writing\"],\"type\":\"scatterpolar\"},{\"hovertemplate\":\"model=Zamba2 2.7B instruct\\u003cbr\\u003escore=%{r}\\u003cbr\\u003ecategory=%{theta}\\u003cextra\\u003e\\u003c\\u002fextra\\u003e\",\"legendgroup\":\"Zamba2 2.7B instruct\",\"line\":{\"color\":\"#F58518\",\"dash\":\"solid\"},\"marker\":{\"symbol\":\"circle\"},\"mode\":\"lines+markers\",\"name\":\"Zamba2 2.7B instruct\",\"r\":[8.8,8.2,6.35,6.75,3.35,6.0,9.2,9.325,8.8],\"showlegend\":true,\"subplot\":\"polar\",\"theta\":[\"Writing\",\"Roleplay\",\"Reasoning\",\"Math\",\"Coding\",\"Extraction\",\"STEM\",\"Humanities\",\"Writing\"],\"type\":\"scatterpolar\"},{\"hovertemplate\":\"model=Gemma2 2.6B instruct\\u003cbr\\u003escore=%{r}\\u003cbr\\u003ecategory=%{theta}\\u003cextra\\u003e\\u003c\\u002fextra\\u003e\",\"legendgroup\":\"Gemma2 2.6B instruct\",\"line\":{\"color\":\"#E45756\",\"dash\":\"solid\"},\"marker\":{\"symbol\":\"circle\"},\"mode\":\"lines+markers\",\"name\":\"Gemma2 2.6B instruct\",\"r\":[8.225,7.125,4.75,3.45,2.473684210526316,2.1,6.65,6.45,8.225],\"showlegend\":true,\"subplot\":\"polar\",\"theta\":[\"Writing\",\"Roleplay\",\"Reasoning\",\"Math\",\"Coding\",\"Extraction\",\"STEM\",\"Humanities\",\"Writing\"],\"type\":\"scatterpolar\"}],                        {\"template\":{\"data\":{\"histogram2dcontour\":[{\"type\":\"histogram2dcontour\",\"colorbar\":{\"outlinewidth\":0,\"ticks\":\"\"},\"colorscale\":[[0.0,\"#0d0887\"],[0.1111111111111111,\"#46039f\"],[0.2222222222222222,\"#7201a8\"],[0.3333333333333333,\"#9c179e\"],[0.4444444444444444,\"#bd3786\"],[0.5555555555555556,\"#d8576b\"],[0.6666666666666666,\"#ed7953\"],[0.7777777777777778,\"#fb9f3a\"],[0.8888888888888888,\"#fdca26\"],[1.0,\"#f0f921\"]]}],\"choropleth\":[{\"type\":\"choropleth\",\"colorbar\":{\"outlinewidth\":0,\"ticks\":\"\"}}],\"histogram2d\":[{\"type\":\"histogram2d\",\"colorbar\":{\"outlinewidth\":0,\"ticks\":\"\"},\"colorscale\":[[0.0,\"#0d0887\"],[0.1111111111111111,\"#46039f\"],[0.2222222222222222,\"#7201a8\"],[0.3333333333333333,\"#9c179e\"],[0.4444444444444444,\"#bd3786\"],[0.5555555555555556,\"#d8576b\"],[0.6666666666666666,\"#ed7953\"],[0.7777777777777778,\"#fb9f3a\"],[0.8888888888888888,\"#fdca26\"],[1.0,\"#f0f921\"]]}],\"heatmap\":[{\"type\":\"heatmap\",\"colorbar\":{\"outlinewidth\":0,\"ticks\":\"\"},\"colorscale\":[[0.0,\"#0d0887\"],[0.1111111111111111,\"#46039f\"],[0.2222222222222222,\"#7201a8\"],[0.3333333333333333,\"#9c179e\"],[0.4444444444444444,\"#bd3786\"],[0.5555555555555556,\"#d8576b\"],[0.6666666666666666,\"#ed7953\"],[0.7777777777777778,\"#fb9f3a\"],[0.8888888888888888,\"#fdca26\"],[1.0,\"#f0f921\"]]}],\"heatmapgl\":[{\"type\":\"heatmapgl\",\"colorbar\":{\"outlinewidth\":0,\"ticks\":\"\"},\"colorscale\":[[0.0,\"#0d0887\"],[0.1111111111111111,\"#46039f\"],[0.2222222222222222,\"#7201a8\"],[0.3333333333333333,\"#9c179e\"],[0.4444444444444444,\"#bd3786\"],[0.5555555555555556,\"#d8576b\"],[0.6666666666666666,\"#ed7953\"],[0.7777777777777778,\"#fb9f3a\"],[0.8888888888888888,\"#fdca26\"],[1.0,\"#f0f921\"]]}],\"contourcarpet\":[{\"type\":\"contourcarpet\",\"colorbar\":{\"outlinewidth\":0,\"ticks\":\"\"}}],\"contour\":[{\"type\":\"contour\",\"colorbar\":{\"outlinewidth\":0,\"ticks\":\"\"},\"colorscale\":[[0.0,\"#0d0887\"],[0.1111111111111111,\"#46039f\"],[0.2222222222222222,\"#7201a8\"],[0.3333333333333333,\"#9c179e\"],[0.4444444444444444,\"#bd3786\"],[0.5555555555555556,\"#d8576b\"],[0.6666666666666666,\"#ed7953\"],[0.7777777777777778,\"#fb9f3a\"],[0.8888888888888888,\"#fdca26\"],[1.0,\"#f0f921\"]]}],\"surface\":[{\"type\":\"surface\",\"colorbar\":{\"outlinewidth\":0,\"ticks\":\"\"},\"colorscale\":[[0.0,\"#0d0887\"],[0.1111111111111111,\"#46039f\"],[0.2222222222222222,\"#7201a8\"],[0.3333333333333333,\"#9c179e\"],[0.4444444444444444,\"#bd3786\"],[0.5555555555555556,\"#d8576b\"],[0.6666666666666666,\"#ed7953\"],[0.7777777777777778,\"#fb9f3a\"],[0.8888888888888888,\"#fdca26\"],[1.0,\"#f0f921\"]]}],\"mesh3d\":[{\"type\":\"mesh3d\",\"colorbar\":{\"outlinewidth\":0,\"ticks\":\"\"}}],\"scatter\":[{\"fillpattern\":{\"fillmode\":\"overlay\",\"size\":10,\"solidity\":0.2},\"type\":\"scatter\"}],\"parcoords\":[{\"type\":\"parcoords\",\"line\":{\"colorbar\":{\"outlinewidth\":0,\"ticks\":\"\"}}}],\"scatterpolargl\":[{\"type\":\"scatterpolargl\",\"marker\":{\"colorbar\":{\"outlinewidth\":0,\"ticks\":\"\"}}}],\"bar\":[{\"error_x\":{\"color\":\"#2a3f5f\"},\"error_y\":{\"color\":\"#2a3f5f\"},\"marker\":{\"line\":{\"color\":\"#E5ECF6\",\"width\":0.5},\"pattern\":{\"fillmode\":\"overlay\",\"size\":10,\"solidity\":0.2}},\"type\":\"bar\"}],\"scattergeo\":[{\"type\":\"scattergeo\",\"marker\":{\"colorbar\":{\"outlinewidth\":0,\"ticks\":\"\"}}}],\"scatterpolar\":[{\"type\":\"scatterpolar\",\"marker\":{\"colorbar\":{\"outlinewidth\":0,\"ticks\":\"\"}}}],\"histogram\":[{\"marker\":{\"pattern\":{\"fillmode\":\"overlay\",\"size\":10,\"solidity\":0.2}},\"type\":\"histogram\"}],\"scattergl\":[{\"type\":\"scattergl\",\"marker\":{\"colorbar\":{\"outlinewidth\":0,\"ticks\":\"\"}}}],\"scatter3d\":[{\"type\":\"scatter3d\",\"line\":{\"colorbar\":{\"outlinewidth\":0,\"ticks\":\"\"}},\"marker\":{\"colorbar\":{\"outlinewidth\":0,\"ticks\":\"\"}}}],\"scattermapbox\":[{\"type\":\"scattermapbox\",\"marker\":{\"colorbar\":{\"outlinewidth\":0,\"ticks\":\"\"}}}],\"scatterternary\":[{\"type\":\"scatterternary\",\"marker\":{\"colorbar\":{\"outlinewidth\":0,\"ticks\":\"\"}}}],\"scattercarpet\":[{\"type\":\"scattercarpet\",\"marker\":{\"colorbar\":{\"outlinewidth\":0,\"ticks\":\"\"}}}],\"carpet\":[{\"aaxis\":{\"endlinecolor\":\"#2a3f5f\",\"gridcolor\":\"white\",\"linecolor\":\"white\",\"minorgridcolor\":\"white\",\"startlinecolor\":\"#2a3f5f\"},\"baxis\":{\"endlinecolor\":\"#2a3f5f\",\"gridcolor\":\"white\",\"linecolor\":\"white\",\"minorgridcolor\":\"white\",\"startlinecolor\":\"#2a3f5f\"},\"type\":\"carpet\"}],\"table\":[{\"cells\":{\"fill\":{\"color\":\"#EBF0F8\"},\"line\":{\"color\":\"white\"}},\"header\":{\"fill\":{\"color\":\"#C8D4E3\"},\"line\":{\"color\":\"white\"}},\"type\":\"table\"}],\"barpolar\":[{\"marker\":{\"line\":{\"color\":\"#E5ECF6\",\"width\":0.5},\"pattern\":{\"fillmode\":\"overlay\",\"size\":10,\"solidity\":0.2}},\"type\":\"barpolar\"}],\"pie\":[{\"automargin\":true,\"type\":\"pie\"}]},\"layout\":{\"autotypenumbers\":\"strict\",\"colorway\":[\"#636efa\",\"#EF553B\",\"#00cc96\",\"#ab63fa\",\"#FFA15A\",\"#19d3f3\",\"#FF6692\",\"#B6E880\",\"#FF97FF\",\"#FECB52\"],\"font\":{\"color\":\"#2a3f5f\"},\"hovermode\":\"closest\",\"hoverlabel\":{\"align\":\"left\"},\"paper_bgcolor\":\"white\",\"plot_bgcolor\":\"#E5ECF6\",\"polar\":{\"bgcolor\":\"#E5ECF6\",\"angularaxis\":{\"gridcolor\":\"white\",\"linecolor\":\"white\",\"ticks\":\"\"},\"radialaxis\":{\"gridcolor\":\"white\",\"linecolor\":\"white\",\"ticks\":\"\"}},\"ternary\":{\"bgcolor\":\"#E5ECF6\",\"aaxis\":{\"gridcolor\":\"white\",\"linecolor\":\"white\",\"ticks\":\"\"},\"baxis\":{\"gridcolor\":\"white\",\"linecolor\":\"white\",\"ticks\":\"\"},\"caxis\":{\"gridcolor\":\"white\",\"linecolor\":\"white\",\"ticks\":\"\"}},\"coloraxis\":{\"colorbar\":{\"outlinewidth\":0,\"ticks\":\"\"}},\"colorscale\":{\"sequential\":[[0.0,\"#0d0887\"],[0.1111111111111111,\"#46039f\"],[0.2222222222222222,\"#7201a8\"],[0.3333333333333333,\"#9c179e\"],[0.4444444444444444,\"#bd3786\"],[0.5555555555555556,\"#d8576b\"],[0.6666666666666666,\"#ed7953\"],[0.7777777777777778,\"#fb9f3a\"],[0.8888888888888888,\"#fdca26\"],[1.0,\"#f0f921\"]],\"sequentialminus\":[[0.0,\"#0d0887\"],[0.1111111111111111,\"#46039f\"],[0.2222222222222222,\"#7201a8\"],[0.3333333333333333,\"#9c179e\"],[0.4444444444444444,\"#bd3786\"],[0.5555555555555556,\"#d8576b\"],[0.6666666666666666,\"#ed7953\"],[0.7777777777777778,\"#fb9f3a\"],[0.8888888888888888,\"#fdca26\"],[1.0,\"#f0f921\"]],\"diverging\":[[0,\"#8e0152\"],[0.1,\"#c51b7d\"],[0.2,\"#de77ae\"],[0.3,\"#f1b6da\"],[0.4,\"#fde0ef\"],[0.5,\"#f7f7f7\"],[0.6,\"#e6f5d0\"],[0.7,\"#b8e186\"],[0.8,\"#7fbc41\"],[0.9,\"#4d9221\"],[1,\"#276419\"]]},\"xaxis\":{\"gridcolor\":\"white\",\"linecolor\":\"white\",\"ticks\":\"\",\"title\":{\"standoff\":15},\"zerolinecolor\":\"white\",\"automargin\":true,\"zerolinewidth\":2},\"yaxis\":{\"gridcolor\":\"white\",\"linecolor\":\"white\",\"ticks\":\"\",\"title\":{\"standoff\":15},\"zerolinecolor\":\"white\",\"automargin\":true,\"zerolinewidth\":2},\"scene\":{\"xaxis\":{\"backgroundcolor\":\"#E5ECF6\",\"gridcolor\":\"white\",\"linecolor\":\"white\",\"showbackground\":true,\"ticks\":\"\",\"zerolinecolor\":\"white\",\"gridwidth\":2},\"yaxis\":{\"backgroundcolor\":\"#E5ECF6\",\"gridcolor\":\"white\",\"linecolor\":\"white\",\"showbackground\":true,\"ticks\":\"\",\"zerolinecolor\":\"white\",\"gridwidth\":2},\"zaxis\":{\"backgroundcolor\":\"#E5ECF6\",\"gridcolor\":\"white\",\"linecolor\":\"white\",\"showbackground\":true,\"ticks\":\"\",\"zerolinecolor\":\"white\",\"gridwidth\":2}},\"shapedefaults\":{\"line\":{\"color\":\"#2a3f5f\"}},\"annotationdefaults\":{\"arrowcolor\":\"#2a3f5f\",\"arrowhead\":0,\"arrowwidth\":1},\"geo\":{\"bgcolor\":\"white\",\"landcolor\":\"#E5ECF6\",\"subunitcolor\":\"white\",\"showland\":true,\"showlakes\":true,\"lakecolor\":\"white\"},\"title\":{\"x\":0.05},\"mapbox\":{\"style\":\"light\"}}},\"polar\":{\"domain\":{\"x\":[0.0,1.0],\"y\":[0.0,1.0]},\"angularaxis\":{\"direction\":\"clockwise\",\"rotation\":90,\"categoryorder\":\"array\",\"categoryarray\":[\"Writing\",\"Roleplay\",\"Reasoning\",\"Math\",\"Coding\",\"Extraction\",\"STEM\",\"Humanities\"]}},\"legend\":{\"title\":{},\"tracegroupgap\":0,\"orientation\":\"h\",\"y\":-0.2,\"x\":0.5,\"xanchor\":\"center\",\"yanchor\":\"top\",\"itemwidth\":50,\"traceorder\":\"normal\"},\"margin\":{\"t\":60},\"title\":{\"font\":{\"size\":24},\"text\":\"MT Bench\",\"x\":0.5,\"y\":0.98,\"xanchor\":\"center\",\"yanchor\":\"top\"}},                        {\"responsive\": true}                    ).then(function(){\n",
              "                            \n",
              "var gd = document.getElementById('822ea316-28f5-4731-ab3e-bcf71eff4efb');\n",
              "var x = new MutationObserver(function (mutations, observer) {{\n",
              "        var display = window.getComputedStyle(gd).display;\n",
              "        if (!display || display === 'none') {{\n",
              "            console.log([gd, 'removed!']);\n",
              "            Plotly.purge(gd);\n",
              "            observer.disconnect();\n",
              "        }}\n",
              "}});\n",
              "\n",
              "// Listen for the removal of the full notebook cells\n",
              "var notebookContainer = gd.closest('#notebook-container');\n",
              "if (notebookContainer) {{\n",
              "    x.observe(notebookContainer, {childList: true});\n",
              "}}\n",
              "\n",
              "// Listen for the clearing of the current output cell\n",
              "var outputEl = gd.closest('.output');\n",
              "if (outputEl) {{\n",
              "    x.observe(outputEl, {childList: true});\n",
              "}}\n",
              "\n",
              "                        })                };                });            </script>        </div>"
            ]
          },
          "metadata": {},
          "output_type": "display_data"
        }
      ],
      "source": [
        "import json\n",
        "import pandas as pd\n",
        "import plotly.express as px\n",
        "import plotly.graph_objects as go\n",
        "\n",
        "\n",
        "CATEGORIES = [\"Writing\", \"Roleplay\", \"Reasoning\", \"Math\", \"Coding\", \"Extraction\", \"STEM\", \"Humanities\"]\n",
        "\n",
        "\n",
        "def get_model_df():\n",
        "    cnt = 0\n",
        "    q2result = []\n",
        "    fin = open(\"/workspace/FastChat/fastchat/llm_judge/data/mt_bench/model_judgment/gpt-4_single.jsonl\", \"r\")\n",
        "    for line in fin:\n",
        "        obj = json.loads(line)\n",
        "        obj[\"category\"] = CATEGORIES[(obj[\"question_id\"]-81)//10]\n",
        "        q2result.append(obj)\n",
        "    df = pd.DataFrame(q2result)\n",
        "    return df\n",
        "\n",
        "def toggle(res_str):\n",
        "    if res_str == \"win\":\n",
        "        return \"loss\"\n",
        "    elif res_str == \"loss\":\n",
        "        return \"win\"\n",
        "    return \"tie\"\n",
        "\n",
        "def get_model_df_pair():\n",
        "    fin = open(\"gpt-4_pair.jsonl\", \"r\")\n",
        "    cnt = 0\n",
        "    q2result = []\n",
        "    for line in fin:\n",
        "        obj = json.loads(line)\n",
        "\n",
        "        result = {}\n",
        "        result[\"qid\"] = str(obj[\"question_id\"])\n",
        "        result[\"turn\"] = str(obj[\"turn\"])\n",
        "        if obj[\"g1_winner\"] == \"model_1\" and obj[\"g2_winner\"] == \"model_1\":\n",
        "            result[\"result\"] = \"win\"\n",
        "        elif obj[\"g1_winner\"] == \"model_2\" and obj[\"g2_winner\"] == \"model_2\":\n",
        "            result[\"result\"] = \"loss\"\n",
        "        else:\n",
        "            result[\"result\"] = \"tie\"\n",
        "        result[\"category\"] = CATEGORIES[(obj[\"question_id\"]-81)//10]\n",
        "        result[\"model\"] = obj[\"model_1\"]\n",
        "        q2result.append(result)\n",
        "\n",
        "    df = pd.DataFrame(q2result)\n",
        "\n",
        "    return df\n",
        "\n",
        "df = get_model_df()\n",
        "df_pair = get_model_df_pair()\n",
        "\n",
        "\n",
        "all_models = df[\"model\"].unique()\n",
        "print(all_models)\n",
        "scores_all = []\n",
        "for model in all_models:\n",
        "    for cat in CATEGORIES:\n",
        "        # filter category/model, and score format error (<1% case)\n",
        "        res = df[(df[\"category\"]==cat) & (df[\"model\"]==model) & (df[\"score\"] >= 0)]\n",
        "        score = res[\"score\"].mean()\n",
        "\n",
        "\n",
        "        # scores_all.append({\"model\": model, \"category\": cat, \"score\": score, \"winrate\": winrate, \"wtrate\": winrate_adjusted})\n",
        "        scores_all.append({\"model\": model, \"category\": cat, \"score\": score})\n",
        "        \n",
        "        \n",
        "        \n",
        "# target_models = [\"Llama-2-7b-chat\", \"Llama-2-13b-chat\", \"Llama-2-70b-chat\", \"gpt-3.5-turbo\", \"claude-v1\", \"gpt-4\"]\n",
        "\n",
        "target_models = ['instr_release_ultrafeedback_batch32_rejected_fully_from_zamba_round3',\n",
        " 'nstr_release_ultrafeedback_batch32_rejected_fully_from_zamba_round2',\n",
        " 'instr_release_ultrafeedback_infinfstruct_batch32_with_actual_mix_infinstr_ultrachat',\n",
        " 'instr_release_ultrafeedback_batch32_rejected_half_from_zamba_round3',\n",
        " 'instr_release_ultrafeedback_infinfstruct_batch32_with_actual_mix_infinstr_ultrachat_round3',\n",
        " 'instr_release_ultrafeedback_batch32_rejected_fully_from_zamba',\n",
        " 'instr_release_ultrafeedback_batch32_rejected_half_from_zamba_round2',\n",
        " 'instr_release_ultrafeedback_infinfstruct_batch32_with_actual_mix_infinstr_ultrachat_round2',\n",
        " 'instr_release_ultrafeedback_batch32_rejected_half_from_zamba',\n",
        " 'gemma-2-2b-it', 'ultrafeedback_openhermespref_orcadoppairs_4epochs',\n",
        " 'ultrafeedback_openhermespref_orcadoppairs_1epoch',\n",
        " 'ultrafeedback_openhermespref_orcadoppairs_1epoch_then_2epochs',\n",
        " 'ultrafeedback_openhermespref_orcadoppairs_1epoch_then_2epochs_then_1epoch',\n",
        " 'HuggingFaceTB_SmolLM-1.7B-Instruct', 'microsoft_Phi-3-mini-4k-instruct',\n",
        " 'Qwen_Qwen2-1.5B-Instruct', 'stabilityai_stablelm-2-1_6b-chat',\n",
        " 'microsoft_Phi-3.5-mini-instruct', 'h2oai_h2o-danube3-4b-chat',\n",
        " 'stabilityai_stablelm-zephyr-3b', 'h2oai_h2o-danube2-1.8b-chat',\n",
        " 'mistralai_Mistral-7B-Instruct-v0.1']\n",
        "\n",
        "\n",
        "\n",
        "scores_target = [scores_all[i] for i in range(len(scores_all)) if scores_all[i][\"model\"] in target_models]\n",
        "\n",
        "# sort by target_models\n",
        "scores_target = sorted(scores_target, key=lambda x: target_models.index(x[\"model\"]), reverse=True)\n",
        "\n",
        "df_score = pd.DataFrame(scores_target)\n",
        "\n",
        "\n",
        "# Drop specific models using DataFrame.drop()\n",
        "models_to_drop = ['instr_release_ultrafeedback_batch32_rejected_fully_from_zamba_round3',\n",
        " 'nstr_release_ultrafeedback_batch32_rejected_fully_from_zamba_round2',\n",
        " 'instr_release_ultrafeedback_infinfstruct_batch32_with_actual_mix_infinstr_ultrachat',\n",
        " 'instr_release_ultrafeedback_batch32_rejected_half_from_zamba_round3',\n",
        " 'instr_release_ultrafeedback_infinfstruct_batch32_with_actual_mix_infinstr_ultrachat_round3',\n",
        " 'instr_release_ultrafeedback_batch32_rejected_fully_from_zamba',\n",
        " 'instr_release_ultrafeedback_batch32_rejected_half_from_zamba_round2',\n",
        " 'instr_release_ultrafeedback_infinfstruct_batch32_with_actual_mix_infinstr_ultrachat_round2',\n",
        " 'instr_release_ultrafeedback_batch32_rejected_half_from_zamba',\n",
        " 'ultrafeedback_openhermespref_orcadoppairs_4epochs',\n",
        " 'ultrafeedback_openhermespref_orcadoppairs_1epoch',\n",
        " 'ultrafeedback_openhermespref_orcadoppairs_1epoch_then_2epochs_then_1epoch',\n",
        " 'Qwen_Qwen2-1.5B-Instruct',\n",
        " 'HuggingFaceTB_SmolLM-1.7B-Instruct', 'microsoft_Phi-3-mini-4k-instruct',\n",
        " 'stabilityai_stablelm-2-1_6b-chat',\n",
        " 'microsoft_Phi-3.5-mini-instruct', 'h2oai_h2o-danube3-4b-chat',\n",
        " 'stabilityai_stablelm-zephyr-3b', \n",
        " 'h2oai_h2o-danube2-1.8b-chat']\n",
        "#  'zamba2_1B_ultrafeedback_openhermespref_orcadoppairs_1epoch_then_1epoch_then_1epoch']\n",
        "\n",
        "# Filter out the models to drop\n",
        "df_score = df_score[~df_score['model'].isin(models_to_drop)]\n",
        "\n",
        "rename_map = {'gemma-2-2b-it': 'Gemma2 2.6B instruct',\n",
        "              'ultrafeedback_openhermespref_orcadoppairs_1epoch_then_2epochs': \"Zamba2 2.7B instruct\",\n",
        "              \"h2oai_h2o-danube3-4b-chat\": \"h2o-danube3-4b-chat\",\n",
        "              \"microsoft_Phi-3-mini-4k-instruct\": \"Phi-3-mini-4k-instruct\",\n",
        "              \"microsoft_Phi-3.5-mini-instruct\": \"Phi-3.5-mini-instruct\",\n",
        "              'stabilityai_stablelm-zephyr-3b': 'stablelm-zephyr-3b',\n",
        "              'mistralai_Mistral-7B-Instruct-v0.1': 'Mistral 7B Instruct-v0.1'\n",
        "              }\n",
        "\n",
        "for k, v in rename_map.items():\n",
        "    df_score.replace(k, v, inplace=True)\n",
        "\n",
        "# # Plot the updated DataFrame\n",
        "# fig = px.line_polar(df_score, r='score', theta='category', line_close=True, category_orders={\"category\": CATEGORIES},\n",
        "#                     color='model', markers=True, color_discrete_sequence=px.colors.qualitative.T10,)\n",
        "\n",
        "fig = px.line_polar(df_score, r='score', theta='category', line_close=True, category_orders={\"category\": CATEGORIES},\n",
        "                    color='model', markers=True, color_discrete_sequence=px.colors.qualitative.T10)\n",
        "\n",
        "# Add an overall centered title to the plot and adjust the legend\n",
        "fig.update_layout(\n",
        "    title={\n",
        "        'text': 'MT Bench',\n",
        "        'x': 0.5,\n",
        "        'y': 0.98,\n",
        "        'xanchor': 'center',\n",
        "        'yanchor': 'top',\n",
        "        'font': dict(size=24)\n",
        "    },\n",
        "    legend=dict(\n",
        "        title_text=None,  # Remove the title of the legend\n",
        "        orientation='h',  # Horizontal legend\n",
        "        y=-0.2,  # Position the legend below the plot\n",
        "        x=0.5,  # Center the legend horizontally\n",
        "        xanchor='center',\n",
        "        yanchor='top',\n",
        "        itemwidth=50,  # Adjust the width of each legend item\n",
        "        traceorder='normal'\n",
        "    )\n",
        ")\n",
        "\n",
        "\n",
        "fig.show()"
      ]
    },
    {
      "cell_type": "code",
      "execution_count": 125,
      "metadata": {},
      "outputs": [
        {
          "data": {
            "application/vnd.plotly.v1+json": {
              "config": {
                "plotlyServerURL": "https://plot.ly"
              },
              "data": [
                {
                  "alignmentgroup": "True",
                  "hovertemplate": "model=Gemma2 2.6B instruct<br>=%{y}<extra></extra>",
                  "legendgroup": "Gemma2 2.6B instruct",
                  "marker": {
                    "color": "#A7C7E7",
                    "line": {
                      "color": "black",
                      "width": 1
                    },
                    "pattern": {
                      "shape": ""
                    }
                  },
                  "name": "Gemma2 2.6B instruct",
                  "offsetgroup": "Gemma2 2.6B instruct",
                  "opacity": 0.65,
                  "orientation": "v",
                  "showlegend": true,
                  "textposition": "auto",
                  "type": "bar",
                  "x": [
                    "Writing",
                    "Roleplay",
                    "Reasoning",
                    "Math",
                    "Coding",
                    "Extraction",
                    "STEM",
                    "Humanities"
                  ],
                  "xaxis": "x",
                  "y": [
                    8.225,
                    7.125,
                    4.75,
                    3.45,
                    2.473684210526316,
                    2.1,
                    6.65,
                    6.45
                  ],
                  "yaxis": "y"
                },
                {
                  "alignmentgroup": "True",
                  "hovertemplate": "model=Mistral 7B Instruct-v0.1<br>=%{y}<extra></extra>",
                  "legendgroup": "Mistral 7B Instruct-v0.1",
                  "marker": {
                    "color": "#B0E57C",
                    "line": {
                      "color": "black",
                      "width": 1
                    },
                    "pattern": {
                      "shape": ""
                    }
                  },
                  "name": "Mistral 7B Instruct-v0.1",
                  "offsetgroup": "Mistral 7B Instruct-v0.1",
                  "opacity": 0.65,
                  "orientation": "v",
                  "showlegend": true,
                  "textposition": "auto",
                  "type": "bar",
                  "x": [
                    "Writing",
                    "Roleplay",
                    "Reasoning",
                    "Math",
                    "Coding",
                    "Extraction",
                    "STEM",
                    "Humanities"
                  ],
                  "xaxis": "x",
                  "y": [
                    8.55,
                    7.65,
                    5.8,
                    4.1,
                    3.7,
                    6.85,
                    7.65,
                    8.85
                  ],
                  "yaxis": "y"
                },
                {
                  "alignmentgroup": "True",
                  "hovertemplate": "model=Zamba2 2.7B instruct<br>=%{y}<extra></extra>",
                  "legendgroup": "Zamba2 2.7B instruct",
                  "marker": {
                    "color": "#FC8E86",
                    "line": {
                      "color": "#AA5733",
                      "width": 3
                    },
                    "pattern": {
                      "shape": ""
                    }
                  },
                  "name": "<b>Zamba2 2.7B instruct</b>",
                  "offsetgroup": "Zamba2 2.7B instruct",
                  "opacity": 0.95,
                  "orientation": "v",
                  "showlegend": true,
                  "textposition": "auto",
                  "type": "bar",
                  "x": [
                    "Writing",
                    "Roleplay",
                    "Reasoning",
                    "Math",
                    "Coding",
                    "Extraction",
                    "STEM",
                    "Humanities"
                  ],
                  "xaxis": "x",
                  "y": [
                    8.8,
                    8.2,
                    6.35,
                    6.75,
                    3.35,
                    6,
                    9.2,
                    9.325
                  ],
                  "yaxis": "y"
                }
              ],
              "layout": {
                "barmode": "group",
                "legend": {
                  "font": {
                    "size": 20
                  },
                  "itemwidth": 50,
                  "orientation": "h",
                  "title": {},
                  "tracegroupgap": 0,
                  "traceorder": "normal",
                  "x": 0.5,
                  "xanchor": "center",
                  "y": -0.3,
                  "yanchor": "top"
                },
                "margin": {
                  "t": 60
                },
                "template": {
                  "data": {
                    "bar": [
                      {
                        "error_x": {
                          "color": "#2a3f5f"
                        },
                        "error_y": {
                          "color": "#2a3f5f"
                        },
                        "marker": {
                          "line": {
                            "color": "#E5ECF6",
                            "width": 0.5
                          },
                          "pattern": {
                            "fillmode": "overlay",
                            "size": 10,
                            "solidity": 0.2
                          }
                        },
                        "type": "bar"
                      }
                    ],
                    "barpolar": [
                      {
                        "marker": {
                          "line": {
                            "color": "#E5ECF6",
                            "width": 0.5
                          },
                          "pattern": {
                            "fillmode": "overlay",
                            "size": 10,
                            "solidity": 0.2
                          }
                        },
                        "type": "barpolar"
                      }
                    ],
                    "carpet": [
                      {
                        "aaxis": {
                          "endlinecolor": "#2a3f5f",
                          "gridcolor": "white",
                          "linecolor": "white",
                          "minorgridcolor": "white",
                          "startlinecolor": "#2a3f5f"
                        },
                        "baxis": {
                          "endlinecolor": "#2a3f5f",
                          "gridcolor": "white",
                          "linecolor": "white",
                          "minorgridcolor": "white",
                          "startlinecolor": "#2a3f5f"
                        },
                        "type": "carpet"
                      }
                    ],
                    "choropleth": [
                      {
                        "colorbar": {
                          "outlinewidth": 0,
                          "ticks": ""
                        },
                        "type": "choropleth"
                      }
                    ],
                    "contour": [
                      {
                        "colorbar": {
                          "outlinewidth": 0,
                          "ticks": ""
                        },
                        "colorscale": [
                          [
                            0,
                            "#0d0887"
                          ],
                          [
                            0.1111111111111111,
                            "#46039f"
                          ],
                          [
                            0.2222222222222222,
                            "#7201a8"
                          ],
                          [
                            0.3333333333333333,
                            "#9c179e"
                          ],
                          [
                            0.4444444444444444,
                            "#bd3786"
                          ],
                          [
                            0.5555555555555556,
                            "#d8576b"
                          ],
                          [
                            0.6666666666666666,
                            "#ed7953"
                          ],
                          [
                            0.7777777777777778,
                            "#fb9f3a"
                          ],
                          [
                            0.8888888888888888,
                            "#fdca26"
                          ],
                          [
                            1,
                            "#f0f921"
                          ]
                        ],
                        "type": "contour"
                      }
                    ],
                    "contourcarpet": [
                      {
                        "colorbar": {
                          "outlinewidth": 0,
                          "ticks": ""
                        },
                        "type": "contourcarpet"
                      }
                    ],
                    "heatmap": [
                      {
                        "colorbar": {
                          "outlinewidth": 0,
                          "ticks": ""
                        },
                        "colorscale": [
                          [
                            0,
                            "#0d0887"
                          ],
                          [
                            0.1111111111111111,
                            "#46039f"
                          ],
                          [
                            0.2222222222222222,
                            "#7201a8"
                          ],
                          [
                            0.3333333333333333,
                            "#9c179e"
                          ],
                          [
                            0.4444444444444444,
                            "#bd3786"
                          ],
                          [
                            0.5555555555555556,
                            "#d8576b"
                          ],
                          [
                            0.6666666666666666,
                            "#ed7953"
                          ],
                          [
                            0.7777777777777778,
                            "#fb9f3a"
                          ],
                          [
                            0.8888888888888888,
                            "#fdca26"
                          ],
                          [
                            1,
                            "#f0f921"
                          ]
                        ],
                        "type": "heatmap"
                      }
                    ],
                    "heatmapgl": [
                      {
                        "colorbar": {
                          "outlinewidth": 0,
                          "ticks": ""
                        },
                        "colorscale": [
                          [
                            0,
                            "#0d0887"
                          ],
                          [
                            0.1111111111111111,
                            "#46039f"
                          ],
                          [
                            0.2222222222222222,
                            "#7201a8"
                          ],
                          [
                            0.3333333333333333,
                            "#9c179e"
                          ],
                          [
                            0.4444444444444444,
                            "#bd3786"
                          ],
                          [
                            0.5555555555555556,
                            "#d8576b"
                          ],
                          [
                            0.6666666666666666,
                            "#ed7953"
                          ],
                          [
                            0.7777777777777778,
                            "#fb9f3a"
                          ],
                          [
                            0.8888888888888888,
                            "#fdca26"
                          ],
                          [
                            1,
                            "#f0f921"
                          ]
                        ],
                        "type": "heatmapgl"
                      }
                    ],
                    "histogram": [
                      {
                        "marker": {
                          "pattern": {
                            "fillmode": "overlay",
                            "size": 10,
                            "solidity": 0.2
                          }
                        },
                        "type": "histogram"
                      }
                    ],
                    "histogram2d": [
                      {
                        "colorbar": {
                          "outlinewidth": 0,
                          "ticks": ""
                        },
                        "colorscale": [
                          [
                            0,
                            "#0d0887"
                          ],
                          [
                            0.1111111111111111,
                            "#46039f"
                          ],
                          [
                            0.2222222222222222,
                            "#7201a8"
                          ],
                          [
                            0.3333333333333333,
                            "#9c179e"
                          ],
                          [
                            0.4444444444444444,
                            "#bd3786"
                          ],
                          [
                            0.5555555555555556,
                            "#d8576b"
                          ],
                          [
                            0.6666666666666666,
                            "#ed7953"
                          ],
                          [
                            0.7777777777777778,
                            "#fb9f3a"
                          ],
                          [
                            0.8888888888888888,
                            "#fdca26"
                          ],
                          [
                            1,
                            "#f0f921"
                          ]
                        ],
                        "type": "histogram2d"
                      }
                    ],
                    "histogram2dcontour": [
                      {
                        "colorbar": {
                          "outlinewidth": 0,
                          "ticks": ""
                        },
                        "colorscale": [
                          [
                            0,
                            "#0d0887"
                          ],
                          [
                            0.1111111111111111,
                            "#46039f"
                          ],
                          [
                            0.2222222222222222,
                            "#7201a8"
                          ],
                          [
                            0.3333333333333333,
                            "#9c179e"
                          ],
                          [
                            0.4444444444444444,
                            "#bd3786"
                          ],
                          [
                            0.5555555555555556,
                            "#d8576b"
                          ],
                          [
                            0.6666666666666666,
                            "#ed7953"
                          ],
                          [
                            0.7777777777777778,
                            "#fb9f3a"
                          ],
                          [
                            0.8888888888888888,
                            "#fdca26"
                          ],
                          [
                            1,
                            "#f0f921"
                          ]
                        ],
                        "type": "histogram2dcontour"
                      }
                    ],
                    "mesh3d": [
                      {
                        "colorbar": {
                          "outlinewidth": 0,
                          "ticks": ""
                        },
                        "type": "mesh3d"
                      }
                    ],
                    "parcoords": [
                      {
                        "line": {
                          "colorbar": {
                            "outlinewidth": 0,
                            "ticks": ""
                          }
                        },
                        "type": "parcoords"
                      }
                    ],
                    "pie": [
                      {
                        "automargin": true,
                        "type": "pie"
                      }
                    ],
                    "scatter": [
                      {
                        "fillpattern": {
                          "fillmode": "overlay",
                          "size": 10,
                          "solidity": 0.2
                        },
                        "type": "scatter"
                      }
                    ],
                    "scatter3d": [
                      {
                        "line": {
                          "colorbar": {
                            "outlinewidth": 0,
                            "ticks": ""
                          }
                        },
                        "marker": {
                          "colorbar": {
                            "outlinewidth": 0,
                            "ticks": ""
                          }
                        },
                        "type": "scatter3d"
                      }
                    ],
                    "scattercarpet": [
                      {
                        "marker": {
                          "colorbar": {
                            "outlinewidth": 0,
                            "ticks": ""
                          }
                        },
                        "type": "scattercarpet"
                      }
                    ],
                    "scattergeo": [
                      {
                        "marker": {
                          "colorbar": {
                            "outlinewidth": 0,
                            "ticks": ""
                          }
                        },
                        "type": "scattergeo"
                      }
                    ],
                    "scattergl": [
                      {
                        "marker": {
                          "colorbar": {
                            "outlinewidth": 0,
                            "ticks": ""
                          }
                        },
                        "type": "scattergl"
                      }
                    ],
                    "scattermapbox": [
                      {
                        "marker": {
                          "colorbar": {
                            "outlinewidth": 0,
                            "ticks": ""
                          }
                        },
                        "type": "scattermapbox"
                      }
                    ],
                    "scatterpolar": [
                      {
                        "marker": {
                          "colorbar": {
                            "outlinewidth": 0,
                            "ticks": ""
                          }
                        },
                        "type": "scatterpolar"
                      }
                    ],
                    "scatterpolargl": [
                      {
                        "marker": {
                          "colorbar": {
                            "outlinewidth": 0,
                            "ticks": ""
                          }
                        },
                        "type": "scatterpolargl"
                      }
                    ],
                    "scatterternary": [
                      {
                        "marker": {
                          "colorbar": {
                            "outlinewidth": 0,
                            "ticks": ""
                          }
                        },
                        "type": "scatterternary"
                      }
                    ],
                    "surface": [
                      {
                        "colorbar": {
                          "outlinewidth": 0,
                          "ticks": ""
                        },
                        "colorscale": [
                          [
                            0,
                            "#0d0887"
                          ],
                          [
                            0.1111111111111111,
                            "#46039f"
                          ],
                          [
                            0.2222222222222222,
                            "#7201a8"
                          ],
                          [
                            0.3333333333333333,
                            "#9c179e"
                          ],
                          [
                            0.4444444444444444,
                            "#bd3786"
                          ],
                          [
                            0.5555555555555556,
                            "#d8576b"
                          ],
                          [
                            0.6666666666666666,
                            "#ed7953"
                          ],
                          [
                            0.7777777777777778,
                            "#fb9f3a"
                          ],
                          [
                            0.8888888888888888,
                            "#fdca26"
                          ],
                          [
                            1,
                            "#f0f921"
                          ]
                        ],
                        "type": "surface"
                      }
                    ],
                    "table": [
                      {
                        "cells": {
                          "fill": {
                            "color": "#EBF0F8"
                          },
                          "line": {
                            "color": "white"
                          }
                        },
                        "header": {
                          "fill": {
                            "color": "#C8D4E3"
                          },
                          "line": {
                            "color": "white"
                          }
                        },
                        "type": "table"
                      }
                    ]
                  },
                  "layout": {
                    "annotationdefaults": {
                      "arrowcolor": "#2a3f5f",
                      "arrowhead": 0,
                      "arrowwidth": 1
                    },
                    "autotypenumbers": "strict",
                    "coloraxis": {
                      "colorbar": {
                        "outlinewidth": 0,
                        "ticks": ""
                      }
                    },
                    "colorscale": {
                      "diverging": [
                        [
                          0,
                          "#8e0152"
                        ],
                        [
                          0.1,
                          "#c51b7d"
                        ],
                        [
                          0.2,
                          "#de77ae"
                        ],
                        [
                          0.3,
                          "#f1b6da"
                        ],
                        [
                          0.4,
                          "#fde0ef"
                        ],
                        [
                          0.5,
                          "#f7f7f7"
                        ],
                        [
                          0.6,
                          "#e6f5d0"
                        ],
                        [
                          0.7,
                          "#b8e186"
                        ],
                        [
                          0.8,
                          "#7fbc41"
                        ],
                        [
                          0.9,
                          "#4d9221"
                        ],
                        [
                          1,
                          "#276419"
                        ]
                      ],
                      "sequential": [
                        [
                          0,
                          "#0d0887"
                        ],
                        [
                          0.1111111111111111,
                          "#46039f"
                        ],
                        [
                          0.2222222222222222,
                          "#7201a8"
                        ],
                        [
                          0.3333333333333333,
                          "#9c179e"
                        ],
                        [
                          0.4444444444444444,
                          "#bd3786"
                        ],
                        [
                          0.5555555555555556,
                          "#d8576b"
                        ],
                        [
                          0.6666666666666666,
                          "#ed7953"
                        ],
                        [
                          0.7777777777777778,
                          "#fb9f3a"
                        ],
                        [
                          0.8888888888888888,
                          "#fdca26"
                        ],
                        [
                          1,
                          "#f0f921"
                        ]
                      ],
                      "sequentialminus": [
                        [
                          0,
                          "#0d0887"
                        ],
                        [
                          0.1111111111111111,
                          "#46039f"
                        ],
                        [
                          0.2222222222222222,
                          "#7201a8"
                        ],
                        [
                          0.3333333333333333,
                          "#9c179e"
                        ],
                        [
                          0.4444444444444444,
                          "#bd3786"
                        ],
                        [
                          0.5555555555555556,
                          "#d8576b"
                        ],
                        [
                          0.6666666666666666,
                          "#ed7953"
                        ],
                        [
                          0.7777777777777778,
                          "#fb9f3a"
                        ],
                        [
                          0.8888888888888888,
                          "#fdca26"
                        ],
                        [
                          1,
                          "#f0f921"
                        ]
                      ]
                    },
                    "colorway": [
                      "#636efa",
                      "#EF553B",
                      "#00cc96",
                      "#ab63fa",
                      "#FFA15A",
                      "#19d3f3",
                      "#FF6692",
                      "#B6E880",
                      "#FF97FF",
                      "#FECB52"
                    ],
                    "font": {
                      "color": "#2a3f5f"
                    },
                    "geo": {
                      "bgcolor": "white",
                      "lakecolor": "white",
                      "landcolor": "#E5ECF6",
                      "showlakes": true,
                      "showland": true,
                      "subunitcolor": "white"
                    },
                    "hoverlabel": {
                      "align": "left"
                    },
                    "hovermode": "closest",
                    "mapbox": {
                      "style": "light"
                    },
                    "paper_bgcolor": "white",
                    "plot_bgcolor": "#E5ECF6",
                    "polar": {
                      "angularaxis": {
                        "gridcolor": "white",
                        "linecolor": "white",
                        "ticks": ""
                      },
                      "bgcolor": "#E5ECF6",
                      "radialaxis": {
                        "gridcolor": "white",
                        "linecolor": "white",
                        "ticks": ""
                      }
                    },
                    "scene": {
                      "xaxis": {
                        "backgroundcolor": "#E5ECF6",
                        "gridcolor": "white",
                        "gridwidth": 2,
                        "linecolor": "white",
                        "showbackground": true,
                        "ticks": "",
                        "zerolinecolor": "white"
                      },
                      "yaxis": {
                        "backgroundcolor": "#E5ECF6",
                        "gridcolor": "white",
                        "gridwidth": 2,
                        "linecolor": "white",
                        "showbackground": true,
                        "ticks": "",
                        "zerolinecolor": "white"
                      },
                      "zaxis": {
                        "backgroundcolor": "#E5ECF6",
                        "gridcolor": "white",
                        "gridwidth": 2,
                        "linecolor": "white",
                        "showbackground": true,
                        "ticks": "",
                        "zerolinecolor": "white"
                      }
                    },
                    "shapedefaults": {
                      "line": {
                        "color": "#2a3f5f"
                      }
                    },
                    "ternary": {
                      "aaxis": {
                        "gridcolor": "white",
                        "linecolor": "white",
                        "ticks": ""
                      },
                      "baxis": {
                        "gridcolor": "white",
                        "linecolor": "white",
                        "ticks": ""
                      },
                      "bgcolor": "#E5ECF6",
                      "caxis": {
                        "gridcolor": "white",
                        "linecolor": "white",
                        "ticks": ""
                      }
                    },
                    "title": {
                      "x": 0.05
                    },
                    "xaxis": {
                      "automargin": true,
                      "gridcolor": "white",
                      "linecolor": "white",
                      "ticks": "",
                      "title": {
                        "standoff": 15
                      },
                      "zerolinecolor": "white",
                      "zerolinewidth": 2
                    },
                    "yaxis": {
                      "automargin": true,
                      "gridcolor": "white",
                      "linecolor": "white",
                      "ticks": "",
                      "title": {
                        "standoff": 15
                      },
                      "zerolinecolor": "white",
                      "zerolinewidth": 2
                    }
                  }
                },
                "title": {
                  "font": {
                    "color": "black",
                    "family": "Arial",
                    "size": 30,
                    "weight": "bold"
                  },
                  "text": "<b>MT Bench</b>",
                  "x": 0.5,
                  "xanchor": "center",
                  "y": 0.95,
                  "yanchor": "top"
                },
                "xaxis": {
                  "anchor": "y",
                  "categoryarray": [
                    "Writing",
                    "Roleplay",
                    "Reasoning",
                    "Math",
                    "Coding",
                    "Extraction",
                    "STEM",
                    "Humanities"
                  ],
                  "categoryorder": "array",
                  "domain": [
                    0,
                    1
                  ],
                  "tickfont": {
                    "size": 18
                  },
                  "title": {
                    "text": ""
                  }
                },
                "yaxis": {
                  "anchor": "x",
                  "domain": [
                    0,
                    1
                  ],
                  "tickfont": {
                    "size": 18
                  },
                  "title": {
                    "font": {
                      "size": 20
                    },
                    "text": "Score"
                  }
                }
              }
            },
            "text/html": [
              "<div>                            <div id=\"5a643071-9e03-433f-9f9c-96f9f109b766\" class=\"plotly-graph-div\" style=\"height:525px; width:100%;\"></div>            <script type=\"text/javascript\">                require([\"plotly\"], function(Plotly) {                    window.PLOTLYENV=window.PLOTLYENV || {};                                    if (document.getElementById(\"5a643071-9e03-433f-9f9c-96f9f109b766\")) {                    Plotly.newPlot(                        \"5a643071-9e03-433f-9f9c-96f9f109b766\",                        [{\"alignmentgroup\":\"True\",\"hovertemplate\":\"model=Gemma2 2.6B instruct\\u003cbr\\u003e=%{y}\\u003cextra\\u003e\\u003c\\u002fextra\\u003e\",\"legendgroup\":\"Gemma2 2.6B instruct\",\"marker\":{\"color\":\"#A7C7E7\",\"pattern\":{\"shape\":\"\"},\"line\":{\"width\":1,\"color\":\"black\"}},\"name\":\"Gemma2 2.6B instruct\",\"offsetgroup\":\"Gemma2 2.6B instruct\",\"orientation\":\"v\",\"showlegend\":true,\"textposition\":\"auto\",\"x\":[\"Writing\",\"Roleplay\",\"Reasoning\",\"Math\",\"Coding\",\"Extraction\",\"STEM\",\"Humanities\"],\"xaxis\":\"x\",\"y\":[8.225,7.125,4.75,3.45,2.473684210526316,2.1,6.65,6.45],\"yaxis\":\"y\",\"type\":\"bar\",\"opacity\":0.65},{\"alignmentgroup\":\"True\",\"hovertemplate\":\"model=Mistral 7B Instruct-v0.1\\u003cbr\\u003e=%{y}\\u003cextra\\u003e\\u003c\\u002fextra\\u003e\",\"legendgroup\":\"Mistral 7B Instruct-v0.1\",\"marker\":{\"color\":\"#B0E57C\",\"pattern\":{\"shape\":\"\"},\"line\":{\"width\":1,\"color\":\"black\"}},\"name\":\"Mistral 7B Instruct-v0.1\",\"offsetgroup\":\"Mistral 7B Instruct-v0.1\",\"orientation\":\"v\",\"showlegend\":true,\"textposition\":\"auto\",\"x\":[\"Writing\",\"Roleplay\",\"Reasoning\",\"Math\",\"Coding\",\"Extraction\",\"STEM\",\"Humanities\"],\"xaxis\":\"x\",\"y\":[8.55,7.65,5.8,4.1,3.7,6.85,7.65,8.85],\"yaxis\":\"y\",\"type\":\"bar\",\"opacity\":0.65},{\"alignmentgroup\":\"True\",\"hovertemplate\":\"model=Zamba2 2.7B instruct\\u003cbr\\u003e=%{y}\\u003cextra\\u003e\\u003c\\u002fextra\\u003e\",\"legendgroup\":\"Zamba2 2.7B instruct\",\"marker\":{\"color\":\"#FC8E86\",\"pattern\":{\"shape\":\"\"},\"line\":{\"width\":3,\"color\":\"#AA5733\"}},\"name\":\"\\u003cb\\u003eZamba2 2.7B instruct\\u003c\\u002fb\\u003e\",\"offsetgroup\":\"Zamba2 2.7B instruct\",\"orientation\":\"v\",\"showlegend\":true,\"textposition\":\"auto\",\"x\":[\"Writing\",\"Roleplay\",\"Reasoning\",\"Math\",\"Coding\",\"Extraction\",\"STEM\",\"Humanities\"],\"xaxis\":\"x\",\"y\":[8.8,8.2,6.35,6.75,3.35,6.0,9.2,9.325],\"yaxis\":\"y\",\"type\":\"bar\",\"opacity\":0.95}],                        {\"template\":{\"data\":{\"histogram2dcontour\":[{\"type\":\"histogram2dcontour\",\"colorbar\":{\"outlinewidth\":0,\"ticks\":\"\"},\"colorscale\":[[0.0,\"#0d0887\"],[0.1111111111111111,\"#46039f\"],[0.2222222222222222,\"#7201a8\"],[0.3333333333333333,\"#9c179e\"],[0.4444444444444444,\"#bd3786\"],[0.5555555555555556,\"#d8576b\"],[0.6666666666666666,\"#ed7953\"],[0.7777777777777778,\"#fb9f3a\"],[0.8888888888888888,\"#fdca26\"],[1.0,\"#f0f921\"]]}],\"choropleth\":[{\"type\":\"choropleth\",\"colorbar\":{\"outlinewidth\":0,\"ticks\":\"\"}}],\"histogram2d\":[{\"type\":\"histogram2d\",\"colorbar\":{\"outlinewidth\":0,\"ticks\":\"\"},\"colorscale\":[[0.0,\"#0d0887\"],[0.1111111111111111,\"#46039f\"],[0.2222222222222222,\"#7201a8\"],[0.3333333333333333,\"#9c179e\"],[0.4444444444444444,\"#bd3786\"],[0.5555555555555556,\"#d8576b\"],[0.6666666666666666,\"#ed7953\"],[0.7777777777777778,\"#fb9f3a\"],[0.8888888888888888,\"#fdca26\"],[1.0,\"#f0f921\"]]}],\"heatmap\":[{\"type\":\"heatmap\",\"colorbar\":{\"outlinewidth\":0,\"ticks\":\"\"},\"colorscale\":[[0.0,\"#0d0887\"],[0.1111111111111111,\"#46039f\"],[0.2222222222222222,\"#7201a8\"],[0.3333333333333333,\"#9c179e\"],[0.4444444444444444,\"#bd3786\"],[0.5555555555555556,\"#d8576b\"],[0.6666666666666666,\"#ed7953\"],[0.7777777777777778,\"#fb9f3a\"],[0.8888888888888888,\"#fdca26\"],[1.0,\"#f0f921\"]]}],\"heatmapgl\":[{\"type\":\"heatmapgl\",\"colorbar\":{\"outlinewidth\":0,\"ticks\":\"\"},\"colorscale\":[[0.0,\"#0d0887\"],[0.1111111111111111,\"#46039f\"],[0.2222222222222222,\"#7201a8\"],[0.3333333333333333,\"#9c179e\"],[0.4444444444444444,\"#bd3786\"],[0.5555555555555556,\"#d8576b\"],[0.6666666666666666,\"#ed7953\"],[0.7777777777777778,\"#fb9f3a\"],[0.8888888888888888,\"#fdca26\"],[1.0,\"#f0f921\"]]}],\"contourcarpet\":[{\"type\":\"contourcarpet\",\"colorbar\":{\"outlinewidth\":0,\"ticks\":\"\"}}],\"contour\":[{\"type\":\"contour\",\"colorbar\":{\"outlinewidth\":0,\"ticks\":\"\"},\"colorscale\":[[0.0,\"#0d0887\"],[0.1111111111111111,\"#46039f\"],[0.2222222222222222,\"#7201a8\"],[0.3333333333333333,\"#9c179e\"],[0.4444444444444444,\"#bd3786\"],[0.5555555555555556,\"#d8576b\"],[0.6666666666666666,\"#ed7953\"],[0.7777777777777778,\"#fb9f3a\"],[0.8888888888888888,\"#fdca26\"],[1.0,\"#f0f921\"]]}],\"surface\":[{\"type\":\"surface\",\"colorbar\":{\"outlinewidth\":0,\"ticks\":\"\"},\"colorscale\":[[0.0,\"#0d0887\"],[0.1111111111111111,\"#46039f\"],[0.2222222222222222,\"#7201a8\"],[0.3333333333333333,\"#9c179e\"],[0.4444444444444444,\"#bd3786\"],[0.5555555555555556,\"#d8576b\"],[0.6666666666666666,\"#ed7953\"],[0.7777777777777778,\"#fb9f3a\"],[0.8888888888888888,\"#fdca26\"],[1.0,\"#f0f921\"]]}],\"mesh3d\":[{\"type\":\"mesh3d\",\"colorbar\":{\"outlinewidth\":0,\"ticks\":\"\"}}],\"scatter\":[{\"fillpattern\":{\"fillmode\":\"overlay\",\"size\":10,\"solidity\":0.2},\"type\":\"scatter\"}],\"parcoords\":[{\"type\":\"parcoords\",\"line\":{\"colorbar\":{\"outlinewidth\":0,\"ticks\":\"\"}}}],\"scatterpolargl\":[{\"type\":\"scatterpolargl\",\"marker\":{\"colorbar\":{\"outlinewidth\":0,\"ticks\":\"\"}}}],\"bar\":[{\"error_x\":{\"color\":\"#2a3f5f\"},\"error_y\":{\"color\":\"#2a3f5f\"},\"marker\":{\"line\":{\"color\":\"#E5ECF6\",\"width\":0.5},\"pattern\":{\"fillmode\":\"overlay\",\"size\":10,\"solidity\":0.2}},\"type\":\"bar\"}],\"scattergeo\":[{\"type\":\"scattergeo\",\"marker\":{\"colorbar\":{\"outlinewidth\":0,\"ticks\":\"\"}}}],\"scatterpolar\":[{\"type\":\"scatterpolar\",\"marker\":{\"colorbar\":{\"outlinewidth\":0,\"ticks\":\"\"}}}],\"histogram\":[{\"marker\":{\"pattern\":{\"fillmode\":\"overlay\",\"size\":10,\"solidity\":0.2}},\"type\":\"histogram\"}],\"scattergl\":[{\"type\":\"scattergl\",\"marker\":{\"colorbar\":{\"outlinewidth\":0,\"ticks\":\"\"}}}],\"scatter3d\":[{\"type\":\"scatter3d\",\"line\":{\"colorbar\":{\"outlinewidth\":0,\"ticks\":\"\"}},\"marker\":{\"colorbar\":{\"outlinewidth\":0,\"ticks\":\"\"}}}],\"scattermapbox\":[{\"type\":\"scattermapbox\",\"marker\":{\"colorbar\":{\"outlinewidth\":0,\"ticks\":\"\"}}}],\"scatterternary\":[{\"type\":\"scatterternary\",\"marker\":{\"colorbar\":{\"outlinewidth\":0,\"ticks\":\"\"}}}],\"scattercarpet\":[{\"type\":\"scattercarpet\",\"marker\":{\"colorbar\":{\"outlinewidth\":0,\"ticks\":\"\"}}}],\"carpet\":[{\"aaxis\":{\"endlinecolor\":\"#2a3f5f\",\"gridcolor\":\"white\",\"linecolor\":\"white\",\"minorgridcolor\":\"white\",\"startlinecolor\":\"#2a3f5f\"},\"baxis\":{\"endlinecolor\":\"#2a3f5f\",\"gridcolor\":\"white\",\"linecolor\":\"white\",\"minorgridcolor\":\"white\",\"startlinecolor\":\"#2a3f5f\"},\"type\":\"carpet\"}],\"table\":[{\"cells\":{\"fill\":{\"color\":\"#EBF0F8\"},\"line\":{\"color\":\"white\"}},\"header\":{\"fill\":{\"color\":\"#C8D4E3\"},\"line\":{\"color\":\"white\"}},\"type\":\"table\"}],\"barpolar\":[{\"marker\":{\"line\":{\"color\":\"#E5ECF6\",\"width\":0.5},\"pattern\":{\"fillmode\":\"overlay\",\"size\":10,\"solidity\":0.2}},\"type\":\"barpolar\"}],\"pie\":[{\"automargin\":true,\"type\":\"pie\"}]},\"layout\":{\"autotypenumbers\":\"strict\",\"colorway\":[\"#636efa\",\"#EF553B\",\"#00cc96\",\"#ab63fa\",\"#FFA15A\",\"#19d3f3\",\"#FF6692\",\"#B6E880\",\"#FF97FF\",\"#FECB52\"],\"font\":{\"color\":\"#2a3f5f\"},\"hovermode\":\"closest\",\"hoverlabel\":{\"align\":\"left\"},\"paper_bgcolor\":\"white\",\"plot_bgcolor\":\"#E5ECF6\",\"polar\":{\"bgcolor\":\"#E5ECF6\",\"angularaxis\":{\"gridcolor\":\"white\",\"linecolor\":\"white\",\"ticks\":\"\"},\"radialaxis\":{\"gridcolor\":\"white\",\"linecolor\":\"white\",\"ticks\":\"\"}},\"ternary\":{\"bgcolor\":\"#E5ECF6\",\"aaxis\":{\"gridcolor\":\"white\",\"linecolor\":\"white\",\"ticks\":\"\"},\"baxis\":{\"gridcolor\":\"white\",\"linecolor\":\"white\",\"ticks\":\"\"},\"caxis\":{\"gridcolor\":\"white\",\"linecolor\":\"white\",\"ticks\":\"\"}},\"coloraxis\":{\"colorbar\":{\"outlinewidth\":0,\"ticks\":\"\"}},\"colorscale\":{\"sequential\":[[0.0,\"#0d0887\"],[0.1111111111111111,\"#46039f\"],[0.2222222222222222,\"#7201a8\"],[0.3333333333333333,\"#9c179e\"],[0.4444444444444444,\"#bd3786\"],[0.5555555555555556,\"#d8576b\"],[0.6666666666666666,\"#ed7953\"],[0.7777777777777778,\"#fb9f3a\"],[0.8888888888888888,\"#fdca26\"],[1.0,\"#f0f921\"]],\"sequentialminus\":[[0.0,\"#0d0887\"],[0.1111111111111111,\"#46039f\"],[0.2222222222222222,\"#7201a8\"],[0.3333333333333333,\"#9c179e\"],[0.4444444444444444,\"#bd3786\"],[0.5555555555555556,\"#d8576b\"],[0.6666666666666666,\"#ed7953\"],[0.7777777777777778,\"#fb9f3a\"],[0.8888888888888888,\"#fdca26\"],[1.0,\"#f0f921\"]],\"diverging\":[[0,\"#8e0152\"],[0.1,\"#c51b7d\"],[0.2,\"#de77ae\"],[0.3,\"#f1b6da\"],[0.4,\"#fde0ef\"],[0.5,\"#f7f7f7\"],[0.6,\"#e6f5d0\"],[0.7,\"#b8e186\"],[0.8,\"#7fbc41\"],[0.9,\"#4d9221\"],[1,\"#276419\"]]},\"xaxis\":{\"gridcolor\":\"white\",\"linecolor\":\"white\",\"ticks\":\"\",\"title\":{\"standoff\":15},\"zerolinecolor\":\"white\",\"automargin\":true,\"zerolinewidth\":2},\"yaxis\":{\"gridcolor\":\"white\",\"linecolor\":\"white\",\"ticks\":\"\",\"title\":{\"standoff\":15},\"zerolinecolor\":\"white\",\"automargin\":true,\"zerolinewidth\":2},\"scene\":{\"xaxis\":{\"backgroundcolor\":\"#E5ECF6\",\"gridcolor\":\"white\",\"linecolor\":\"white\",\"showbackground\":true,\"ticks\":\"\",\"zerolinecolor\":\"white\",\"gridwidth\":2},\"yaxis\":{\"backgroundcolor\":\"#E5ECF6\",\"gridcolor\":\"white\",\"linecolor\":\"white\",\"showbackground\":true,\"ticks\":\"\",\"zerolinecolor\":\"white\",\"gridwidth\":2},\"zaxis\":{\"backgroundcolor\":\"#E5ECF6\",\"gridcolor\":\"white\",\"linecolor\":\"white\",\"showbackground\":true,\"ticks\":\"\",\"zerolinecolor\":\"white\",\"gridwidth\":2}},\"shapedefaults\":{\"line\":{\"color\":\"#2a3f5f\"}},\"annotationdefaults\":{\"arrowcolor\":\"#2a3f5f\",\"arrowhead\":0,\"arrowwidth\":1},\"geo\":{\"bgcolor\":\"white\",\"landcolor\":\"#E5ECF6\",\"subunitcolor\":\"white\",\"showland\":true,\"showlakes\":true,\"lakecolor\":\"white\"},\"title\":{\"x\":0.05},\"mapbox\":{\"style\":\"light\"}}},\"xaxis\":{\"anchor\":\"y\",\"domain\":[0.0,1.0],\"title\":{\"text\":\"\"},\"categoryorder\":\"array\",\"categoryarray\":[\"Writing\",\"Roleplay\",\"Reasoning\",\"Math\",\"Coding\",\"Extraction\",\"STEM\",\"Humanities\"],\"tickfont\":{\"size\":18}},\"yaxis\":{\"anchor\":\"x\",\"domain\":[0.0,1.0],\"title\":{\"text\":\"Score\",\"font\":{\"size\":20}},\"tickfont\":{\"size\":18}},\"legend\":{\"title\":{},\"tracegroupgap\":0,\"font\":{\"size\":20},\"orientation\":\"h\",\"y\":-0.3,\"x\":0.5,\"xanchor\":\"center\",\"yanchor\":\"top\",\"itemwidth\":50,\"traceorder\":\"normal\"},\"margin\":{\"t\":60},\"barmode\":\"group\",\"title\":{\"font\":{\"size\":30,\"family\":\"Arial\",\"color\":\"black\",\"weight\":\"bold\"},\"text\":\"\\u003cb\\u003eMT Bench\\u003c\\u002fb\\u003e\",\"x\":0.5,\"y\":0.95,\"xanchor\":\"center\",\"yanchor\":\"top\"}},                        {\"responsive\": true}                    ).then(function(){\n",
              "                            \n",
              "var gd = document.getElementById('5a643071-9e03-433f-9f9c-96f9f109b766');\n",
              "var x = new MutationObserver(function (mutations, observer) {{\n",
              "        var display = window.getComputedStyle(gd).display;\n",
              "        if (!display || display === 'none') {{\n",
              "            console.log([gd, 'removed!']);\n",
              "            Plotly.purge(gd);\n",
              "            observer.disconnect();\n",
              "        }}\n",
              "}});\n",
              "\n",
              "// Listen for the removal of the full notebook cells\n",
              "var notebookContainer = gd.closest('#notebook-container');\n",
              "if (notebookContainer) {{\n",
              "    x.observe(notebookContainer, {childList: true});\n",
              "}}\n",
              "\n",
              "// Listen for the clearing of the current output cell\n",
              "var outputEl = gd.closest('.output');\n",
              "if (outputEl) {{\n",
              "    x.observe(outputEl, {childList: true});\n",
              "}}\n",
              "\n",
              "                        })                };                });            </script>        </div>"
            ]
          },
          "metadata": {},
          "output_type": "display_data"
        }
      ],
      "source": [
        "import json\n",
        "import pandas as pd\n",
        "import plotly.express as px\n",
        "\n",
        "\n",
        "CATEGORIES = [\"Writing\", \"Roleplay\", \"Reasoning\", \"Math\", \"Coding\", \"Extraction\", \"STEM\", \"Humanities\"]\n",
        "\n",
        "\n",
        "def get_model_df():\n",
        "    cnt = 0\n",
        "    q2result = []\n",
        "    fin = open(\"/workspace/FastChat/fastchat/llm_judge/data/mt_bench/model_judgment/gpt-4_single.jsonl\", \"r\")\n",
        "    for line in fin:\n",
        "        obj = json.loads(line)\n",
        "        obj[\"category\"] = CATEGORIES[(obj[\"question_id\"]-81)//10]\n",
        "        q2result.append(obj)\n",
        "    df = pd.DataFrame(q2result)\n",
        "    return df\n",
        "\n",
        "def toggle(res_str):\n",
        "    if res_str == \"win\":\n",
        "        return \"loss\"\n",
        "    elif res_str == \"loss\":\n",
        "        return \"win\"\n",
        "    return \"tie\"\n",
        "\n",
        "def get_model_df_pair():\n",
        "    fin = open(\"gpt-4_pair.jsonl\", \"r\")\n",
        "    cnt = 0\n",
        "    q2result = []\n",
        "    for line in fin:\n",
        "        obj = json.loads(line)\n",
        "\n",
        "        result = {}\n",
        "        result[\"qid\"] = str(obj[\"question_id\"])\n",
        "        result[\"turn\"] = str(obj[\"turn\"])\n",
        "        if obj[\"g1_winner\"] == \"model_1\" and obj[\"g2_winner\"] == \"model_1\":\n",
        "            result[\"result\"] = \"win\"\n",
        "        elif obj[\"g1_winner\"] == \"model_2\" and obj[\"g2_winner\"] == \"model_2\":\n",
        "            result[\"result\"] = \"loss\"\n",
        "        else:\n",
        "            result[\"result\"] = \"tie\"\n",
        "        result[\"category\"] = CATEGORIES[(obj[\"question_id\"]-81)//10]\n",
        "        result[\"model\"] = obj[\"model_1\"]\n",
        "        q2result.append(result)\n",
        "\n",
        "    df = pd.DataFrame(q2result)\n",
        "\n",
        "    return df\n",
        "\n",
        "df = get_model_df()\n",
        "df_pair = get_model_df_pair()\n",
        "\n",
        "\n",
        "all_models = df[\"model\"].unique()\n",
        "scores_all = []\n",
        "for model in all_models:\n",
        "    for cat in CATEGORIES:\n",
        "        res = df[(df[\"category\"]==cat) & (df[\"model\"]==model) & (df[\"score\"] >= 0)]\n",
        "        score = res[\"score\"].mean()\n",
        "\n",
        "        scores_all.append({\"model\": model, \"category\": cat, \"score\": score})\n",
        "\n",
        "\n",
        "target_models = ['instr_release_ultrafeedback_batch32_rejected_fully_from_zamba_round3',\n",
        " 'nstr_release_ultrafeedback_batch32_rejected_fully_from_zamba_round2',\n",
        " 'instr_release_ultrafeedback_infinfstruct_batch32_with_actual_mix_infinstr_ultrachat',\n",
        " 'instr_release_ultrafeedback_batch32_rejected_half_from_zamba_round3',\n",
        " 'instr_release_ultrafeedback_infinfstruct_batch32_with_actual_mix_infinstr_ultrachat_round3',\n",
        " 'instr_release_ultrafeedback_batch32_rejected_fully_from_zamba',\n",
        " 'instr_release_ultrafeedback_batch32_rejected_half_from_zamba_round2',\n",
        " 'instr_release_ultrafeedback_infinfstruct_batch32_with_actual_mix_infinstr_ultrachat_round2',\n",
        " 'instr_release_ultrafeedback_batch32_rejected_half_from_zamba',\n",
        " 'ultrafeedback_openhermespref_orcadoppairs_4epochs',\n",
        " 'ultrafeedback_openhermespref_orcadoppairs_1epoch',\n",
        " 'ultrafeedback_openhermespref_orcadoppairs_1epoch_then_2epochs',\n",
        " 'ultrafeedback_openhermespref_orcadoppairs_1epoch_then_2epochs_then_1epoch',\n",
        " 'HuggingFaceTB_SmolLM-1.7B-Instruct', 'microsoft_Phi-3-mini-4k-instruct',\n",
        " 'Qwen_Qwen2-1.5B-Instruct', 'stabilityai_stablelm-2-1_6b-chat',\n",
        " 'microsoft_Phi-3.5-mini-instruct', 'h2oai_h2o-danube3-4b-chat',\n",
        " 'stabilityai_stablelm-zephyr-3b', 'h2oai_h2o-danube2-1.8b-chat',\n",
        " 'mistralai_Mistral-7B-Instruct-v0.1', 'gemma-2-2b-it']\n",
        "\n",
        "scores_target = [scores_all[i] for i in range(len(scores_all)) if scores_all[i][\"model\"] in target_models]\n",
        "\n",
        "# sort by target_models\n",
        "scores_target = sorted(scores_target, key=lambda x: target_models.index(x[\"model\"]), reverse=True)\n",
        "\n",
        "df_score = pd.DataFrame(scores_target)\n",
        "\n",
        "# Drop specific models using DataFrame.drop()\n",
        "models_to_drop = ['instr_release_ultrafeedback_batch32_rejected_fully_from_zamba_round3',\n",
        " 'nstr_release_ultrafeedback_batch32_rejected_fully_from_zamba_round2',\n",
        " 'instr_release_ultrafeedback_infinfstruct_batch32_with_actual_mix_infinstr_ultrachat',\n",
        " 'instr_release_ultrafeedback_batch32_rejected_half_from_zamba_round3',\n",
        " 'instr_release_ultrafeedback_infinfstruct_batch32_with_actual_mix_infinstr_ultrachat_round3',\n",
        " 'instr_release_ultrafeedback_batch32_rejected_fully_from_zamba',\n",
        " 'instr_release_ultrafeedback_batch32_rejected_half_from_zamba_round2',\n",
        " 'instr_release_ultrafeedback_infinfstruct_batch32_with_actual_mix_infinstr_ultrachat_round2',\n",
        " 'instr_release_ultrafeedback_batch32_rejected_half_from_zamba',\n",
        " 'ultrafeedback_openhermespref_orcadoppairs_4epochs',\n",
        " 'ultrafeedback_openhermespref_orcadoppairs_1epoch',\n",
        " 'ultrafeedback_openhermespref_orcadoppairs_1epoch_then_2epochs_then_1epoch',\n",
        " 'Qwen_Qwen2-1.5B-Instruct',\n",
        " 'HuggingFaceTB_SmolLM-1.7B-Instruct', 'microsoft_Phi-3-mini-4k-instruct',\n",
        " 'stabilityai_stablelm-2-1_6b-chat',\n",
        " 'microsoft_Phi-3.5-mini-instruct', 'h2oai_h2o-danube3-4b-chat',\n",
        " 'stabilityai_stablelm-zephyr-3b', \n",
        " 'h2oai_h2o-danube2-1.8b-chat']\n",
        "\n",
        "# Filter out the models to drop\n",
        "df_score = df_score[~df_score['model'].isin(models_to_drop)]\n",
        "\n",
        "rename_map = {'gemma-2-2b-it': 'Gemma2 2.6B instruct',\n",
        "              'ultrafeedback_openhermespref_orcadoppairs_1epoch_then_2epochs': \"Zamba2 2.7B instruct\",\n",
        "              \"h2oai_h2o-danube3-4b-chat\": \"h2o-danube3-4b-chat\",\n",
        "              \"microsoft_Phi-3-mini-4k-instruct\": \"Phi-3-mini-4k-instruct\",\n",
        "              \"microsoft_Phi-3.5-mini-instruct\": \"Phi-3.5-mini-instruct\",\n",
        "              'stabilityai_stablelm-zephyr-3b': 'stablelm-zephyr-3b',\n",
        "              'mistralai_Mistral-7B-Instruct-v0.1': 'Mistral 7B Instruct-v0.1'\n",
        "              }\n",
        "\n",
        "for k, v in rename_map.items():\n",
        "    df_score.replace(k, v, inplace=True)\n",
        "\n",
        "# Plot the updated DataFrame using a bar chart\n",
        "fig = px.bar(df_score, x=\"category\", y=\"score\", color=\"model\", barmode=\"group\", \n",
        "             category_orders={\"category\": CATEGORIES}, \n",
        "             labels={\"score\": \"\", \"category\": \"\"},  # Set labels to empty strings to remove\n",
        "             color_discrete_sequence=px.colors.qualitative.T10)\n",
        "\n",
        "fig.update_layout(\n",
        "    title={\n",
        "        'text': \"<b>MT Bench</b>\",  # Add plot title\n",
        "        'x': 0.5,  # Center the title\n",
        "        'y': 0.95,\n",
        "        'xanchor': 'center',\n",
        "        'yanchor': 'top',\n",
        "        'font': dict(size=30, family=\"Arial\",  # Specify a font family\n",
        "                     color=\"black\", weight=\"bold\")\n",
        "    },\n",
        "    yaxis_title=\"Score\",  # Add y-axis label\n",
        "    xaxis_title=\"\",  # You can leave the x-axis title empty or customize it\n",
        "    xaxis=dict(\n",
        "        tickfont=dict(size=18)  # Increase font size for x-axis labels\n",
        "    ),\n",
        "    yaxis=dict(\n",
        "        tickfont=dict(size=18),\n",
        "        title_font=dict(size=20)\n",
        "    ),\n",
        "    legend=dict(\n",
        "        title_text=None,  # Remove the title of the legend\n",
        "        orientation='h',  # Horizontal legend\n",
        "        y=-0.3,  # Position the legend below the plot\n",
        "        x=0.5,  # Center the legend horizontally\n",
        "        xanchor='center',\n",
        "        yanchor='top',\n",
        "        itemwidth=50,  # Adjust the width of each legend item\n",
        "        traceorder='normal',\n",
        "        font=dict(size=20)  # Increase font size for legend labels\n",
        "    )\n",
        ")\n",
        "\n",
        "# Manually update the colors to emphasize Zamba2 and add borders to bars\n",
        "for trace in fig.data:\n",
        "    if trace.name == \"Zamba2 2.7B instruct\":\n",
        "        trace.marker.color = \"#FC8E86\" \n",
        "        trace.opacity = 0.95\n",
        "        trace.marker.line.width = 3\n",
        "        trace.marker.line.color = \"#AA5733\"\n",
        "        trace.name = \"<b>Zamba2 2.7B instruct</b>\"\n",
        "    elif trace.name == \"Mistral 7B Instruct-v0.1\":\n",
        "        trace.marker.color = \"#B0E57C\" \n",
        "        trace.opacity = 0.65\n",
        "        trace.marker.line.width = 1\n",
        "        trace.marker.line.color = 'black'\n",
        "    elif trace.name == \"Gemma2 2.6B instruct\":\n",
        "        trace.marker.color = \"#A7C7E7\" \n",
        "        trace.opacity = 0.65\n",
        "        trace.marker.line.width = 1\n",
        "        trace.marker.line.color = 'black'\n",
        "    else:\n",
        "        trace.opacity = 0.65 \n",
        "    \n",
        "    # Add borders to the bars\n",
        "    \n",
        "    \n",
        "\n",
        "fig.show()\n"
      ]
    },
    {
      "cell_type": "code",
      "execution_count": 43,
      "metadata": {},
      "outputs": [
        {
          "name": "stdout",
          "output_type": "stream",
          "text": [
            "['instr_release_ultrafeedback_batch32_rejected_fully_from_zamba_round3'\n",
            " 'nstr_release_ultrafeedback_batch32_rejected_fully_from_zamba_round2'\n",
            " 'instr_release_ultrafeedback_infinfstruct_batch32_with_actual_mix_infinstr_ultrachat'\n",
            " 'instr_release_ultrafeedback_batch32_rejected_half_from_zamba_round3'\n",
            " 'instr_release_ultrafeedback_infinfstruct_batch32_with_actual_mix_infinstr_ultrachat_round3'\n",
            " 'instr_release_ultrafeedback_batch32_rejected_fully_from_zamba'\n",
            " 'instr_release_ultrafeedback_batch32_rejected_half_from_zamba_round2'\n",
            " 'instr_release_ultrafeedback_infinfstruct_batch32_with_actual_mix_infinstr_ultrachat_round2'\n",
            " 'instr_release_ultrafeedback_batch32_rejected_half_from_zamba'\n",
            " 'gemma-2-2b-it' 'ultrafeedback_openhermespref_orcadoppairs_4epochs'\n",
            " 'ultrafeedback_openhermespref_orcadoppairs_1epoch'\n",
            " 'ultrafeedback_openhermespref_orcadoppairs_1epoch_then_2epochs'\n",
            " 'ultrafeedback_openhermespref_orcadoppairs_1epoch_then_2epochs_then_1epoch'\n",
            " 'HuggingFaceTB_SmolLM-1.7B-Instruct' 'microsoft_Phi-3-mini-4k-instruct'\n",
            " 'Qwen_Qwen2-1.5B-Instruct' 'stabilityai_stablelm-2-1_6b-chat'\n",
            " 'microsoft_Phi-3.5-mini-instruct' 'h2oai_h2o-danube3-4b-chat'\n",
            " 'stabilityai_stablelm-zephyr-3b' 'h2oai_h2o-danube2-1.8b-chat'\n",
            " 'zamba2_1B_ultrafeedback_openhermespref_orcadoppairs_1epoch_then_1epoch_then_1epoch'\n",
            " 'mistralai_Mistral-7B-Instruct-v0.1']\n"
          ]
        },
        {
          "data": {
            "application/vnd.plotly.v1+json": {
              "config": {
                "plotlyServerURL": "https://plot.ly"
              },
              "data": [
                {
                  "hovertemplate": "model=Zamba2 1.2B instruct<br>score=%{r}<br>category=%{theta}<extra></extra>",
                  "legendgroup": "Zamba2 1.2B instruct",
                  "line": {
                    "color": "#4C78A8",
                    "dash": "solid"
                  },
                  "marker": {
                    "symbol": "circle"
                  },
                  "mode": "lines+markers",
                  "name": "Zamba2 1.2B instruct",
                  "r": [
                    7.95,
                    7.975,
                    4.05,
                    3.8,
                    2.3,
                    3.9,
                    8.2,
                    9.45,
                    7.95
                  ],
                  "showlegend": true,
                  "subplot": "polar",
                  "theta": [
                    "Writing",
                    "Roleplay",
                    "Reasoning",
                    "Math",
                    "Coding",
                    "Extraction",
                    "STEM",
                    "Humanities",
                    "Writing"
                  ],
                  "type": "scatterpolar"
                },
                {
                  "hovertemplate": "model=H2o-danube2 1.8B chat<br>score=%{r}<br>category=%{theta}<extra></extra>",
                  "legendgroup": "H2o-danube2 1.8B chat",
                  "line": {
                    "color": "#F58518",
                    "dash": "solid"
                  },
                  "marker": {
                    "symbol": "circle"
                  },
                  "mode": "lines+markers",
                  "name": "H2o-danube2 1.8B chat",
                  "r": [
                    7.1,
                    6.175,
                    3.2,
                    2.95,
                    2.4,
                    2.85,
                    6.05,
                    9.1,
                    7.1
                  ],
                  "showlegend": true,
                  "subplot": "polar",
                  "theta": [
                    "Writing",
                    "Roleplay",
                    "Reasoning",
                    "Math",
                    "Coding",
                    "Extraction",
                    "STEM",
                    "Humanities",
                    "Writing"
                  ],
                  "type": "scatterpolar"
                },
                {
                  "hovertemplate": "model=Stablelm2 1.6B chat<br>score=%{r}<br>category=%{theta}<extra></extra>",
                  "legendgroup": "Stablelm2 1.6B chat",
                  "line": {
                    "color": "#E45756",
                    "dash": "solid"
                  },
                  "marker": {
                    "symbol": "circle"
                  },
                  "mode": "lines+markers",
                  "name": "Stablelm2 1.6B chat",
                  "r": [
                    6.2,
                    6.55,
                    3.7,
                    2.7,
                    2.9,
                    4,
                    6.55,
                    7.3,
                    6.2
                  ],
                  "showlegend": true,
                  "subplot": "polar",
                  "theta": [
                    "Writing",
                    "Roleplay",
                    "Reasoning",
                    "Math",
                    "Coding",
                    "Extraction",
                    "STEM",
                    "Humanities",
                    "Writing"
                  ],
                  "type": "scatterpolar"
                },
                {
                  "hovertemplate": "model=SmolLM 1.7B instruct<br>score=%{r}<br>category=%{theta}<extra></extra>",
                  "legendgroup": "SmolLM 1.7B instruct",
                  "line": {
                    "color": "#72B7B2",
                    "dash": "solid"
                  },
                  "marker": {
                    "symbol": "circle"
                  },
                  "mode": "lines+markers",
                  "name": "SmolLM 1.7B instruct",
                  "r": [
                    5.1,
                    5.7,
                    2.75,
                    1.6,
                    2.85,
                    2.4,
                    6.8,
                    7.5,
                    5.1
                  ],
                  "showlegend": true,
                  "subplot": "polar",
                  "theta": [
                    "Writing",
                    "Roleplay",
                    "Reasoning",
                    "Math",
                    "Coding",
                    "Extraction",
                    "STEM",
                    "Humanities",
                    "Writing"
                  ],
                  "type": "scatterpolar"
                },
                {
                  "hovertemplate": "model=Gemma2 2.6B instruct<br>score=%{r}<br>category=%{theta}<extra></extra>",
                  "legendgroup": "Gemma2 2.6B instruct",
                  "line": {
                    "color": "#54A24B",
                    "dash": "solid"
                  },
                  "marker": {
                    "symbol": "circle"
                  },
                  "mode": "lines+markers",
                  "name": "Gemma2 2.6B instruct",
                  "r": [
                    8.225,
                    7.125,
                    4.75,
                    3.45,
                    2.473684210526316,
                    2.1,
                    6.65,
                    6.45,
                    8.225
                  ],
                  "showlegend": true,
                  "subplot": "polar",
                  "theta": [
                    "Writing",
                    "Roleplay",
                    "Reasoning",
                    "Math",
                    "Coding",
                    "Extraction",
                    "STEM",
                    "Humanities",
                    "Writing"
                  ],
                  "type": "scatterpolar"
                }
              ],
              "layout": {
                "legend": {
                  "itemwidth": 50,
                  "orientation": "h",
                  "title": {},
                  "tracegroupgap": 0,
                  "traceorder": "normal",
                  "x": 0.5,
                  "xanchor": "center",
                  "y": -0.2,
                  "yanchor": "top"
                },
                "margin": {
                  "t": 60
                },
                "polar": {
                  "angularaxis": {
                    "categoryarray": [
                      "Writing",
                      "Roleplay",
                      "Reasoning",
                      "Math",
                      "Coding",
                      "Extraction",
                      "STEM",
                      "Humanities"
                    ],
                    "categoryorder": "array",
                    "direction": "clockwise",
                    "rotation": 90
                  },
                  "domain": {
                    "x": [
                      0,
                      1
                    ],
                    "y": [
                      0,
                      1
                    ]
                  }
                },
                "template": {
                  "data": {
                    "bar": [
                      {
                        "error_x": {
                          "color": "#2a3f5f"
                        },
                        "error_y": {
                          "color": "#2a3f5f"
                        },
                        "marker": {
                          "line": {
                            "color": "#E5ECF6",
                            "width": 0.5
                          },
                          "pattern": {
                            "fillmode": "overlay",
                            "size": 10,
                            "solidity": 0.2
                          }
                        },
                        "type": "bar"
                      }
                    ],
                    "barpolar": [
                      {
                        "marker": {
                          "line": {
                            "color": "#E5ECF6",
                            "width": 0.5
                          },
                          "pattern": {
                            "fillmode": "overlay",
                            "size": 10,
                            "solidity": 0.2
                          }
                        },
                        "type": "barpolar"
                      }
                    ],
                    "carpet": [
                      {
                        "aaxis": {
                          "endlinecolor": "#2a3f5f",
                          "gridcolor": "white",
                          "linecolor": "white",
                          "minorgridcolor": "white",
                          "startlinecolor": "#2a3f5f"
                        },
                        "baxis": {
                          "endlinecolor": "#2a3f5f",
                          "gridcolor": "white",
                          "linecolor": "white",
                          "minorgridcolor": "white",
                          "startlinecolor": "#2a3f5f"
                        },
                        "type": "carpet"
                      }
                    ],
                    "choropleth": [
                      {
                        "colorbar": {
                          "outlinewidth": 0,
                          "ticks": ""
                        },
                        "type": "choropleth"
                      }
                    ],
                    "contour": [
                      {
                        "colorbar": {
                          "outlinewidth": 0,
                          "ticks": ""
                        },
                        "colorscale": [
                          [
                            0,
                            "#0d0887"
                          ],
                          [
                            0.1111111111111111,
                            "#46039f"
                          ],
                          [
                            0.2222222222222222,
                            "#7201a8"
                          ],
                          [
                            0.3333333333333333,
                            "#9c179e"
                          ],
                          [
                            0.4444444444444444,
                            "#bd3786"
                          ],
                          [
                            0.5555555555555556,
                            "#d8576b"
                          ],
                          [
                            0.6666666666666666,
                            "#ed7953"
                          ],
                          [
                            0.7777777777777778,
                            "#fb9f3a"
                          ],
                          [
                            0.8888888888888888,
                            "#fdca26"
                          ],
                          [
                            1,
                            "#f0f921"
                          ]
                        ],
                        "type": "contour"
                      }
                    ],
                    "contourcarpet": [
                      {
                        "colorbar": {
                          "outlinewidth": 0,
                          "ticks": ""
                        },
                        "type": "contourcarpet"
                      }
                    ],
                    "heatmap": [
                      {
                        "colorbar": {
                          "outlinewidth": 0,
                          "ticks": ""
                        },
                        "colorscale": [
                          [
                            0,
                            "#0d0887"
                          ],
                          [
                            0.1111111111111111,
                            "#46039f"
                          ],
                          [
                            0.2222222222222222,
                            "#7201a8"
                          ],
                          [
                            0.3333333333333333,
                            "#9c179e"
                          ],
                          [
                            0.4444444444444444,
                            "#bd3786"
                          ],
                          [
                            0.5555555555555556,
                            "#d8576b"
                          ],
                          [
                            0.6666666666666666,
                            "#ed7953"
                          ],
                          [
                            0.7777777777777778,
                            "#fb9f3a"
                          ],
                          [
                            0.8888888888888888,
                            "#fdca26"
                          ],
                          [
                            1,
                            "#f0f921"
                          ]
                        ],
                        "type": "heatmap"
                      }
                    ],
                    "heatmapgl": [
                      {
                        "colorbar": {
                          "outlinewidth": 0,
                          "ticks": ""
                        },
                        "colorscale": [
                          [
                            0,
                            "#0d0887"
                          ],
                          [
                            0.1111111111111111,
                            "#46039f"
                          ],
                          [
                            0.2222222222222222,
                            "#7201a8"
                          ],
                          [
                            0.3333333333333333,
                            "#9c179e"
                          ],
                          [
                            0.4444444444444444,
                            "#bd3786"
                          ],
                          [
                            0.5555555555555556,
                            "#d8576b"
                          ],
                          [
                            0.6666666666666666,
                            "#ed7953"
                          ],
                          [
                            0.7777777777777778,
                            "#fb9f3a"
                          ],
                          [
                            0.8888888888888888,
                            "#fdca26"
                          ],
                          [
                            1,
                            "#f0f921"
                          ]
                        ],
                        "type": "heatmapgl"
                      }
                    ],
                    "histogram": [
                      {
                        "marker": {
                          "pattern": {
                            "fillmode": "overlay",
                            "size": 10,
                            "solidity": 0.2
                          }
                        },
                        "type": "histogram"
                      }
                    ],
                    "histogram2d": [
                      {
                        "colorbar": {
                          "outlinewidth": 0,
                          "ticks": ""
                        },
                        "colorscale": [
                          [
                            0,
                            "#0d0887"
                          ],
                          [
                            0.1111111111111111,
                            "#46039f"
                          ],
                          [
                            0.2222222222222222,
                            "#7201a8"
                          ],
                          [
                            0.3333333333333333,
                            "#9c179e"
                          ],
                          [
                            0.4444444444444444,
                            "#bd3786"
                          ],
                          [
                            0.5555555555555556,
                            "#d8576b"
                          ],
                          [
                            0.6666666666666666,
                            "#ed7953"
                          ],
                          [
                            0.7777777777777778,
                            "#fb9f3a"
                          ],
                          [
                            0.8888888888888888,
                            "#fdca26"
                          ],
                          [
                            1,
                            "#f0f921"
                          ]
                        ],
                        "type": "histogram2d"
                      }
                    ],
                    "histogram2dcontour": [
                      {
                        "colorbar": {
                          "outlinewidth": 0,
                          "ticks": ""
                        },
                        "colorscale": [
                          [
                            0,
                            "#0d0887"
                          ],
                          [
                            0.1111111111111111,
                            "#46039f"
                          ],
                          [
                            0.2222222222222222,
                            "#7201a8"
                          ],
                          [
                            0.3333333333333333,
                            "#9c179e"
                          ],
                          [
                            0.4444444444444444,
                            "#bd3786"
                          ],
                          [
                            0.5555555555555556,
                            "#d8576b"
                          ],
                          [
                            0.6666666666666666,
                            "#ed7953"
                          ],
                          [
                            0.7777777777777778,
                            "#fb9f3a"
                          ],
                          [
                            0.8888888888888888,
                            "#fdca26"
                          ],
                          [
                            1,
                            "#f0f921"
                          ]
                        ],
                        "type": "histogram2dcontour"
                      }
                    ],
                    "mesh3d": [
                      {
                        "colorbar": {
                          "outlinewidth": 0,
                          "ticks": ""
                        },
                        "type": "mesh3d"
                      }
                    ],
                    "parcoords": [
                      {
                        "line": {
                          "colorbar": {
                            "outlinewidth": 0,
                            "ticks": ""
                          }
                        },
                        "type": "parcoords"
                      }
                    ],
                    "pie": [
                      {
                        "automargin": true,
                        "type": "pie"
                      }
                    ],
                    "scatter": [
                      {
                        "fillpattern": {
                          "fillmode": "overlay",
                          "size": 10,
                          "solidity": 0.2
                        },
                        "type": "scatter"
                      }
                    ],
                    "scatter3d": [
                      {
                        "line": {
                          "colorbar": {
                            "outlinewidth": 0,
                            "ticks": ""
                          }
                        },
                        "marker": {
                          "colorbar": {
                            "outlinewidth": 0,
                            "ticks": ""
                          }
                        },
                        "type": "scatter3d"
                      }
                    ],
                    "scattercarpet": [
                      {
                        "marker": {
                          "colorbar": {
                            "outlinewidth": 0,
                            "ticks": ""
                          }
                        },
                        "type": "scattercarpet"
                      }
                    ],
                    "scattergeo": [
                      {
                        "marker": {
                          "colorbar": {
                            "outlinewidth": 0,
                            "ticks": ""
                          }
                        },
                        "type": "scattergeo"
                      }
                    ],
                    "scattergl": [
                      {
                        "marker": {
                          "colorbar": {
                            "outlinewidth": 0,
                            "ticks": ""
                          }
                        },
                        "type": "scattergl"
                      }
                    ],
                    "scattermapbox": [
                      {
                        "marker": {
                          "colorbar": {
                            "outlinewidth": 0,
                            "ticks": ""
                          }
                        },
                        "type": "scattermapbox"
                      }
                    ],
                    "scatterpolar": [
                      {
                        "marker": {
                          "colorbar": {
                            "outlinewidth": 0,
                            "ticks": ""
                          }
                        },
                        "type": "scatterpolar"
                      }
                    ],
                    "scatterpolargl": [
                      {
                        "marker": {
                          "colorbar": {
                            "outlinewidth": 0,
                            "ticks": ""
                          }
                        },
                        "type": "scatterpolargl"
                      }
                    ],
                    "scatterternary": [
                      {
                        "marker": {
                          "colorbar": {
                            "outlinewidth": 0,
                            "ticks": ""
                          }
                        },
                        "type": "scatterternary"
                      }
                    ],
                    "surface": [
                      {
                        "colorbar": {
                          "outlinewidth": 0,
                          "ticks": ""
                        },
                        "colorscale": [
                          [
                            0,
                            "#0d0887"
                          ],
                          [
                            0.1111111111111111,
                            "#46039f"
                          ],
                          [
                            0.2222222222222222,
                            "#7201a8"
                          ],
                          [
                            0.3333333333333333,
                            "#9c179e"
                          ],
                          [
                            0.4444444444444444,
                            "#bd3786"
                          ],
                          [
                            0.5555555555555556,
                            "#d8576b"
                          ],
                          [
                            0.6666666666666666,
                            "#ed7953"
                          ],
                          [
                            0.7777777777777778,
                            "#fb9f3a"
                          ],
                          [
                            0.8888888888888888,
                            "#fdca26"
                          ],
                          [
                            1,
                            "#f0f921"
                          ]
                        ],
                        "type": "surface"
                      }
                    ],
                    "table": [
                      {
                        "cells": {
                          "fill": {
                            "color": "#EBF0F8"
                          },
                          "line": {
                            "color": "white"
                          }
                        },
                        "header": {
                          "fill": {
                            "color": "#C8D4E3"
                          },
                          "line": {
                            "color": "white"
                          }
                        },
                        "type": "table"
                      }
                    ]
                  },
                  "layout": {
                    "annotationdefaults": {
                      "arrowcolor": "#2a3f5f",
                      "arrowhead": 0,
                      "arrowwidth": 1
                    },
                    "autotypenumbers": "strict",
                    "coloraxis": {
                      "colorbar": {
                        "outlinewidth": 0,
                        "ticks": ""
                      }
                    },
                    "colorscale": {
                      "diverging": [
                        [
                          0,
                          "#8e0152"
                        ],
                        [
                          0.1,
                          "#c51b7d"
                        ],
                        [
                          0.2,
                          "#de77ae"
                        ],
                        [
                          0.3,
                          "#f1b6da"
                        ],
                        [
                          0.4,
                          "#fde0ef"
                        ],
                        [
                          0.5,
                          "#f7f7f7"
                        ],
                        [
                          0.6,
                          "#e6f5d0"
                        ],
                        [
                          0.7,
                          "#b8e186"
                        ],
                        [
                          0.8,
                          "#7fbc41"
                        ],
                        [
                          0.9,
                          "#4d9221"
                        ],
                        [
                          1,
                          "#276419"
                        ]
                      ],
                      "sequential": [
                        [
                          0,
                          "#0d0887"
                        ],
                        [
                          0.1111111111111111,
                          "#46039f"
                        ],
                        [
                          0.2222222222222222,
                          "#7201a8"
                        ],
                        [
                          0.3333333333333333,
                          "#9c179e"
                        ],
                        [
                          0.4444444444444444,
                          "#bd3786"
                        ],
                        [
                          0.5555555555555556,
                          "#d8576b"
                        ],
                        [
                          0.6666666666666666,
                          "#ed7953"
                        ],
                        [
                          0.7777777777777778,
                          "#fb9f3a"
                        ],
                        [
                          0.8888888888888888,
                          "#fdca26"
                        ],
                        [
                          1,
                          "#f0f921"
                        ]
                      ],
                      "sequentialminus": [
                        [
                          0,
                          "#0d0887"
                        ],
                        [
                          0.1111111111111111,
                          "#46039f"
                        ],
                        [
                          0.2222222222222222,
                          "#7201a8"
                        ],
                        [
                          0.3333333333333333,
                          "#9c179e"
                        ],
                        [
                          0.4444444444444444,
                          "#bd3786"
                        ],
                        [
                          0.5555555555555556,
                          "#d8576b"
                        ],
                        [
                          0.6666666666666666,
                          "#ed7953"
                        ],
                        [
                          0.7777777777777778,
                          "#fb9f3a"
                        ],
                        [
                          0.8888888888888888,
                          "#fdca26"
                        ],
                        [
                          1,
                          "#f0f921"
                        ]
                      ]
                    },
                    "colorway": [
                      "#636efa",
                      "#EF553B",
                      "#00cc96",
                      "#ab63fa",
                      "#FFA15A",
                      "#19d3f3",
                      "#FF6692",
                      "#B6E880",
                      "#FF97FF",
                      "#FECB52"
                    ],
                    "font": {
                      "color": "#2a3f5f"
                    },
                    "geo": {
                      "bgcolor": "white",
                      "lakecolor": "white",
                      "landcolor": "#E5ECF6",
                      "showlakes": true,
                      "showland": true,
                      "subunitcolor": "white"
                    },
                    "hoverlabel": {
                      "align": "left"
                    },
                    "hovermode": "closest",
                    "mapbox": {
                      "style": "light"
                    },
                    "paper_bgcolor": "white",
                    "plot_bgcolor": "#E5ECF6",
                    "polar": {
                      "angularaxis": {
                        "gridcolor": "white",
                        "linecolor": "white",
                        "ticks": ""
                      },
                      "bgcolor": "#E5ECF6",
                      "radialaxis": {
                        "gridcolor": "white",
                        "linecolor": "white",
                        "ticks": ""
                      }
                    },
                    "scene": {
                      "xaxis": {
                        "backgroundcolor": "#E5ECF6",
                        "gridcolor": "white",
                        "gridwidth": 2,
                        "linecolor": "white",
                        "showbackground": true,
                        "ticks": "",
                        "zerolinecolor": "white"
                      },
                      "yaxis": {
                        "backgroundcolor": "#E5ECF6",
                        "gridcolor": "white",
                        "gridwidth": 2,
                        "linecolor": "white",
                        "showbackground": true,
                        "ticks": "",
                        "zerolinecolor": "white"
                      },
                      "zaxis": {
                        "backgroundcolor": "#E5ECF6",
                        "gridcolor": "white",
                        "gridwidth": 2,
                        "linecolor": "white",
                        "showbackground": true,
                        "ticks": "",
                        "zerolinecolor": "white"
                      }
                    },
                    "shapedefaults": {
                      "line": {
                        "color": "#2a3f5f"
                      }
                    },
                    "ternary": {
                      "aaxis": {
                        "gridcolor": "white",
                        "linecolor": "white",
                        "ticks": ""
                      },
                      "baxis": {
                        "gridcolor": "white",
                        "linecolor": "white",
                        "ticks": ""
                      },
                      "bgcolor": "#E5ECF6",
                      "caxis": {
                        "gridcolor": "white",
                        "linecolor": "white",
                        "ticks": ""
                      }
                    },
                    "title": {
                      "x": 0.05
                    },
                    "xaxis": {
                      "automargin": true,
                      "gridcolor": "white",
                      "linecolor": "white",
                      "ticks": "",
                      "title": {
                        "standoff": 15
                      },
                      "zerolinecolor": "white",
                      "zerolinewidth": 2
                    },
                    "yaxis": {
                      "automargin": true,
                      "gridcolor": "white",
                      "linecolor": "white",
                      "ticks": "",
                      "title": {
                        "standoff": 15
                      },
                      "zerolinecolor": "white",
                      "zerolinewidth": 2
                    }
                  }
                },
                "title": {
                  "font": {
                    "size": 24
                  },
                  "text": "MT Bench",
                  "x": 0.5,
                  "xanchor": "center",
                  "y": 0.98,
                  "yanchor": "top"
                }
              }
            },
            "text/html": [
              "<div>                            <div id=\"6390ccd1-5398-4771-a14d-88839f789aaa\" class=\"plotly-graph-div\" style=\"height:525px; width:100%;\"></div>            <script type=\"text/javascript\">                require([\"plotly\"], function(Plotly) {                    window.PLOTLYENV=window.PLOTLYENV || {};                                    if (document.getElementById(\"6390ccd1-5398-4771-a14d-88839f789aaa\")) {                    Plotly.newPlot(                        \"6390ccd1-5398-4771-a14d-88839f789aaa\",                        [{\"hovertemplate\":\"model=Zamba2 1.2B instruct\\u003cbr\\u003escore=%{r}\\u003cbr\\u003ecategory=%{theta}\\u003cextra\\u003e\\u003c\\u002fextra\\u003e\",\"legendgroup\":\"Zamba2 1.2B instruct\",\"line\":{\"color\":\"#4C78A8\",\"dash\":\"solid\"},\"marker\":{\"symbol\":\"circle\"},\"mode\":\"lines+markers\",\"name\":\"Zamba2 1.2B instruct\",\"r\":[7.95,7.975,4.05,3.8,2.3,3.9,8.2,9.45,7.95],\"showlegend\":true,\"subplot\":\"polar\",\"theta\":[\"Writing\",\"Roleplay\",\"Reasoning\",\"Math\",\"Coding\",\"Extraction\",\"STEM\",\"Humanities\",\"Writing\"],\"type\":\"scatterpolar\"},{\"hovertemplate\":\"model=H2o-danube2 1.8B chat\\u003cbr\\u003escore=%{r}\\u003cbr\\u003ecategory=%{theta}\\u003cextra\\u003e\\u003c\\u002fextra\\u003e\",\"legendgroup\":\"H2o-danube2 1.8B chat\",\"line\":{\"color\":\"#F58518\",\"dash\":\"solid\"},\"marker\":{\"symbol\":\"circle\"},\"mode\":\"lines+markers\",\"name\":\"H2o-danube2 1.8B chat\",\"r\":[7.1,6.175,3.2,2.95,2.4,2.85,6.05,9.1,7.1],\"showlegend\":true,\"subplot\":\"polar\",\"theta\":[\"Writing\",\"Roleplay\",\"Reasoning\",\"Math\",\"Coding\",\"Extraction\",\"STEM\",\"Humanities\",\"Writing\"],\"type\":\"scatterpolar\"},{\"hovertemplate\":\"model=Stablelm2 1.6B chat\\u003cbr\\u003escore=%{r}\\u003cbr\\u003ecategory=%{theta}\\u003cextra\\u003e\\u003c\\u002fextra\\u003e\",\"legendgroup\":\"Stablelm2 1.6B chat\",\"line\":{\"color\":\"#E45756\",\"dash\":\"solid\"},\"marker\":{\"symbol\":\"circle\"},\"mode\":\"lines+markers\",\"name\":\"Stablelm2 1.6B chat\",\"r\":[6.2,6.55,3.7,2.7,2.9,4.0,6.55,7.3,6.2],\"showlegend\":true,\"subplot\":\"polar\",\"theta\":[\"Writing\",\"Roleplay\",\"Reasoning\",\"Math\",\"Coding\",\"Extraction\",\"STEM\",\"Humanities\",\"Writing\"],\"type\":\"scatterpolar\"},{\"hovertemplate\":\"model=SmolLM 1.7B instruct\\u003cbr\\u003escore=%{r}\\u003cbr\\u003ecategory=%{theta}\\u003cextra\\u003e\\u003c\\u002fextra\\u003e\",\"legendgroup\":\"SmolLM 1.7B instruct\",\"line\":{\"color\":\"#72B7B2\",\"dash\":\"solid\"},\"marker\":{\"symbol\":\"circle\"},\"mode\":\"lines+markers\",\"name\":\"SmolLM 1.7B instruct\",\"r\":[5.1,5.7,2.75,1.6,2.85,2.4,6.8,7.5,5.1],\"showlegend\":true,\"subplot\":\"polar\",\"theta\":[\"Writing\",\"Roleplay\",\"Reasoning\",\"Math\",\"Coding\",\"Extraction\",\"STEM\",\"Humanities\",\"Writing\"],\"type\":\"scatterpolar\"},{\"hovertemplate\":\"model=Gemma2 2.6B instruct\\u003cbr\\u003escore=%{r}\\u003cbr\\u003ecategory=%{theta}\\u003cextra\\u003e\\u003c\\u002fextra\\u003e\",\"legendgroup\":\"Gemma2 2.6B instruct\",\"line\":{\"color\":\"#54A24B\",\"dash\":\"solid\"},\"marker\":{\"symbol\":\"circle\"},\"mode\":\"lines+markers\",\"name\":\"Gemma2 2.6B instruct\",\"r\":[8.225,7.125,4.75,3.45,2.473684210526316,2.1,6.65,6.45,8.225],\"showlegend\":true,\"subplot\":\"polar\",\"theta\":[\"Writing\",\"Roleplay\",\"Reasoning\",\"Math\",\"Coding\",\"Extraction\",\"STEM\",\"Humanities\",\"Writing\"],\"type\":\"scatterpolar\"}],                        {\"template\":{\"data\":{\"histogram2dcontour\":[{\"type\":\"histogram2dcontour\",\"colorbar\":{\"outlinewidth\":0,\"ticks\":\"\"},\"colorscale\":[[0.0,\"#0d0887\"],[0.1111111111111111,\"#46039f\"],[0.2222222222222222,\"#7201a8\"],[0.3333333333333333,\"#9c179e\"],[0.4444444444444444,\"#bd3786\"],[0.5555555555555556,\"#d8576b\"],[0.6666666666666666,\"#ed7953\"],[0.7777777777777778,\"#fb9f3a\"],[0.8888888888888888,\"#fdca26\"],[1.0,\"#f0f921\"]]}],\"choropleth\":[{\"type\":\"choropleth\",\"colorbar\":{\"outlinewidth\":0,\"ticks\":\"\"}}],\"histogram2d\":[{\"type\":\"histogram2d\",\"colorbar\":{\"outlinewidth\":0,\"ticks\":\"\"},\"colorscale\":[[0.0,\"#0d0887\"],[0.1111111111111111,\"#46039f\"],[0.2222222222222222,\"#7201a8\"],[0.3333333333333333,\"#9c179e\"],[0.4444444444444444,\"#bd3786\"],[0.5555555555555556,\"#d8576b\"],[0.6666666666666666,\"#ed7953\"],[0.7777777777777778,\"#fb9f3a\"],[0.8888888888888888,\"#fdca26\"],[1.0,\"#f0f921\"]]}],\"heatmap\":[{\"type\":\"heatmap\",\"colorbar\":{\"outlinewidth\":0,\"ticks\":\"\"},\"colorscale\":[[0.0,\"#0d0887\"],[0.1111111111111111,\"#46039f\"],[0.2222222222222222,\"#7201a8\"],[0.3333333333333333,\"#9c179e\"],[0.4444444444444444,\"#bd3786\"],[0.5555555555555556,\"#d8576b\"],[0.6666666666666666,\"#ed7953\"],[0.7777777777777778,\"#fb9f3a\"],[0.8888888888888888,\"#fdca26\"],[1.0,\"#f0f921\"]]}],\"heatmapgl\":[{\"type\":\"heatmapgl\",\"colorbar\":{\"outlinewidth\":0,\"ticks\":\"\"},\"colorscale\":[[0.0,\"#0d0887\"],[0.1111111111111111,\"#46039f\"],[0.2222222222222222,\"#7201a8\"],[0.3333333333333333,\"#9c179e\"],[0.4444444444444444,\"#bd3786\"],[0.5555555555555556,\"#d8576b\"],[0.6666666666666666,\"#ed7953\"],[0.7777777777777778,\"#fb9f3a\"],[0.8888888888888888,\"#fdca26\"],[1.0,\"#f0f921\"]]}],\"contourcarpet\":[{\"type\":\"contourcarpet\",\"colorbar\":{\"outlinewidth\":0,\"ticks\":\"\"}}],\"contour\":[{\"type\":\"contour\",\"colorbar\":{\"outlinewidth\":0,\"ticks\":\"\"},\"colorscale\":[[0.0,\"#0d0887\"],[0.1111111111111111,\"#46039f\"],[0.2222222222222222,\"#7201a8\"],[0.3333333333333333,\"#9c179e\"],[0.4444444444444444,\"#bd3786\"],[0.5555555555555556,\"#d8576b\"],[0.6666666666666666,\"#ed7953\"],[0.7777777777777778,\"#fb9f3a\"],[0.8888888888888888,\"#fdca26\"],[1.0,\"#f0f921\"]]}],\"surface\":[{\"type\":\"surface\",\"colorbar\":{\"outlinewidth\":0,\"ticks\":\"\"},\"colorscale\":[[0.0,\"#0d0887\"],[0.1111111111111111,\"#46039f\"],[0.2222222222222222,\"#7201a8\"],[0.3333333333333333,\"#9c179e\"],[0.4444444444444444,\"#bd3786\"],[0.5555555555555556,\"#d8576b\"],[0.6666666666666666,\"#ed7953\"],[0.7777777777777778,\"#fb9f3a\"],[0.8888888888888888,\"#fdca26\"],[1.0,\"#f0f921\"]]}],\"mesh3d\":[{\"type\":\"mesh3d\",\"colorbar\":{\"outlinewidth\":0,\"ticks\":\"\"}}],\"scatter\":[{\"fillpattern\":{\"fillmode\":\"overlay\",\"size\":10,\"solidity\":0.2},\"type\":\"scatter\"}],\"parcoords\":[{\"type\":\"parcoords\",\"line\":{\"colorbar\":{\"outlinewidth\":0,\"ticks\":\"\"}}}],\"scatterpolargl\":[{\"type\":\"scatterpolargl\",\"marker\":{\"colorbar\":{\"outlinewidth\":0,\"ticks\":\"\"}}}],\"bar\":[{\"error_x\":{\"color\":\"#2a3f5f\"},\"error_y\":{\"color\":\"#2a3f5f\"},\"marker\":{\"line\":{\"color\":\"#E5ECF6\",\"width\":0.5},\"pattern\":{\"fillmode\":\"overlay\",\"size\":10,\"solidity\":0.2}},\"type\":\"bar\"}],\"scattergeo\":[{\"type\":\"scattergeo\",\"marker\":{\"colorbar\":{\"outlinewidth\":0,\"ticks\":\"\"}}}],\"scatterpolar\":[{\"type\":\"scatterpolar\",\"marker\":{\"colorbar\":{\"outlinewidth\":0,\"ticks\":\"\"}}}],\"histogram\":[{\"marker\":{\"pattern\":{\"fillmode\":\"overlay\",\"size\":10,\"solidity\":0.2}},\"type\":\"histogram\"}],\"scattergl\":[{\"type\":\"scattergl\",\"marker\":{\"colorbar\":{\"outlinewidth\":0,\"ticks\":\"\"}}}],\"scatter3d\":[{\"type\":\"scatter3d\",\"line\":{\"colorbar\":{\"outlinewidth\":0,\"ticks\":\"\"}},\"marker\":{\"colorbar\":{\"outlinewidth\":0,\"ticks\":\"\"}}}],\"scattermapbox\":[{\"type\":\"scattermapbox\",\"marker\":{\"colorbar\":{\"outlinewidth\":0,\"ticks\":\"\"}}}],\"scatterternary\":[{\"type\":\"scatterternary\",\"marker\":{\"colorbar\":{\"outlinewidth\":0,\"ticks\":\"\"}}}],\"scattercarpet\":[{\"type\":\"scattercarpet\",\"marker\":{\"colorbar\":{\"outlinewidth\":0,\"ticks\":\"\"}}}],\"carpet\":[{\"aaxis\":{\"endlinecolor\":\"#2a3f5f\",\"gridcolor\":\"white\",\"linecolor\":\"white\",\"minorgridcolor\":\"white\",\"startlinecolor\":\"#2a3f5f\"},\"baxis\":{\"endlinecolor\":\"#2a3f5f\",\"gridcolor\":\"white\",\"linecolor\":\"white\",\"minorgridcolor\":\"white\",\"startlinecolor\":\"#2a3f5f\"},\"type\":\"carpet\"}],\"table\":[{\"cells\":{\"fill\":{\"color\":\"#EBF0F8\"},\"line\":{\"color\":\"white\"}},\"header\":{\"fill\":{\"color\":\"#C8D4E3\"},\"line\":{\"color\":\"white\"}},\"type\":\"table\"}],\"barpolar\":[{\"marker\":{\"line\":{\"color\":\"#E5ECF6\",\"width\":0.5},\"pattern\":{\"fillmode\":\"overlay\",\"size\":10,\"solidity\":0.2}},\"type\":\"barpolar\"}],\"pie\":[{\"automargin\":true,\"type\":\"pie\"}]},\"layout\":{\"autotypenumbers\":\"strict\",\"colorway\":[\"#636efa\",\"#EF553B\",\"#00cc96\",\"#ab63fa\",\"#FFA15A\",\"#19d3f3\",\"#FF6692\",\"#B6E880\",\"#FF97FF\",\"#FECB52\"],\"font\":{\"color\":\"#2a3f5f\"},\"hovermode\":\"closest\",\"hoverlabel\":{\"align\":\"left\"},\"paper_bgcolor\":\"white\",\"plot_bgcolor\":\"#E5ECF6\",\"polar\":{\"bgcolor\":\"#E5ECF6\",\"angularaxis\":{\"gridcolor\":\"white\",\"linecolor\":\"white\",\"ticks\":\"\"},\"radialaxis\":{\"gridcolor\":\"white\",\"linecolor\":\"white\",\"ticks\":\"\"}},\"ternary\":{\"bgcolor\":\"#E5ECF6\",\"aaxis\":{\"gridcolor\":\"white\",\"linecolor\":\"white\",\"ticks\":\"\"},\"baxis\":{\"gridcolor\":\"white\",\"linecolor\":\"white\",\"ticks\":\"\"},\"caxis\":{\"gridcolor\":\"white\",\"linecolor\":\"white\",\"ticks\":\"\"}},\"coloraxis\":{\"colorbar\":{\"outlinewidth\":0,\"ticks\":\"\"}},\"colorscale\":{\"sequential\":[[0.0,\"#0d0887\"],[0.1111111111111111,\"#46039f\"],[0.2222222222222222,\"#7201a8\"],[0.3333333333333333,\"#9c179e\"],[0.4444444444444444,\"#bd3786\"],[0.5555555555555556,\"#d8576b\"],[0.6666666666666666,\"#ed7953\"],[0.7777777777777778,\"#fb9f3a\"],[0.8888888888888888,\"#fdca26\"],[1.0,\"#f0f921\"]],\"sequentialminus\":[[0.0,\"#0d0887\"],[0.1111111111111111,\"#46039f\"],[0.2222222222222222,\"#7201a8\"],[0.3333333333333333,\"#9c179e\"],[0.4444444444444444,\"#bd3786\"],[0.5555555555555556,\"#d8576b\"],[0.6666666666666666,\"#ed7953\"],[0.7777777777777778,\"#fb9f3a\"],[0.8888888888888888,\"#fdca26\"],[1.0,\"#f0f921\"]],\"diverging\":[[0,\"#8e0152\"],[0.1,\"#c51b7d\"],[0.2,\"#de77ae\"],[0.3,\"#f1b6da\"],[0.4,\"#fde0ef\"],[0.5,\"#f7f7f7\"],[0.6,\"#e6f5d0\"],[0.7,\"#b8e186\"],[0.8,\"#7fbc41\"],[0.9,\"#4d9221\"],[1,\"#276419\"]]},\"xaxis\":{\"gridcolor\":\"white\",\"linecolor\":\"white\",\"ticks\":\"\",\"title\":{\"standoff\":15},\"zerolinecolor\":\"white\",\"automargin\":true,\"zerolinewidth\":2},\"yaxis\":{\"gridcolor\":\"white\",\"linecolor\":\"white\",\"ticks\":\"\",\"title\":{\"standoff\":15},\"zerolinecolor\":\"white\",\"automargin\":true,\"zerolinewidth\":2},\"scene\":{\"xaxis\":{\"backgroundcolor\":\"#E5ECF6\",\"gridcolor\":\"white\",\"linecolor\":\"white\",\"showbackground\":true,\"ticks\":\"\",\"zerolinecolor\":\"white\",\"gridwidth\":2},\"yaxis\":{\"backgroundcolor\":\"#E5ECF6\",\"gridcolor\":\"white\",\"linecolor\":\"white\",\"showbackground\":true,\"ticks\":\"\",\"zerolinecolor\":\"white\",\"gridwidth\":2},\"zaxis\":{\"backgroundcolor\":\"#E5ECF6\",\"gridcolor\":\"white\",\"linecolor\":\"white\",\"showbackground\":true,\"ticks\":\"\",\"zerolinecolor\":\"white\",\"gridwidth\":2}},\"shapedefaults\":{\"line\":{\"color\":\"#2a3f5f\"}},\"annotationdefaults\":{\"arrowcolor\":\"#2a3f5f\",\"arrowhead\":0,\"arrowwidth\":1},\"geo\":{\"bgcolor\":\"white\",\"landcolor\":\"#E5ECF6\",\"subunitcolor\":\"white\",\"showland\":true,\"showlakes\":true,\"lakecolor\":\"white\"},\"title\":{\"x\":0.05},\"mapbox\":{\"style\":\"light\"}}},\"polar\":{\"domain\":{\"x\":[0.0,1.0],\"y\":[0.0,1.0]},\"angularaxis\":{\"direction\":\"clockwise\",\"rotation\":90,\"categoryorder\":\"array\",\"categoryarray\":[\"Writing\",\"Roleplay\",\"Reasoning\",\"Math\",\"Coding\",\"Extraction\",\"STEM\",\"Humanities\"]}},\"legend\":{\"title\":{},\"tracegroupgap\":0,\"orientation\":\"h\",\"y\":-0.2,\"x\":0.5,\"xanchor\":\"center\",\"yanchor\":\"top\",\"itemwidth\":50,\"traceorder\":\"normal\"},\"margin\":{\"t\":60},\"title\":{\"font\":{\"size\":24},\"text\":\"MT Bench\",\"x\":0.5,\"y\":0.98,\"xanchor\":\"center\",\"yanchor\":\"top\"}},                        {\"responsive\": true}                    ).then(function(){\n",
              "                            \n",
              "var gd = document.getElementById('6390ccd1-5398-4771-a14d-88839f789aaa');\n",
              "var x = new MutationObserver(function (mutations, observer) {{\n",
              "        var display = window.getComputedStyle(gd).display;\n",
              "        if (!display || display === 'none') {{\n",
              "            console.log([gd, 'removed!']);\n",
              "            Plotly.purge(gd);\n",
              "            observer.disconnect();\n",
              "        }}\n",
              "}});\n",
              "\n",
              "// Listen for the removal of the full notebook cells\n",
              "var notebookContainer = gd.closest('#notebook-container');\n",
              "if (notebookContainer) {{\n",
              "    x.observe(notebookContainer, {childList: true});\n",
              "}}\n",
              "\n",
              "// Listen for the clearing of the current output cell\n",
              "var outputEl = gd.closest('.output');\n",
              "if (outputEl) {{\n",
              "    x.observe(outputEl, {childList: true});\n",
              "}}\n",
              "\n",
              "                        })                };                });            </script>        </div>"
            ]
          },
          "metadata": {},
          "output_type": "display_data"
        }
      ],
      "source": [
        "import json\n",
        "import pandas as pd\n",
        "import plotly.express as px\n",
        "import plotly.graph_objects as go\n",
        "\n",
        "\n",
        "CATEGORIES = [\"Writing\", \"Roleplay\", \"Reasoning\", \"Math\", \"Coding\", \"Extraction\", \"STEM\", \"Humanities\"]\n",
        "\n",
        "\n",
        "def get_model_df():\n",
        "    cnt = 0\n",
        "    q2result = []\n",
        "    fin = open(\"/workspace/FastChat/fastchat/llm_judge/data/mt_bench/model_judgment/gpt-4_single.jsonl\", \"r\")\n",
        "    for line in fin:\n",
        "        obj = json.loads(line)\n",
        "        obj[\"category\"] = CATEGORIES[(obj[\"question_id\"]-81)//10]\n",
        "        q2result.append(obj)\n",
        "    df = pd.DataFrame(q2result)\n",
        "    return df\n",
        "\n",
        "def toggle(res_str):\n",
        "    if res_str == \"win\":\n",
        "        return \"loss\"\n",
        "    elif res_str == \"loss\":\n",
        "        return \"win\"\n",
        "    return \"tie\"\n",
        "\n",
        "def get_model_df_pair():\n",
        "    fin = open(\"gpt-4_pair.jsonl\", \"r\")\n",
        "    cnt = 0\n",
        "    q2result = []\n",
        "    for line in fin:\n",
        "        obj = json.loads(line)\n",
        "\n",
        "        result = {}\n",
        "        result[\"qid\"] = str(obj[\"question_id\"])\n",
        "        result[\"turn\"] = str(obj[\"turn\"])\n",
        "        if obj[\"g1_winner\"] == \"model_1\" and obj[\"g2_winner\"] == \"model_1\":\n",
        "            result[\"result\"] = \"win\"\n",
        "        elif obj[\"g1_winner\"] == \"model_2\" and obj[\"g2_winner\"] == \"model_2\":\n",
        "            result[\"result\"] = \"loss\"\n",
        "        else:\n",
        "            result[\"result\"] = \"tie\"\n",
        "        result[\"category\"] = CATEGORIES[(obj[\"question_id\"]-81)//10]\n",
        "        result[\"model\"] = obj[\"model_1\"]\n",
        "        q2result.append(result)\n",
        "\n",
        "    df = pd.DataFrame(q2result)\n",
        "\n",
        "    return df\n",
        "\n",
        "df = get_model_df()\n",
        "df_pair = get_model_df_pair()\n",
        "\n",
        "\n",
        "all_models = df[\"model\"].unique()\n",
        "print(all_models)\n",
        "scores_all = []\n",
        "for model in all_models:\n",
        "    for cat in CATEGORIES:\n",
        "        # filter category/model, and score format error (<1% case)\n",
        "        res = df[(df[\"category\"]==cat) & (df[\"model\"]==model) & (df[\"score\"] >= 0)]\n",
        "        score = res[\"score\"].mean()\n",
        "\n",
        "\n",
        "        # scores_all.append({\"model\": model, \"category\": cat, \"score\": score, \"winrate\": winrate, \"wtrate\": winrate_adjusted})\n",
        "        scores_all.append({\"model\": model, \"category\": cat, \"score\": score})\n",
        "        \n",
        "        \n",
        "        \n",
        "# target_models = [\"Llama-2-7b-chat\", \"Llama-2-13b-chat\", \"Llama-2-70b-chat\", \"gpt-3.5-turbo\", \"claude-v1\", \"gpt-4\"]\n",
        "\n",
        "target_models = ['instr_release_ultrafeedback_batch32_rejected_fully_from_zamba_round3',\n",
        " 'nstr_release_ultrafeedback_batch32_rejected_fully_from_zamba_round2',\n",
        " 'instr_release_ultrafeedback_infinfstruct_batch32_with_actual_mix_infinstr_ultrachat',\n",
        " 'instr_release_ultrafeedback_batch32_rejected_half_from_zamba_round3',\n",
        " 'instr_release_ultrafeedback_infinfstruct_batch32_with_actual_mix_infinstr_ultrachat_round3',\n",
        " 'instr_release_ultrafeedback_batch32_rejected_fully_from_zamba',\n",
        " 'instr_release_ultrafeedback_batch32_rejected_half_from_zamba_round2',\n",
        " 'instr_release_ultrafeedback_infinfstruct_batch32_with_actual_mix_infinstr_ultrachat_round2',\n",
        " 'instr_release_ultrafeedback_batch32_rejected_half_from_zamba',\n",
        " 'gemma-2-2b-it', 'ultrafeedback_openhermespref_orcadoppairs_4epochs',\n",
        " 'ultrafeedback_openhermespref_orcadoppairs_1epoch',\n",
        " 'ultrafeedback_openhermespref_orcadoppairs_1epoch_then_2epochs',\n",
        " 'ultrafeedback_openhermespref_orcadoppairs_1epoch_then_2epochs_then_1epoch',\n",
        " 'HuggingFaceTB_SmolLM-1.7B-Instruct', 'microsoft_Phi-3-mini-4k-instruct',\n",
        " 'Qwen_Qwen2-1.5B-Instruct', 'stabilityai_stablelm-2-1_6b-chat',\n",
        " 'microsoft_Phi-3.5-mini-instruct', 'h2oai_h2o-danube3-4b-chat',\n",
        " 'stabilityai_stablelm-zephyr-3b', 'h2oai_h2o-danube2-1.8b-chat',\n",
        " 'zamba2_1B_ultrafeedback_openhermespref_orcadoppairs_1epoch_then_1epoch_then_1epoch']\n",
        "\n",
        "\n",
        "\n",
        "scores_target = [scores_all[i] for i in range(len(scores_all)) if scores_all[i][\"model\"] in target_models]\n",
        "\n",
        "# sort by target_models\n",
        "scores_target = sorted(scores_target, key=lambda x: target_models.index(x[\"model\"]), reverse=True)\n",
        "\n",
        "df_score = pd.DataFrame(scores_target)\n",
        "\n",
        "\n",
        "# Drop specific models using DataFrame.drop()\n",
        "models_to_drop = ['instr_release_ultrafeedback_batch32_rejected_fully_from_zamba_round3',\n",
        " 'nstr_release_ultrafeedback_batch32_rejected_fully_from_zamba_round2',\n",
        " 'instr_release_ultrafeedback_infinfstruct_batch32_with_actual_mix_infinstr_ultrachat',\n",
        " 'instr_release_ultrafeedback_batch32_rejected_half_from_zamba_round3',\n",
        " 'instr_release_ultrafeedback_infinfstruct_batch32_with_actual_mix_infinstr_ultrachat_round3',\n",
        " 'instr_release_ultrafeedback_batch32_rejected_fully_from_zamba',\n",
        " 'instr_release_ultrafeedback_batch32_rejected_half_from_zamba_round2',\n",
        " 'instr_release_ultrafeedback_infinfstruct_batch32_with_actual_mix_infinstr_ultrachat_round2',\n",
        " 'instr_release_ultrafeedback_batch32_rejected_half_from_zamba',\n",
        " 'ultrafeedback_openhermespref_orcadoppairs_4epochs',\n",
        " 'ultrafeedback_openhermespref_orcadoppairs_1epoch',\n",
        " 'ultrafeedback_openhermespref_orcadoppairs_1epoch_then_2epochs',\n",
        " 'ultrafeedback_openhermespref_orcadoppairs_1epoch_then_2epochs_then_1epoch',\n",
        " 'Qwen_Qwen2-1.5B-Instruct',\n",
        " # 'HuggingFaceTB_SmolLM-1.7B-Instruct', \n",
        " 'microsoft_Phi-3-mini-4k-instruct',\n",
        " # 'stabilityai_stablelm-2-1_6b-chat',\n",
        " 'microsoft_Phi-3.5-mini-instruct', 'h2oai_h2o-danube3-4b-chat',\n",
        " 'stabilityai_stablelm-zephyr-3b'\n",
        " # 'h2oai_h2o-danube2-1.8b-chat',\n",
        " # 'zamba2_1B_ultrafeedback_openhermespref_orcadoppairs_1epoch_then_1epoch_then_1epoch'\n",
        "]\n",
        "\n",
        "# Filter out the models to drop\n",
        "df_score = df_score[~df_score['model'].isin(models_to_drop)]\n",
        "\n",
        "rename_map = {'zamba2_1B_ultrafeedback_openhermespref_orcadoppairs_1epoch_then_1epoch_then_1epoch': 'Zamba2 1.2B instruct',\n",
        "              'h2oai_h2o-danube2-1.8b-chat': \"H2o-danube2 1.8B chat\",\n",
        "              'stabilityai_stablelm-2-1_6b-chat': \"Stablelm2 1.6B chat\",\n",
        "              'HuggingFaceTB_SmolLM-1.7B-Instruct': 'SmolLM 1.7B instruct',\n",
        "              'gemma-2-2b-it': 'Gemma2 2.6B instruct'}\n",
        "\n",
        "for k, v in rename_map.items():\n",
        "    df_score.replace(k, v, inplace=True)\n",
        "\n",
        "# # Plot the updated DataFrame\n",
        "# fig = px.line_polar(df_score, r='score', theta='category', line_close=True, category_orders={\"category\": CATEGORIES},\n",
        "#                     color='model', markers=True, color_discrete_sequence=px.colors.qualitative.T10)\n",
        "\n",
        "# # Add an overall centered title to the plot\n",
        "# fig.update_layout(\n",
        "#     title={\n",
        "#         'text': 'MT Bench',\n",
        "#         'x': 0.5,  # Center the title horizontally\n",
        "#         'y': 0.95,\n",
        "#         'xanchor': 'center',  # Align the title to the center\n",
        "#         'yanchor': 'top'\n",
        "#     }\n",
        "# )\n",
        "\n",
        "\n",
        "fig = px.line_polar(df_score, r='score', theta='category', line_close=True, category_orders={\"category\": CATEGORIES},\n",
        "                    color='model', markers=True, color_discrete_sequence=px.colors.qualitative.T10)\n",
        "\n",
        "# Add an overall centered title to the plot and adjust the legend\n",
        "fig.update_layout(\n",
        "    title={\n",
        "        'text': 'MT Bench',\n",
        "        'x': 0.5,\n",
        "        'y': 0.98,\n",
        "        'xanchor': 'center',\n",
        "        'yanchor': 'top',\n",
        "        'font': dict(size=24)\n",
        "    },\n",
        "    legend=dict(\n",
        "        title_text=None,  # Remove the title of the legend\n",
        "        orientation='h',  # Horizontal legend\n",
        "        y=-0.2,  # Position the legend below the plot\n",
        "        x=0.5,  # Center the legend horizontally\n",
        "        xanchor='center',\n",
        "        yanchor='top',\n",
        "        itemwidth=50,  # Adjust the width of each legend item\n",
        "        traceorder='normal'\n",
        "    )\n",
        ")\n",
        "\n",
        "fig.show()"
      ]
    },
    {
      "cell_type": "code",
      "execution_count": 124,
      "metadata": {},
      "outputs": [
        {
          "data": {
            "application/vnd.plotly.v1+json": {
              "config": {
                "plotlyServerURL": "https://plot.ly"
              },
              "data": [
                {
                  "alignmentgroup": "True",
                  "hovertemplate": "model=H2o-danube2 1.8B chat<br>=%{y}<extra></extra>",
                  "legendgroup": "H2o-danube2 1.8B chat",
                  "marker": {
                    "color": "#4C78A8",
                    "line": {
                      "color": "black",
                      "width": 1
                    },
                    "pattern": {
                      "shape": ""
                    }
                  },
                  "name": "H2o-danube2 1.8B chat",
                  "offsetgroup": "H2o-danube2 1.8B chat",
                  "opacity": 0.65,
                  "orientation": "v",
                  "showlegend": true,
                  "textposition": "auto",
                  "type": "bar",
                  "x": [
                    "Writing",
                    "Roleplay",
                    "Reasoning",
                    "Math",
                    "Coding",
                    "Extraction",
                    "STEM",
                    "Humanities"
                  ],
                  "xaxis": "x",
                  "y": [
                    7.1,
                    6.175,
                    3.2,
                    2.95,
                    2.4,
                    2.85,
                    6.05,
                    9.1
                  ],
                  "yaxis": "y"
                },
                {
                  "alignmentgroup": "True",
                  "hovertemplate": "model=Stablelm2 1.6B chat<br>=%{y}<extra></extra>",
                  "legendgroup": "Stablelm2 1.6B chat",
                  "marker": {
                    "color": "#F58518",
                    "line": {
                      "color": "black",
                      "width": 1
                    },
                    "pattern": {
                      "shape": ""
                    }
                  },
                  "name": "Stablelm2 1.6B chat",
                  "offsetgroup": "Stablelm2 1.6B chat",
                  "opacity": 0.65,
                  "orientation": "v",
                  "showlegend": true,
                  "textposition": "auto",
                  "type": "bar",
                  "x": [
                    "Writing",
                    "Roleplay",
                    "Reasoning",
                    "Math",
                    "Coding",
                    "Extraction",
                    "STEM",
                    "Humanities"
                  ],
                  "xaxis": "x",
                  "y": [
                    6.2,
                    6.55,
                    3.7,
                    2.7,
                    2.9,
                    4,
                    6.55,
                    7.3
                  ],
                  "yaxis": "y"
                },
                {
                  "alignmentgroup": "True",
                  "hovertemplate": "model=SmolLM 1.7B instruct<br>=%{y}<extra></extra>",
                  "legendgroup": "SmolLM 1.7B instruct",
                  "marker": {
                    "color": "#AADDAA",
                    "line": {
                      "color": "black",
                      "width": 1
                    },
                    "pattern": {
                      "shape": ""
                    }
                  },
                  "name": "SmolLM 1.7B instruct",
                  "offsetgroup": "SmolLM 1.7B instruct",
                  "orientation": "v",
                  "showlegend": true,
                  "textposition": "auto",
                  "type": "bar",
                  "x": [
                    "Writing",
                    "Roleplay",
                    "Reasoning",
                    "Math",
                    "Coding",
                    "Extraction",
                    "STEM",
                    "Humanities"
                  ],
                  "xaxis": "x",
                  "y": [
                    5.1,
                    5.7,
                    2.75,
                    1.6,
                    2.85,
                    2.4,
                    6.8,
                    7.5
                  ],
                  "yaxis": "y"
                },
                {
                  "alignmentgroup": "True",
                  "hovertemplate": "model=Gemma2 2.6B instruct<br>=%{y}<extra></extra>",
                  "legendgroup": "Gemma2 2.6B instruct",
                  "marker": {
                    "color": "#72B7B2",
                    "line": {
                      "color": "black",
                      "width": 1
                    },
                    "pattern": {
                      "shape": ""
                    }
                  },
                  "name": "Gemma2 2.6B instruct",
                  "offsetgroup": "Gemma2 2.6B instruct",
                  "opacity": 0.65,
                  "orientation": "v",
                  "showlegend": true,
                  "textposition": "auto",
                  "type": "bar",
                  "x": [
                    "Writing",
                    "Roleplay",
                    "Reasoning",
                    "Math",
                    "Coding",
                    "Extraction",
                    "STEM",
                    "Humanities"
                  ],
                  "xaxis": "x",
                  "y": [
                    8.225,
                    7.125,
                    4.75,
                    3.45,
                    2.473684210526316,
                    2.1,
                    6.65,
                    6.45
                  ],
                  "yaxis": "y"
                },
                {
                  "alignmentgroup": "True",
                  "hovertemplate": "model=Zamba2 1.2B instruct<br>=%{y}<extra></extra>",
                  "legendgroup": "Zamba2 1.2B instruct",
                  "marker": {
                    "color": "#FC8E86",
                    "line": {
                      "color": "#AA5733",
                      "width": 3
                    },
                    "pattern": {
                      "shape": ""
                    }
                  },
                  "name": "<b>Zamba2 1.2B instruct</b>",
                  "offsetgroup": "Zamba2 1.2B instruct",
                  "opacity": 0.95,
                  "orientation": "v",
                  "showlegend": true,
                  "textposition": "auto",
                  "type": "bar",
                  "x": [
                    "Writing",
                    "Roleplay",
                    "Reasoning",
                    "Math",
                    "Coding",
                    "Extraction",
                    "STEM",
                    "Humanities"
                  ],
                  "xaxis": "x",
                  "y": [
                    7.95,
                    7.975,
                    4.05,
                    3.8,
                    2.3,
                    3.9,
                    8.2,
                    9.45
                  ],
                  "yaxis": "y"
                }
              ],
              "layout": {
                "barmode": "group",
                "legend": {
                  "font": {
                    "size": 20
                  },
                  "itemwidth": 50,
                  "orientation": "h",
                  "title": {},
                  "tracegroupgap": 0,
                  "traceorder": "normal",
                  "x": 0.5,
                  "xanchor": "center",
                  "y": -0.3,
                  "yanchor": "top"
                },
                "margin": {
                  "t": 60
                },
                "template": {
                  "data": {
                    "bar": [
                      {
                        "error_x": {
                          "color": "#2a3f5f"
                        },
                        "error_y": {
                          "color": "#2a3f5f"
                        },
                        "marker": {
                          "line": {
                            "color": "#E5ECF6",
                            "width": 0.5
                          },
                          "pattern": {
                            "fillmode": "overlay",
                            "size": 10,
                            "solidity": 0.2
                          }
                        },
                        "type": "bar"
                      }
                    ],
                    "barpolar": [
                      {
                        "marker": {
                          "line": {
                            "color": "#E5ECF6",
                            "width": 0.5
                          },
                          "pattern": {
                            "fillmode": "overlay",
                            "size": 10,
                            "solidity": 0.2
                          }
                        },
                        "type": "barpolar"
                      }
                    ],
                    "carpet": [
                      {
                        "aaxis": {
                          "endlinecolor": "#2a3f5f",
                          "gridcolor": "white",
                          "linecolor": "white",
                          "minorgridcolor": "white",
                          "startlinecolor": "#2a3f5f"
                        },
                        "baxis": {
                          "endlinecolor": "#2a3f5f",
                          "gridcolor": "white",
                          "linecolor": "white",
                          "minorgridcolor": "white",
                          "startlinecolor": "#2a3f5f"
                        },
                        "type": "carpet"
                      }
                    ],
                    "choropleth": [
                      {
                        "colorbar": {
                          "outlinewidth": 0,
                          "ticks": ""
                        },
                        "type": "choropleth"
                      }
                    ],
                    "contour": [
                      {
                        "colorbar": {
                          "outlinewidth": 0,
                          "ticks": ""
                        },
                        "colorscale": [
                          [
                            0,
                            "#0d0887"
                          ],
                          [
                            0.1111111111111111,
                            "#46039f"
                          ],
                          [
                            0.2222222222222222,
                            "#7201a8"
                          ],
                          [
                            0.3333333333333333,
                            "#9c179e"
                          ],
                          [
                            0.4444444444444444,
                            "#bd3786"
                          ],
                          [
                            0.5555555555555556,
                            "#d8576b"
                          ],
                          [
                            0.6666666666666666,
                            "#ed7953"
                          ],
                          [
                            0.7777777777777778,
                            "#fb9f3a"
                          ],
                          [
                            0.8888888888888888,
                            "#fdca26"
                          ],
                          [
                            1,
                            "#f0f921"
                          ]
                        ],
                        "type": "contour"
                      }
                    ],
                    "contourcarpet": [
                      {
                        "colorbar": {
                          "outlinewidth": 0,
                          "ticks": ""
                        },
                        "type": "contourcarpet"
                      }
                    ],
                    "heatmap": [
                      {
                        "colorbar": {
                          "outlinewidth": 0,
                          "ticks": ""
                        },
                        "colorscale": [
                          [
                            0,
                            "#0d0887"
                          ],
                          [
                            0.1111111111111111,
                            "#46039f"
                          ],
                          [
                            0.2222222222222222,
                            "#7201a8"
                          ],
                          [
                            0.3333333333333333,
                            "#9c179e"
                          ],
                          [
                            0.4444444444444444,
                            "#bd3786"
                          ],
                          [
                            0.5555555555555556,
                            "#d8576b"
                          ],
                          [
                            0.6666666666666666,
                            "#ed7953"
                          ],
                          [
                            0.7777777777777778,
                            "#fb9f3a"
                          ],
                          [
                            0.8888888888888888,
                            "#fdca26"
                          ],
                          [
                            1,
                            "#f0f921"
                          ]
                        ],
                        "type": "heatmap"
                      }
                    ],
                    "heatmapgl": [
                      {
                        "colorbar": {
                          "outlinewidth": 0,
                          "ticks": ""
                        },
                        "colorscale": [
                          [
                            0,
                            "#0d0887"
                          ],
                          [
                            0.1111111111111111,
                            "#46039f"
                          ],
                          [
                            0.2222222222222222,
                            "#7201a8"
                          ],
                          [
                            0.3333333333333333,
                            "#9c179e"
                          ],
                          [
                            0.4444444444444444,
                            "#bd3786"
                          ],
                          [
                            0.5555555555555556,
                            "#d8576b"
                          ],
                          [
                            0.6666666666666666,
                            "#ed7953"
                          ],
                          [
                            0.7777777777777778,
                            "#fb9f3a"
                          ],
                          [
                            0.8888888888888888,
                            "#fdca26"
                          ],
                          [
                            1,
                            "#f0f921"
                          ]
                        ],
                        "type": "heatmapgl"
                      }
                    ],
                    "histogram": [
                      {
                        "marker": {
                          "pattern": {
                            "fillmode": "overlay",
                            "size": 10,
                            "solidity": 0.2
                          }
                        },
                        "type": "histogram"
                      }
                    ],
                    "histogram2d": [
                      {
                        "colorbar": {
                          "outlinewidth": 0,
                          "ticks": ""
                        },
                        "colorscale": [
                          [
                            0,
                            "#0d0887"
                          ],
                          [
                            0.1111111111111111,
                            "#46039f"
                          ],
                          [
                            0.2222222222222222,
                            "#7201a8"
                          ],
                          [
                            0.3333333333333333,
                            "#9c179e"
                          ],
                          [
                            0.4444444444444444,
                            "#bd3786"
                          ],
                          [
                            0.5555555555555556,
                            "#d8576b"
                          ],
                          [
                            0.6666666666666666,
                            "#ed7953"
                          ],
                          [
                            0.7777777777777778,
                            "#fb9f3a"
                          ],
                          [
                            0.8888888888888888,
                            "#fdca26"
                          ],
                          [
                            1,
                            "#f0f921"
                          ]
                        ],
                        "type": "histogram2d"
                      }
                    ],
                    "histogram2dcontour": [
                      {
                        "colorbar": {
                          "outlinewidth": 0,
                          "ticks": ""
                        },
                        "colorscale": [
                          [
                            0,
                            "#0d0887"
                          ],
                          [
                            0.1111111111111111,
                            "#46039f"
                          ],
                          [
                            0.2222222222222222,
                            "#7201a8"
                          ],
                          [
                            0.3333333333333333,
                            "#9c179e"
                          ],
                          [
                            0.4444444444444444,
                            "#bd3786"
                          ],
                          [
                            0.5555555555555556,
                            "#d8576b"
                          ],
                          [
                            0.6666666666666666,
                            "#ed7953"
                          ],
                          [
                            0.7777777777777778,
                            "#fb9f3a"
                          ],
                          [
                            0.8888888888888888,
                            "#fdca26"
                          ],
                          [
                            1,
                            "#f0f921"
                          ]
                        ],
                        "type": "histogram2dcontour"
                      }
                    ],
                    "mesh3d": [
                      {
                        "colorbar": {
                          "outlinewidth": 0,
                          "ticks": ""
                        },
                        "type": "mesh3d"
                      }
                    ],
                    "parcoords": [
                      {
                        "line": {
                          "colorbar": {
                            "outlinewidth": 0,
                            "ticks": ""
                          }
                        },
                        "type": "parcoords"
                      }
                    ],
                    "pie": [
                      {
                        "automargin": true,
                        "type": "pie"
                      }
                    ],
                    "scatter": [
                      {
                        "fillpattern": {
                          "fillmode": "overlay",
                          "size": 10,
                          "solidity": 0.2
                        },
                        "type": "scatter"
                      }
                    ],
                    "scatter3d": [
                      {
                        "line": {
                          "colorbar": {
                            "outlinewidth": 0,
                            "ticks": ""
                          }
                        },
                        "marker": {
                          "colorbar": {
                            "outlinewidth": 0,
                            "ticks": ""
                          }
                        },
                        "type": "scatter3d"
                      }
                    ],
                    "scattercarpet": [
                      {
                        "marker": {
                          "colorbar": {
                            "outlinewidth": 0,
                            "ticks": ""
                          }
                        },
                        "type": "scattercarpet"
                      }
                    ],
                    "scattergeo": [
                      {
                        "marker": {
                          "colorbar": {
                            "outlinewidth": 0,
                            "ticks": ""
                          }
                        },
                        "type": "scattergeo"
                      }
                    ],
                    "scattergl": [
                      {
                        "marker": {
                          "colorbar": {
                            "outlinewidth": 0,
                            "ticks": ""
                          }
                        },
                        "type": "scattergl"
                      }
                    ],
                    "scattermapbox": [
                      {
                        "marker": {
                          "colorbar": {
                            "outlinewidth": 0,
                            "ticks": ""
                          }
                        },
                        "type": "scattermapbox"
                      }
                    ],
                    "scatterpolar": [
                      {
                        "marker": {
                          "colorbar": {
                            "outlinewidth": 0,
                            "ticks": ""
                          }
                        },
                        "type": "scatterpolar"
                      }
                    ],
                    "scatterpolargl": [
                      {
                        "marker": {
                          "colorbar": {
                            "outlinewidth": 0,
                            "ticks": ""
                          }
                        },
                        "type": "scatterpolargl"
                      }
                    ],
                    "scatterternary": [
                      {
                        "marker": {
                          "colorbar": {
                            "outlinewidth": 0,
                            "ticks": ""
                          }
                        },
                        "type": "scatterternary"
                      }
                    ],
                    "surface": [
                      {
                        "colorbar": {
                          "outlinewidth": 0,
                          "ticks": ""
                        },
                        "colorscale": [
                          [
                            0,
                            "#0d0887"
                          ],
                          [
                            0.1111111111111111,
                            "#46039f"
                          ],
                          [
                            0.2222222222222222,
                            "#7201a8"
                          ],
                          [
                            0.3333333333333333,
                            "#9c179e"
                          ],
                          [
                            0.4444444444444444,
                            "#bd3786"
                          ],
                          [
                            0.5555555555555556,
                            "#d8576b"
                          ],
                          [
                            0.6666666666666666,
                            "#ed7953"
                          ],
                          [
                            0.7777777777777778,
                            "#fb9f3a"
                          ],
                          [
                            0.8888888888888888,
                            "#fdca26"
                          ],
                          [
                            1,
                            "#f0f921"
                          ]
                        ],
                        "type": "surface"
                      }
                    ],
                    "table": [
                      {
                        "cells": {
                          "fill": {
                            "color": "#EBF0F8"
                          },
                          "line": {
                            "color": "white"
                          }
                        },
                        "header": {
                          "fill": {
                            "color": "#C8D4E3"
                          },
                          "line": {
                            "color": "white"
                          }
                        },
                        "type": "table"
                      }
                    ]
                  },
                  "layout": {
                    "annotationdefaults": {
                      "arrowcolor": "#2a3f5f",
                      "arrowhead": 0,
                      "arrowwidth": 1
                    },
                    "autotypenumbers": "strict",
                    "coloraxis": {
                      "colorbar": {
                        "outlinewidth": 0,
                        "ticks": ""
                      }
                    },
                    "colorscale": {
                      "diverging": [
                        [
                          0,
                          "#8e0152"
                        ],
                        [
                          0.1,
                          "#c51b7d"
                        ],
                        [
                          0.2,
                          "#de77ae"
                        ],
                        [
                          0.3,
                          "#f1b6da"
                        ],
                        [
                          0.4,
                          "#fde0ef"
                        ],
                        [
                          0.5,
                          "#f7f7f7"
                        ],
                        [
                          0.6,
                          "#e6f5d0"
                        ],
                        [
                          0.7,
                          "#b8e186"
                        ],
                        [
                          0.8,
                          "#7fbc41"
                        ],
                        [
                          0.9,
                          "#4d9221"
                        ],
                        [
                          1,
                          "#276419"
                        ]
                      ],
                      "sequential": [
                        [
                          0,
                          "#0d0887"
                        ],
                        [
                          0.1111111111111111,
                          "#46039f"
                        ],
                        [
                          0.2222222222222222,
                          "#7201a8"
                        ],
                        [
                          0.3333333333333333,
                          "#9c179e"
                        ],
                        [
                          0.4444444444444444,
                          "#bd3786"
                        ],
                        [
                          0.5555555555555556,
                          "#d8576b"
                        ],
                        [
                          0.6666666666666666,
                          "#ed7953"
                        ],
                        [
                          0.7777777777777778,
                          "#fb9f3a"
                        ],
                        [
                          0.8888888888888888,
                          "#fdca26"
                        ],
                        [
                          1,
                          "#f0f921"
                        ]
                      ],
                      "sequentialminus": [
                        [
                          0,
                          "#0d0887"
                        ],
                        [
                          0.1111111111111111,
                          "#46039f"
                        ],
                        [
                          0.2222222222222222,
                          "#7201a8"
                        ],
                        [
                          0.3333333333333333,
                          "#9c179e"
                        ],
                        [
                          0.4444444444444444,
                          "#bd3786"
                        ],
                        [
                          0.5555555555555556,
                          "#d8576b"
                        ],
                        [
                          0.6666666666666666,
                          "#ed7953"
                        ],
                        [
                          0.7777777777777778,
                          "#fb9f3a"
                        ],
                        [
                          0.8888888888888888,
                          "#fdca26"
                        ],
                        [
                          1,
                          "#f0f921"
                        ]
                      ]
                    },
                    "colorway": [
                      "#636efa",
                      "#EF553B",
                      "#00cc96",
                      "#ab63fa",
                      "#FFA15A",
                      "#19d3f3",
                      "#FF6692",
                      "#B6E880",
                      "#FF97FF",
                      "#FECB52"
                    ],
                    "font": {
                      "color": "#2a3f5f"
                    },
                    "geo": {
                      "bgcolor": "white",
                      "lakecolor": "white",
                      "landcolor": "#E5ECF6",
                      "showlakes": true,
                      "showland": true,
                      "subunitcolor": "white"
                    },
                    "hoverlabel": {
                      "align": "left"
                    },
                    "hovermode": "closest",
                    "mapbox": {
                      "style": "light"
                    },
                    "paper_bgcolor": "white",
                    "plot_bgcolor": "#E5ECF6",
                    "polar": {
                      "angularaxis": {
                        "gridcolor": "white",
                        "linecolor": "white",
                        "ticks": ""
                      },
                      "bgcolor": "#E5ECF6",
                      "radialaxis": {
                        "gridcolor": "white",
                        "linecolor": "white",
                        "ticks": ""
                      }
                    },
                    "scene": {
                      "xaxis": {
                        "backgroundcolor": "#E5ECF6",
                        "gridcolor": "white",
                        "gridwidth": 2,
                        "linecolor": "white",
                        "showbackground": true,
                        "ticks": "",
                        "zerolinecolor": "white"
                      },
                      "yaxis": {
                        "backgroundcolor": "#E5ECF6",
                        "gridcolor": "white",
                        "gridwidth": 2,
                        "linecolor": "white",
                        "showbackground": true,
                        "ticks": "",
                        "zerolinecolor": "white"
                      },
                      "zaxis": {
                        "backgroundcolor": "#E5ECF6",
                        "gridcolor": "white",
                        "gridwidth": 2,
                        "linecolor": "white",
                        "showbackground": true,
                        "ticks": "",
                        "zerolinecolor": "white"
                      }
                    },
                    "shapedefaults": {
                      "line": {
                        "color": "#2a3f5f"
                      }
                    },
                    "ternary": {
                      "aaxis": {
                        "gridcolor": "white",
                        "linecolor": "white",
                        "ticks": ""
                      },
                      "baxis": {
                        "gridcolor": "white",
                        "linecolor": "white",
                        "ticks": ""
                      },
                      "bgcolor": "#E5ECF6",
                      "caxis": {
                        "gridcolor": "white",
                        "linecolor": "white",
                        "ticks": ""
                      }
                    },
                    "title": {
                      "x": 0.05
                    },
                    "xaxis": {
                      "automargin": true,
                      "gridcolor": "white",
                      "linecolor": "white",
                      "ticks": "",
                      "title": {
                        "standoff": 15
                      },
                      "zerolinecolor": "white",
                      "zerolinewidth": 2
                    },
                    "yaxis": {
                      "automargin": true,
                      "gridcolor": "white",
                      "linecolor": "white",
                      "ticks": "",
                      "title": {
                        "standoff": 15
                      },
                      "zerolinecolor": "white",
                      "zerolinewidth": 2
                    }
                  }
                },
                "title": {
                  "font": {
                    "color": "black",
                    "family": "Arial",
                    "size": 30,
                    "weight": "bold"
                  },
                  "text": "<b>MT Bench</b>",
                  "x": 0.5,
                  "xanchor": "center",
                  "y": 0.95,
                  "yanchor": "top"
                },
                "xaxis": {
                  "anchor": "y",
                  "categoryarray": [
                    "Writing",
                    "Roleplay",
                    "Reasoning",
                    "Math",
                    "Coding",
                    "Extraction",
                    "STEM",
                    "Humanities"
                  ],
                  "categoryorder": "array",
                  "domain": [
                    0,
                    1
                  ],
                  "tickfont": {
                    "size": 18
                  },
                  "title": {
                    "text": ""
                  }
                },
                "yaxis": {
                  "anchor": "x",
                  "domain": [
                    0,
                    1
                  ],
                  "tickfont": {
                    "size": 18
                  },
                  "title": {
                    "font": {
                      "size": 20
                    },
                    "text": "Score"
                  }
                }
              }
            },
            "text/html": [
              "<div>                            <div id=\"a332a74c-9ecb-433e-a489-e5bace1ce5e6\" class=\"plotly-graph-div\" style=\"height:525px; width:100%;\"></div>            <script type=\"text/javascript\">                require([\"plotly\"], function(Plotly) {                    window.PLOTLYENV=window.PLOTLYENV || {};                                    if (document.getElementById(\"a332a74c-9ecb-433e-a489-e5bace1ce5e6\")) {                    Plotly.newPlot(                        \"a332a74c-9ecb-433e-a489-e5bace1ce5e6\",                        [{\"alignmentgroup\":\"True\",\"hovertemplate\":\"model=H2o-danube2 1.8B chat\\u003cbr\\u003e=%{y}\\u003cextra\\u003e\\u003c\\u002fextra\\u003e\",\"legendgroup\":\"H2o-danube2 1.8B chat\",\"marker\":{\"color\":\"#4C78A8\",\"pattern\":{\"shape\":\"\"},\"line\":{\"width\":1,\"color\":\"black\"}},\"name\":\"H2o-danube2 1.8B chat\",\"offsetgroup\":\"H2o-danube2 1.8B chat\",\"orientation\":\"v\",\"showlegend\":true,\"textposition\":\"auto\",\"x\":[\"Writing\",\"Roleplay\",\"Reasoning\",\"Math\",\"Coding\",\"Extraction\",\"STEM\",\"Humanities\"],\"xaxis\":\"x\",\"y\":[7.1,6.175,3.2,2.95,2.4,2.85,6.05,9.1],\"yaxis\":\"y\",\"type\":\"bar\",\"opacity\":0.65},{\"alignmentgroup\":\"True\",\"hovertemplate\":\"model=Stablelm2 1.6B chat\\u003cbr\\u003e=%{y}\\u003cextra\\u003e\\u003c\\u002fextra\\u003e\",\"legendgroup\":\"Stablelm2 1.6B chat\",\"marker\":{\"color\":\"#F58518\",\"pattern\":{\"shape\":\"\"},\"line\":{\"width\":1,\"color\":\"black\"}},\"name\":\"Stablelm2 1.6B chat\",\"offsetgroup\":\"Stablelm2 1.6B chat\",\"orientation\":\"v\",\"showlegend\":true,\"textposition\":\"auto\",\"x\":[\"Writing\",\"Roleplay\",\"Reasoning\",\"Math\",\"Coding\",\"Extraction\",\"STEM\",\"Humanities\"],\"xaxis\":\"x\",\"y\":[6.2,6.55,3.7,2.7,2.9,4.0,6.55,7.3],\"yaxis\":\"y\",\"type\":\"bar\",\"opacity\":0.65},{\"alignmentgroup\":\"True\",\"hovertemplate\":\"model=SmolLM 1.7B instruct\\u003cbr\\u003e=%{y}\\u003cextra\\u003e\\u003c\\u002fextra\\u003e\",\"legendgroup\":\"SmolLM 1.7B instruct\",\"marker\":{\"color\":\"#AADDAA\",\"pattern\":{\"shape\":\"\"},\"line\":{\"width\":1,\"color\":\"black\"}},\"name\":\"SmolLM 1.7B instruct\",\"offsetgroup\":\"SmolLM 1.7B instruct\",\"orientation\":\"v\",\"showlegend\":true,\"textposition\":\"auto\",\"x\":[\"Writing\",\"Roleplay\",\"Reasoning\",\"Math\",\"Coding\",\"Extraction\",\"STEM\",\"Humanities\"],\"xaxis\":\"x\",\"y\":[5.1,5.7,2.75,1.6,2.85,2.4,6.8,7.5],\"yaxis\":\"y\",\"type\":\"bar\"},{\"alignmentgroup\":\"True\",\"hovertemplate\":\"model=Gemma2 2.6B instruct\\u003cbr\\u003e=%{y}\\u003cextra\\u003e\\u003c\\u002fextra\\u003e\",\"legendgroup\":\"Gemma2 2.6B instruct\",\"marker\":{\"color\":\"#72B7B2\",\"pattern\":{\"shape\":\"\"},\"line\":{\"width\":1,\"color\":\"black\"}},\"name\":\"Gemma2 2.6B instruct\",\"offsetgroup\":\"Gemma2 2.6B instruct\",\"orientation\":\"v\",\"showlegend\":true,\"textposition\":\"auto\",\"x\":[\"Writing\",\"Roleplay\",\"Reasoning\",\"Math\",\"Coding\",\"Extraction\",\"STEM\",\"Humanities\"],\"xaxis\":\"x\",\"y\":[8.225,7.125,4.75,3.45,2.473684210526316,2.1,6.65,6.45],\"yaxis\":\"y\",\"type\":\"bar\",\"opacity\":0.65},{\"alignmentgroup\":\"True\",\"hovertemplate\":\"model=Zamba2 1.2B instruct\\u003cbr\\u003e=%{y}\\u003cextra\\u003e\\u003c\\u002fextra\\u003e\",\"legendgroup\":\"Zamba2 1.2B instruct\",\"marker\":{\"color\":\"#FC8E86\",\"pattern\":{\"shape\":\"\"},\"line\":{\"width\":3,\"color\":\"#AA5733\"}},\"name\":\"\\u003cb\\u003eZamba2 1.2B instruct\\u003c\\u002fb\\u003e\",\"offsetgroup\":\"Zamba2 1.2B instruct\",\"orientation\":\"v\",\"showlegend\":true,\"textposition\":\"auto\",\"x\":[\"Writing\",\"Roleplay\",\"Reasoning\",\"Math\",\"Coding\",\"Extraction\",\"STEM\",\"Humanities\"],\"xaxis\":\"x\",\"y\":[7.95,7.975,4.05,3.8,2.3,3.9,8.2,9.45],\"yaxis\":\"y\",\"type\":\"bar\",\"opacity\":0.95}],                        {\"template\":{\"data\":{\"histogram2dcontour\":[{\"type\":\"histogram2dcontour\",\"colorbar\":{\"outlinewidth\":0,\"ticks\":\"\"},\"colorscale\":[[0.0,\"#0d0887\"],[0.1111111111111111,\"#46039f\"],[0.2222222222222222,\"#7201a8\"],[0.3333333333333333,\"#9c179e\"],[0.4444444444444444,\"#bd3786\"],[0.5555555555555556,\"#d8576b\"],[0.6666666666666666,\"#ed7953\"],[0.7777777777777778,\"#fb9f3a\"],[0.8888888888888888,\"#fdca26\"],[1.0,\"#f0f921\"]]}],\"choropleth\":[{\"type\":\"choropleth\",\"colorbar\":{\"outlinewidth\":0,\"ticks\":\"\"}}],\"histogram2d\":[{\"type\":\"histogram2d\",\"colorbar\":{\"outlinewidth\":0,\"ticks\":\"\"},\"colorscale\":[[0.0,\"#0d0887\"],[0.1111111111111111,\"#46039f\"],[0.2222222222222222,\"#7201a8\"],[0.3333333333333333,\"#9c179e\"],[0.4444444444444444,\"#bd3786\"],[0.5555555555555556,\"#d8576b\"],[0.6666666666666666,\"#ed7953\"],[0.7777777777777778,\"#fb9f3a\"],[0.8888888888888888,\"#fdca26\"],[1.0,\"#f0f921\"]]}],\"heatmap\":[{\"type\":\"heatmap\",\"colorbar\":{\"outlinewidth\":0,\"ticks\":\"\"},\"colorscale\":[[0.0,\"#0d0887\"],[0.1111111111111111,\"#46039f\"],[0.2222222222222222,\"#7201a8\"],[0.3333333333333333,\"#9c179e\"],[0.4444444444444444,\"#bd3786\"],[0.5555555555555556,\"#d8576b\"],[0.6666666666666666,\"#ed7953\"],[0.7777777777777778,\"#fb9f3a\"],[0.8888888888888888,\"#fdca26\"],[1.0,\"#f0f921\"]]}],\"heatmapgl\":[{\"type\":\"heatmapgl\",\"colorbar\":{\"outlinewidth\":0,\"ticks\":\"\"},\"colorscale\":[[0.0,\"#0d0887\"],[0.1111111111111111,\"#46039f\"],[0.2222222222222222,\"#7201a8\"],[0.3333333333333333,\"#9c179e\"],[0.4444444444444444,\"#bd3786\"],[0.5555555555555556,\"#d8576b\"],[0.6666666666666666,\"#ed7953\"],[0.7777777777777778,\"#fb9f3a\"],[0.8888888888888888,\"#fdca26\"],[1.0,\"#f0f921\"]]}],\"contourcarpet\":[{\"type\":\"contourcarpet\",\"colorbar\":{\"outlinewidth\":0,\"ticks\":\"\"}}],\"contour\":[{\"type\":\"contour\",\"colorbar\":{\"outlinewidth\":0,\"ticks\":\"\"},\"colorscale\":[[0.0,\"#0d0887\"],[0.1111111111111111,\"#46039f\"],[0.2222222222222222,\"#7201a8\"],[0.3333333333333333,\"#9c179e\"],[0.4444444444444444,\"#bd3786\"],[0.5555555555555556,\"#d8576b\"],[0.6666666666666666,\"#ed7953\"],[0.7777777777777778,\"#fb9f3a\"],[0.8888888888888888,\"#fdca26\"],[1.0,\"#f0f921\"]]}],\"surface\":[{\"type\":\"surface\",\"colorbar\":{\"outlinewidth\":0,\"ticks\":\"\"},\"colorscale\":[[0.0,\"#0d0887\"],[0.1111111111111111,\"#46039f\"],[0.2222222222222222,\"#7201a8\"],[0.3333333333333333,\"#9c179e\"],[0.4444444444444444,\"#bd3786\"],[0.5555555555555556,\"#d8576b\"],[0.6666666666666666,\"#ed7953\"],[0.7777777777777778,\"#fb9f3a\"],[0.8888888888888888,\"#fdca26\"],[1.0,\"#f0f921\"]]}],\"mesh3d\":[{\"type\":\"mesh3d\",\"colorbar\":{\"outlinewidth\":0,\"ticks\":\"\"}}],\"scatter\":[{\"fillpattern\":{\"fillmode\":\"overlay\",\"size\":10,\"solidity\":0.2},\"type\":\"scatter\"}],\"parcoords\":[{\"type\":\"parcoords\",\"line\":{\"colorbar\":{\"outlinewidth\":0,\"ticks\":\"\"}}}],\"scatterpolargl\":[{\"type\":\"scatterpolargl\",\"marker\":{\"colorbar\":{\"outlinewidth\":0,\"ticks\":\"\"}}}],\"bar\":[{\"error_x\":{\"color\":\"#2a3f5f\"},\"error_y\":{\"color\":\"#2a3f5f\"},\"marker\":{\"line\":{\"color\":\"#E5ECF6\",\"width\":0.5},\"pattern\":{\"fillmode\":\"overlay\",\"size\":10,\"solidity\":0.2}},\"type\":\"bar\"}],\"scattergeo\":[{\"type\":\"scattergeo\",\"marker\":{\"colorbar\":{\"outlinewidth\":0,\"ticks\":\"\"}}}],\"scatterpolar\":[{\"type\":\"scatterpolar\",\"marker\":{\"colorbar\":{\"outlinewidth\":0,\"ticks\":\"\"}}}],\"histogram\":[{\"marker\":{\"pattern\":{\"fillmode\":\"overlay\",\"size\":10,\"solidity\":0.2}},\"type\":\"histogram\"}],\"scattergl\":[{\"type\":\"scattergl\",\"marker\":{\"colorbar\":{\"outlinewidth\":0,\"ticks\":\"\"}}}],\"scatter3d\":[{\"type\":\"scatter3d\",\"line\":{\"colorbar\":{\"outlinewidth\":0,\"ticks\":\"\"}},\"marker\":{\"colorbar\":{\"outlinewidth\":0,\"ticks\":\"\"}}}],\"scattermapbox\":[{\"type\":\"scattermapbox\",\"marker\":{\"colorbar\":{\"outlinewidth\":0,\"ticks\":\"\"}}}],\"scatterternary\":[{\"type\":\"scatterternary\",\"marker\":{\"colorbar\":{\"outlinewidth\":0,\"ticks\":\"\"}}}],\"scattercarpet\":[{\"type\":\"scattercarpet\",\"marker\":{\"colorbar\":{\"outlinewidth\":0,\"ticks\":\"\"}}}],\"carpet\":[{\"aaxis\":{\"endlinecolor\":\"#2a3f5f\",\"gridcolor\":\"white\",\"linecolor\":\"white\",\"minorgridcolor\":\"white\",\"startlinecolor\":\"#2a3f5f\"},\"baxis\":{\"endlinecolor\":\"#2a3f5f\",\"gridcolor\":\"white\",\"linecolor\":\"white\",\"minorgridcolor\":\"white\",\"startlinecolor\":\"#2a3f5f\"},\"type\":\"carpet\"}],\"table\":[{\"cells\":{\"fill\":{\"color\":\"#EBF0F8\"},\"line\":{\"color\":\"white\"}},\"header\":{\"fill\":{\"color\":\"#C8D4E3\"},\"line\":{\"color\":\"white\"}},\"type\":\"table\"}],\"barpolar\":[{\"marker\":{\"line\":{\"color\":\"#E5ECF6\",\"width\":0.5},\"pattern\":{\"fillmode\":\"overlay\",\"size\":10,\"solidity\":0.2}},\"type\":\"barpolar\"}],\"pie\":[{\"automargin\":true,\"type\":\"pie\"}]},\"layout\":{\"autotypenumbers\":\"strict\",\"colorway\":[\"#636efa\",\"#EF553B\",\"#00cc96\",\"#ab63fa\",\"#FFA15A\",\"#19d3f3\",\"#FF6692\",\"#B6E880\",\"#FF97FF\",\"#FECB52\"],\"font\":{\"color\":\"#2a3f5f\"},\"hovermode\":\"closest\",\"hoverlabel\":{\"align\":\"left\"},\"paper_bgcolor\":\"white\",\"plot_bgcolor\":\"#E5ECF6\",\"polar\":{\"bgcolor\":\"#E5ECF6\",\"angularaxis\":{\"gridcolor\":\"white\",\"linecolor\":\"white\",\"ticks\":\"\"},\"radialaxis\":{\"gridcolor\":\"white\",\"linecolor\":\"white\",\"ticks\":\"\"}},\"ternary\":{\"bgcolor\":\"#E5ECF6\",\"aaxis\":{\"gridcolor\":\"white\",\"linecolor\":\"white\",\"ticks\":\"\"},\"baxis\":{\"gridcolor\":\"white\",\"linecolor\":\"white\",\"ticks\":\"\"},\"caxis\":{\"gridcolor\":\"white\",\"linecolor\":\"white\",\"ticks\":\"\"}},\"coloraxis\":{\"colorbar\":{\"outlinewidth\":0,\"ticks\":\"\"}},\"colorscale\":{\"sequential\":[[0.0,\"#0d0887\"],[0.1111111111111111,\"#46039f\"],[0.2222222222222222,\"#7201a8\"],[0.3333333333333333,\"#9c179e\"],[0.4444444444444444,\"#bd3786\"],[0.5555555555555556,\"#d8576b\"],[0.6666666666666666,\"#ed7953\"],[0.7777777777777778,\"#fb9f3a\"],[0.8888888888888888,\"#fdca26\"],[1.0,\"#f0f921\"]],\"sequentialminus\":[[0.0,\"#0d0887\"],[0.1111111111111111,\"#46039f\"],[0.2222222222222222,\"#7201a8\"],[0.3333333333333333,\"#9c179e\"],[0.4444444444444444,\"#bd3786\"],[0.5555555555555556,\"#d8576b\"],[0.6666666666666666,\"#ed7953\"],[0.7777777777777778,\"#fb9f3a\"],[0.8888888888888888,\"#fdca26\"],[1.0,\"#f0f921\"]],\"diverging\":[[0,\"#8e0152\"],[0.1,\"#c51b7d\"],[0.2,\"#de77ae\"],[0.3,\"#f1b6da\"],[0.4,\"#fde0ef\"],[0.5,\"#f7f7f7\"],[0.6,\"#e6f5d0\"],[0.7,\"#b8e186\"],[0.8,\"#7fbc41\"],[0.9,\"#4d9221\"],[1,\"#276419\"]]},\"xaxis\":{\"gridcolor\":\"white\",\"linecolor\":\"white\",\"ticks\":\"\",\"title\":{\"standoff\":15},\"zerolinecolor\":\"white\",\"automargin\":true,\"zerolinewidth\":2},\"yaxis\":{\"gridcolor\":\"white\",\"linecolor\":\"white\",\"ticks\":\"\",\"title\":{\"standoff\":15},\"zerolinecolor\":\"white\",\"automargin\":true,\"zerolinewidth\":2},\"scene\":{\"xaxis\":{\"backgroundcolor\":\"#E5ECF6\",\"gridcolor\":\"white\",\"linecolor\":\"white\",\"showbackground\":true,\"ticks\":\"\",\"zerolinecolor\":\"white\",\"gridwidth\":2},\"yaxis\":{\"backgroundcolor\":\"#E5ECF6\",\"gridcolor\":\"white\",\"linecolor\":\"white\",\"showbackground\":true,\"ticks\":\"\",\"zerolinecolor\":\"white\",\"gridwidth\":2},\"zaxis\":{\"backgroundcolor\":\"#E5ECF6\",\"gridcolor\":\"white\",\"linecolor\":\"white\",\"showbackground\":true,\"ticks\":\"\",\"zerolinecolor\":\"white\",\"gridwidth\":2}},\"shapedefaults\":{\"line\":{\"color\":\"#2a3f5f\"}},\"annotationdefaults\":{\"arrowcolor\":\"#2a3f5f\",\"arrowhead\":0,\"arrowwidth\":1},\"geo\":{\"bgcolor\":\"white\",\"landcolor\":\"#E5ECF6\",\"subunitcolor\":\"white\",\"showland\":true,\"showlakes\":true,\"lakecolor\":\"white\"},\"title\":{\"x\":0.05},\"mapbox\":{\"style\":\"light\"}}},\"xaxis\":{\"anchor\":\"y\",\"domain\":[0.0,1.0],\"title\":{\"text\":\"\"},\"categoryorder\":\"array\",\"categoryarray\":[\"Writing\",\"Roleplay\",\"Reasoning\",\"Math\",\"Coding\",\"Extraction\",\"STEM\",\"Humanities\"],\"tickfont\":{\"size\":18}},\"yaxis\":{\"anchor\":\"x\",\"domain\":[0.0,1.0],\"title\":{\"text\":\"Score\",\"font\":{\"size\":20}},\"tickfont\":{\"size\":18}},\"legend\":{\"title\":{},\"tracegroupgap\":0,\"font\":{\"size\":20},\"orientation\":\"h\",\"y\":-0.3,\"x\":0.5,\"xanchor\":\"center\",\"yanchor\":\"top\",\"itemwidth\":50,\"traceorder\":\"normal\"},\"margin\":{\"t\":60},\"barmode\":\"group\",\"title\":{\"font\":{\"size\":30,\"family\":\"Arial\",\"color\":\"black\",\"weight\":\"bold\"},\"text\":\"\\u003cb\\u003eMT Bench\\u003c\\u002fb\\u003e\",\"x\":0.5,\"y\":0.95,\"xanchor\":\"center\",\"yanchor\":\"top\"}},                        {\"responsive\": true}                    ).then(function(){\n",
              "                            \n",
              "var gd = document.getElementById('a332a74c-9ecb-433e-a489-e5bace1ce5e6');\n",
              "var x = new MutationObserver(function (mutations, observer) {{\n",
              "        var display = window.getComputedStyle(gd).display;\n",
              "        if (!display || display === 'none') {{\n",
              "            console.log([gd, 'removed!']);\n",
              "            Plotly.purge(gd);\n",
              "            observer.disconnect();\n",
              "        }}\n",
              "}});\n",
              "\n",
              "// Listen for the removal of the full notebook cells\n",
              "var notebookContainer = gd.closest('#notebook-container');\n",
              "if (notebookContainer) {{\n",
              "    x.observe(notebookContainer, {childList: true});\n",
              "}}\n",
              "\n",
              "// Listen for the clearing of the current output cell\n",
              "var outputEl = gd.closest('.output');\n",
              "if (outputEl) {{\n",
              "    x.observe(outputEl, {childList: true});\n",
              "}}\n",
              "\n",
              "                        })                };                });            </script>        </div>"
            ]
          },
          "metadata": {},
          "output_type": "display_data"
        }
      ],
      "source": [
        "\n",
        "import json\n",
        "import pandas as pd\n",
        "import plotly.express as px\n",
        "\n",
        "\n",
        "CATEGORIES = [\"Writing\", \"Roleplay\", \"Reasoning\", \"Math\", \"Coding\", \"Extraction\", \"STEM\", \"Humanities\"]\n",
        "\n",
        "\n",
        "def get_model_df():\n",
        "    cnt = 0\n",
        "    q2result = []\n",
        "    fin = open(\"/workspace/FastChat/fastchat/llm_judge/data/mt_bench/model_judgment/gpt-4_single.jsonl\", \"r\")\n",
        "    for line in fin:\n",
        "        obj = json.loads(line)\n",
        "        obj[\"category\"] = CATEGORIES[(obj[\"question_id\"]-81)//10]\n",
        "        q2result.append(obj)\n",
        "    df = pd.DataFrame(q2result)\n",
        "    return df\n",
        "\n",
        "def toggle(res_str):\n",
        "    if res_str == \"win\":\n",
        "        return \"loss\"\n",
        "    elif res_str == \"loss\":\n",
        "        return \"win\"\n",
        "    return \"tie\"\n",
        "\n",
        "def get_model_df_pair():\n",
        "    fin = open(\"gpt-4_pair.jsonl\", \"r\")\n",
        "    cnt = 0\n",
        "    q2result = []\n",
        "    for line in fin:\n",
        "        obj = json.loads(line)\n",
        "\n",
        "        result = {}\n",
        "        result[\"qid\"] = str(obj[\"question_id\"])\n",
        "        result[\"turn\"] = str(obj[\"turn\"])\n",
        "        if obj[\"g1_winner\"] == \"model_1\" and obj[\"g2_winner\"] == \"model_1\":\n",
        "            result[\"result\"] = \"win\"\n",
        "        elif obj[\"g1_winner\"] == \"model_2\" and obj[\"g2_winner\"] == \"model_2\":\n",
        "            result[\"result\"] = \"loss\"\n",
        "        else:\n",
        "            result[\"result\"] = \"tie\"\n",
        "        result[\"category\"] = CATEGORIES[(obj[\"question_id\"]-81)//10]\n",
        "        result[\"model\"] = obj[\"model_1\"]\n",
        "        q2result.append(result)\n",
        "\n",
        "    df = pd.DataFrame(q2result)\n",
        "\n",
        "    return df\n",
        "\n",
        "df = get_model_df()\n",
        "df_pair = get_model_df_pair()\n",
        "\n",
        "\n",
        "all_models = df[\"model\"].unique()\n",
        "scores_all = []\n",
        "for model in all_models:\n",
        "    for cat in CATEGORIES:\n",
        "        res = df[(df[\"category\"]==cat) & (df[\"model\"]==model) & (df[\"score\"] >= 0)]\n",
        "        score = res[\"score\"].mean()\n",
        "\n",
        "        scores_all.append({\"model\": model, \"category\": cat, \"score\": score})\n",
        "\n",
        "\n",
        "target_models = ['zamba2_1B_ultrafeedback_openhermespref_orcadoppairs_1epoch_then_1epoch_then_1epoch',\n",
        " 'instr_release_ultrafeedback_batch32_rejected_fully_from_zamba_round3',\n",
        " 'nstr_release_ultrafeedback_batch32_rejected_fully_from_zamba_round2',\n",
        " 'instr_release_ultrafeedback_infinfstruct_batch32_with_actual_mix_infinstr_ultrachat',\n",
        " 'instr_release_ultrafeedback_batch32_rejected_half_from_zamba_round3',\n",
        " 'instr_release_ultrafeedback_infinfstruct_batch32_with_actual_mix_infinstr_ultrachat_round3',\n",
        " 'instr_release_ultrafeedback_batch32_rejected_fully_from_zamba',\n",
        " 'instr_release_ultrafeedback_batch32_rejected_half_from_zamba_round2',\n",
        " 'instr_release_ultrafeedback_infinfstruct_batch32_with_actual_mix_infinstr_ultrachat_round2',\n",
        " 'instr_release_ultrafeedback_batch32_rejected_half_from_zamba',\n",
        " 'gemma-2-2b-it', 'ultrafeedback_openhermespref_orcadoppairs_4epochs',\n",
        " 'ultrafeedback_openhermespref_orcadoppairs_1epoch',\n",
        " 'ultrafeedback_openhermespref_orcadoppairs_1epoch_then_2epochs',\n",
        " 'ultrafeedback_openhermespref_orcadoppairs_1epoch_then_2epochs_then_1epoch',\n",
        " 'HuggingFaceTB_SmolLM-1.7B-Instruct', 'microsoft_Phi-3-mini-4k-instruct',\n",
        " 'Qwen_Qwen2-1.5B-Instruct', 'stabilityai_stablelm-2-1_6b-chat',\n",
        " 'microsoft_Phi-3.5-mini-instruct', 'h2oai_h2o-danube3-4b-chat',\n",
        " 'stabilityai_stablelm-zephyr-3b', 'h2oai_h2o-danube2-1.8b-chat']\n",
        "\n",
        "scores_target = [scores_all[i] for i in range(len(scores_all)) if scores_all[i][\"model\"] in target_models]\n",
        "\n",
        "# sort by target_models\n",
        "scores_target = sorted(scores_target, key=lambda x: target_models.index(x[\"model\"]), reverse=True)\n",
        "\n",
        "df_score = pd.DataFrame(scores_target)\n",
        "\n",
        "# Drop specific models using DataFrame.drop()\n",
        "models_to_drop = ['instr_release_ultrafeedback_batch32_rejected_fully_from_zamba_round3',\n",
        " 'nstr_release_ultrafeedback_batch32_rejected_fully_from_zamba_round2',\n",
        " 'instr_release_ultrafeedback_infinfstruct_batch32_with_actual_mix_infinstr_ultrachat',\n",
        " 'instr_release_ultrafeedback_batch32_rejected_half_from_zamba_round3',\n",
        " 'instr_release_ultrafeedback_infinfstruct_batch32_with_actual_mix_infinstr_ultrachat_round3',\n",
        " 'instr_release_ultrafeedback_batch32_rejected_fully_from_zamba',\n",
        " 'instr_release_ultrafeedback_batch32_rejected_half_from_zamba_round2',\n",
        " 'instr_release_ultrafeedback_infinfstruct_batch32_with_actual_mix_infinstr_ultrachat_round2',\n",
        " 'instr_release_ultrafeedback_batch32_rejected_half_from_zamba',\n",
        " 'ultrafeedback_openhermespref_orcadoppairs_4epochs',\n",
        " 'ultrafeedback_openhermespref_orcadoppairs_1epoch',\n",
        " 'ultrafeedback_openhermespref_orcadoppairs_1epoch_then_2epochs',\n",
        " 'ultrafeedback_openhermespref_orcadoppairs_1epoch_then_2epochs_then_1epoch',\n",
        " 'Qwen_Qwen2-1.5B-Instruct',\n",
        " # 'HuggingFaceTB_SmolLM-1.7B-Instruct', \n",
        " 'microsoft_Phi-3-mini-4k-instruct',\n",
        " # 'stabilityai_stablelm-2-1_6b-chat',\n",
        " 'microsoft_Phi-3.5-mini-instruct', 'h2oai_h2o-danube3-4b-chat',\n",
        " 'stabilityai_stablelm-zephyr-3b'\n",
        " # 'h2oai_h2o-danube2-1.8b-chat',\n",
        " # 'zamba2_1B_ultrafeedback_openhermespref_orcadoppairs_1epoch_then_1epoch_then_1epoch'\n",
        "]\n",
        "\n",
        "\n",
        "# Filter out the models to drop\n",
        "df_score = df_score[~df_score['model'].isin(models_to_drop)]\n",
        "\n",
        "rename_map = {'zamba2_1B_ultrafeedback_openhermespref_orcadoppairs_1epoch_then_1epoch_then_1epoch': 'Zamba2 1.2B instruct',\n",
        "              'h2oai_h2o-danube2-1.8b-chat': \"H2o-danube2 1.8B chat\",\n",
        "              'stabilityai_stablelm-2-1_6b-chat': \"Stablelm2 1.6B chat\",\n",
        "              'HuggingFaceTB_SmolLM-1.7B-Instruct': 'SmolLM 1.7B instruct',\n",
        "              'gemma-2-2b-it': 'Gemma2 2.6B instruct'}\n",
        "\n",
        "for k, v in rename_map.items():\n",
        "    df_score.replace(k, v, inplace=True)\n",
        "\n",
        "# Plot the updated DataFrame using a bar chart\n",
        "fig = px.bar(df_score, x=\"category\", y=\"score\", color=\"model\", barmode=\"group\",\n",
        "             category_orders={\"category\": CATEGORIES}, \n",
        "             labels={\"score\": \"\", \"category\": \"\"},  # Set labels to empty strings to remove\n",
        "             color_discrete_sequence=px.colors.qualitative.T10)\n",
        "\n",
        "fig.update_layout(\n",
        "    title={\n",
        "        'text': \"<b>MT Bench</b>\",  # Add plot title\n",
        "        'x': 0.5,  # Center the title\n",
        "        'y': 0.95,\n",
        "        'xanchor': 'center',\n",
        "        'yanchor': 'top',\n",
        "        'font': dict(size=30, family=\"Arial\",  # Specify a font family\n",
        "                     color=\"black\", weight=\"bold\")\n",
        "    },\n",
        "    yaxis_title=\"Score\",  # Add y-axis label\n",
        "    xaxis_title=\"\",  # You can leave the x-axis title empty or customize it\n",
        "    xaxis=dict(\n",
        "        tickfont=dict(size=18)  # Increase font size for x-axis labels\n",
        "    ),\n",
        "    yaxis=dict(\n",
        "        tickfont=dict(size=18),\n",
        "        title_font=dict(size=20)\n",
        "    ),\n",
        "    legend=dict(\n",
        "        title_text=None,  # Remove the title of the legend\n",
        "        orientation='h',  # Horizontal legend\n",
        "        y=-0.3,  # Position the legend below the plot\n",
        "        x=0.5,  # Center the legend horizontally\n",
        "        xanchor='center',\n",
        "        yanchor='top',\n",
        "        itemwidth=50,  # Adjust the width of each legend item\n",
        "        traceorder='normal',\n",
        "        font=dict(size=20)  # Increase font size for legend labels\n",
        "    )\n",
        ")\n",
        "\n",
        "# Manually update the colors to emphasize Zamba2 and add borders to bars\n",
        "for trace in fig.data:\n",
        "    trace.marker.line.width = 1\n",
        "    trace.marker.line.color = 'black'\n",
        "    if 'Zamba' in trace.name:\n",
        "        trace.marker.color = \"#FC8E86\" \n",
        "        trace.opacity = 0.95\n",
        "        trace.marker.line.width = 3\n",
        "        trace.marker.line.color = \"#AA5733\"\n",
        "        trace.name = \"<b>Zamba2 1.2B instruct</b>\"\n",
        "    elif 'SmolLM' in trace.name:\n",
        "        trace.marker.color = \"#AADDAA\" \n",
        "    # elif trace.name == \"Mistral 7B Instruct-v0.1\":\n",
        "    #     trace.marker.color = \"#B0E57C\" \n",
        "    #     trace.opacity = 0.65\n",
        "    # elif trace.name == \"Gemma2 2.6B instruct\":\n",
        "    #     trace.marker.color = \"#A7C7E7\" \n",
        "    #     trace.opacity = 0.65\n",
        "    else:\n",
        "        trace.opacity = 0.65 \n",
        "    \n",
        "    # Add borders to the bars\n",
        "    \n",
        "    \n",
        "\n",
        "fig.show()"
      ]
    },
    {
      "cell_type": "code",
      "execution_count": null,
      "metadata": {},
      "outputs": [],
      "source": [
        "rename_map = {'zamba2_1B_ultrafeedback_openhermespref_orcadoppairs_1epoch_then_1epoch_then_1epoch': 'Zamba2-1.2B-instruct',\n",
        "              'h2oai_h2o-danube2-1.8b-chat': \"H2o-danube2-1.8b-chat\",\n",
        "              'stabilityai_stablelm-2-1_6b-chat': \"Stablelm-2-1_6b-chat\",\n",
        "              'HuggingFaceTB_SmolLM-1.7B-Instruct': 'SmolLM-1.7B-Instruct',\n",
        "              'gemma-2-2b-it': 'Gemma-2-2b-it'}\n",
        "\n",
        "for k, v in rename_map.items():\n",
        "    df_score.replace(k, v, inplace=True)"
      ]
    },
    {
      "cell_type": "code",
      "execution_count": 17,
      "metadata": {
        "colab": {
          "base_uri": "https://localhost:8080/"
        },
        "id": "MpBKLuVmqZ7O",
        "outputId": "f7ea476f-dde8-4b7c-fb69-5d7d33999caf"
      },
      "outputs": [
        {
          "name": "stdout",
          "output_type": "stream",
          "text": [
            "['instr_release_ultrafeedback_batch32_rejected_fully_from_zamba_round3'\n",
            " 'nstr_release_ultrafeedback_batch32_rejected_fully_from_zamba_round2'\n",
            " 'instr_release_ultrafeedback_infinfstruct_batch32_with_actual_mix_infinstr_ultrachat'\n",
            " 'instr_release_ultrafeedback_batch32_rejected_half_from_zamba_round3'\n",
            " 'instr_release_ultrafeedback_infinfstruct_batch32_with_actual_mix_infinstr_ultrachat_round3'\n",
            " 'instr_release_ultrafeedback_batch32_rejected_fully_from_zamba'\n",
            " 'instr_release_ultrafeedback_batch32_rejected_half_from_zamba_round2'\n",
            " 'instr_release_ultrafeedback_infinfstruct_batch32_with_actual_mix_infinstr_ultrachat_round2'\n",
            " 'instr_release_ultrafeedback_batch32_rejected_half_from_zamba'\n",
            " 'gemma-2-2b-it' 'ultrafeedback_openhermespref_orcadoppairs_4epochs'\n",
            " 'ultrafeedback_openhermespref_orcadoppairs_1epoch'\n",
            " 'ultrafeedback_openhermespref_orcadoppairs_1epoch_then_2epochs'\n",
            " 'ultrafeedback_openhermespref_orcadoppairs_1epoch_then_2epochs_then_1epoch'\n",
            " 'HuggingFaceTB_SmolLM-1.7B-Instruct' 'microsoft_Phi-3-mini-4k-instruct'\n",
            " 'Qwen_Qwen2-1.5B-Instruct' 'stabilityai_stablelm-2-1_6b-chat'\n",
            " 'microsoft_Phi-3.5-mini-instruct' 'h2oai_h2o-danube3-4b-chat'\n",
            " 'stabilityai_stablelm-zephyr-3b' 'h2oai_h2o-danube2-1.8b-chat'\n",
            " 'zamba2_1B_ultrafeedback_openhermespref_orcadoppairs_1epoch_then_1epoch_then_1epoch']\n"
          ]
        }
      ],
      "source": [
        "all_models = df[\"model\"].unique()\n",
        "print(all_models)\n",
        "scores_all = []\n",
        "for model in all_models:\n",
        "    for cat in CATEGORIES:\n",
        "        # filter category/model, and score format error (<1% case)\n",
        "        res = df[(df[\"category\"]==cat) & (df[\"model\"]==model) & (df[\"score\"] >= 0)]\n",
        "        score = res[\"score\"].mean()\n",
        "\n",
        "\n",
        "        # scores_all.append({\"model\": model, \"category\": cat, \"score\": score, \"winrate\": winrate, \"wtrate\": winrate_adjusted})\n",
        "        scores_all.append({\"model\": model, \"category\": cat, \"score\": score})"
      ]
    },
    {
      "cell_type": "code",
      "execution_count": 15,
      "metadata": {
        "colab": {
          "base_uri": "https://localhost:8080/",
          "height": 542
        },
        "id": "5i8R0l-XqkgO",
        "outputId": "10151ab6-cf3d-4162-a0cf-c510f2e3968a"
      },
      "outputs": [
        {
          "data": {
            "application/vnd.plotly.v1+json": {
              "config": {
                "plotlyServerURL": "https://plot.ly"
              },
              "data": [
                {
                  "hovertemplate": "model=h2oai_h2o-danube2-1.8b-chat<br>score=%{r}<br>category=%{theta}<extra></extra>",
                  "legendgroup": "h2oai_h2o-danube2-1.8b-chat",
                  "line": {
                    "color": "rgb(102, 197, 204)",
                    "dash": "solid"
                  },
                  "marker": {
                    "symbol": "circle"
                  },
                  "mode": "lines+markers",
                  "name": "h2oai_h2o-danube2-1.8b-chat",
                  "r": [
                    7.1,
                    6.175,
                    3.2,
                    2.95,
                    2.4,
                    2.85,
                    6.05,
                    9.1,
                    7.1
                  ],
                  "showlegend": true,
                  "subplot": "polar",
                  "theta": [
                    "Writing",
                    "Roleplay",
                    "Reasoning",
                    "Math",
                    "Coding",
                    "Extraction",
                    "STEM",
                    "Humanities",
                    "Writing"
                  ],
                  "type": "scatterpolar"
                },
                {
                  "hovertemplate": "model=stabilityai_stablelm-zephyr-3b<br>score=%{r}<br>category=%{theta}<extra></extra>",
                  "legendgroup": "stabilityai_stablelm-zephyr-3b",
                  "line": {
                    "color": "rgb(246, 207, 113)",
                    "dash": "solid"
                  },
                  "marker": {
                    "symbol": "circle"
                  },
                  "mode": "lines+markers",
                  "name": "stabilityai_stablelm-zephyr-3b",
                  "r": [
                    7.6,
                    7,
                    3.3,
                    3.5,
                    5.05,
                    5.05,
                    7.175,
                    8.725,
                    7.6
                  ],
                  "showlegend": true,
                  "subplot": "polar",
                  "theta": [
                    "Writing",
                    "Roleplay",
                    "Reasoning",
                    "Math",
                    "Coding",
                    "Extraction",
                    "STEM",
                    "Humanities",
                    "Writing"
                  ],
                  "type": "scatterpolar"
                },
                {
                  "hovertemplate": "model=h2oai_h2o-danube3-4b-chat<br>score=%{r}<br>category=%{theta}<extra></extra>",
                  "legendgroup": "h2oai_h2o-danube3-4b-chat",
                  "line": {
                    "color": "rgb(248, 156, 116)",
                    "dash": "solid"
                  },
                  "marker": {
                    "symbol": "circle"
                  },
                  "mode": "lines+markers",
                  "name": "h2oai_h2o-danube3-4b-chat",
                  "r": [
                    6.2,
                    6.15,
                    5.4,
                    3.8,
                    3.55,
                    4.6,
                    6.5,
                    5.894736842105263,
                    6.2
                  ],
                  "showlegend": true,
                  "subplot": "polar",
                  "theta": [
                    "Writing",
                    "Roleplay",
                    "Reasoning",
                    "Math",
                    "Coding",
                    "Extraction",
                    "STEM",
                    "Humanities",
                    "Writing"
                  ],
                  "type": "scatterpolar"
                },
                {
                  "hovertemplate": "model=microsoft_Phi-3.5-mini-instruct<br>score=%{r}<br>category=%{theta}<extra></extra>",
                  "legendgroup": "microsoft_Phi-3.5-mini-instruct",
                  "line": {
                    "color": "rgb(220, 176, 242)",
                    "dash": "solid"
                  },
                  "marker": {
                    "symbol": "circle"
                  },
                  "mode": "lines+markers",
                  "name": "microsoft_Phi-3.5-mini-instruct",
                  "r": [
                    9.55,
                    9.2,
                    6.8,
                    6.2,
                    7.55,
                    8.68421052631579,
                    9.8,
                    9.85,
                    9.55
                  ],
                  "showlegend": true,
                  "subplot": "polar",
                  "theta": [
                    "Writing",
                    "Roleplay",
                    "Reasoning",
                    "Math",
                    "Coding",
                    "Extraction",
                    "STEM",
                    "Humanities",
                    "Writing"
                  ],
                  "type": "scatterpolar"
                },
                {
                  "hovertemplate": "model=stabilityai_stablelm-2-1_6b-chat<br>score=%{r}<br>category=%{theta}<extra></extra>",
                  "legendgroup": "stabilityai_stablelm-2-1_6b-chat",
                  "line": {
                    "color": "rgb(135, 197, 95)",
                    "dash": "solid"
                  },
                  "marker": {
                    "symbol": "circle"
                  },
                  "mode": "lines+markers",
                  "name": "stabilityai_stablelm-2-1_6b-chat",
                  "r": [
                    6.2,
                    6.55,
                    3.7,
                    2.7,
                    2.9,
                    4,
                    6.55,
                    7.3,
                    6.2
                  ],
                  "showlegend": true,
                  "subplot": "polar",
                  "theta": [
                    "Writing",
                    "Roleplay",
                    "Reasoning",
                    "Math",
                    "Coding",
                    "Extraction",
                    "STEM",
                    "Humanities",
                    "Writing"
                  ],
                  "type": "scatterpolar"
                },
                {
                  "hovertemplate": "model=Qwen_Qwen2-1.5B-Instruct<br>score=%{r}<br>category=%{theta}<extra></extra>",
                  "legendgroup": "Qwen_Qwen2-1.5B-Instruct",
                  "line": {
                    "color": "rgb(158, 185, 243)",
                    "dash": "solid"
                  },
                  "marker": {
                    "symbol": "circle"
                  },
                  "mode": "lines+markers",
                  "name": "Qwen_Qwen2-1.5B-Instruct",
                  "r": [
                    1,
                    1,
                    1,
                    1,
                    1,
                    1,
                    1,
                    1,
                    1
                  ],
                  "showlegend": true,
                  "subplot": "polar",
                  "theta": [
                    "Writing",
                    "Roleplay",
                    "Reasoning",
                    "Math",
                    "Coding",
                    "Extraction",
                    "STEM",
                    "Humanities",
                    "Writing"
                  ],
                  "type": "scatterpolar"
                },
                {
                  "hovertemplate": "model=microsoft_Phi-3-mini-4k-instruct<br>score=%{r}<br>category=%{theta}<extra></extra>",
                  "legendgroup": "microsoft_Phi-3-mini-4k-instruct",
                  "line": {
                    "color": "rgb(254, 136, 177)",
                    "dash": "solid"
                  },
                  "marker": {
                    "symbol": "circle"
                  },
                  "mode": "lines+markers",
                  "name": "microsoft_Phi-3-mini-4k-instruct",
                  "r": [
                    9.6,
                    8.525,
                    6.75,
                    7.1,
                    5.95,
                    7.65,
                    9.1,
                    9.65,
                    9.6
                  ],
                  "showlegend": true,
                  "subplot": "polar",
                  "theta": [
                    "Writing",
                    "Roleplay",
                    "Reasoning",
                    "Math",
                    "Coding",
                    "Extraction",
                    "STEM",
                    "Humanities",
                    "Writing"
                  ],
                  "type": "scatterpolar"
                },
                {
                  "hovertemplate": "model=HuggingFaceTB_SmolLM-1.7B-Instruct<br>score=%{r}<br>category=%{theta}<extra></extra>",
                  "legendgroup": "HuggingFaceTB_SmolLM-1.7B-Instruct",
                  "line": {
                    "color": "rgb(201, 219, 116)",
                    "dash": "solid"
                  },
                  "marker": {
                    "symbol": "circle"
                  },
                  "mode": "lines+markers",
                  "name": "HuggingFaceTB_SmolLM-1.7B-Instruct",
                  "r": [
                    5.1,
                    5.7,
                    2.75,
                    1.6,
                    2.85,
                    2.4,
                    6.8,
                    7.5,
                    5.1
                  ],
                  "showlegend": true,
                  "subplot": "polar",
                  "theta": [
                    "Writing",
                    "Roleplay",
                    "Reasoning",
                    "Math",
                    "Coding",
                    "Extraction",
                    "STEM",
                    "Humanities",
                    "Writing"
                  ],
                  "type": "scatterpolar"
                },
                {
                  "hovertemplate": "model=ultrafeedback_openhermespref_orcadoppairs_1epoch_then_2epochs_then_1epoch<br>score=%{r}<br>category=%{theta}<extra></extra>",
                  "legendgroup": "ultrafeedback_openhermespref_orcadoppairs_1epoch_then_2epochs_then_1epoch",
                  "line": {
                    "color": "rgb(139, 224, 164)",
                    "dash": "solid"
                  },
                  "marker": {
                    "symbol": "circle"
                  },
                  "mode": "lines+markers",
                  "name": "ultrafeedback_openhermespref_orcadoppairs_1epoch_then_2epochs_then_1epoch",
                  "r": [
                    6.6,
                    7.95,
                    6.7,
                    6.6,
                    3.3,
                    5.5,
                    9,
                    9.325,
                    6.6
                  ],
                  "showlegend": true,
                  "subplot": "polar",
                  "theta": [
                    "Writing",
                    "Roleplay",
                    "Reasoning",
                    "Math",
                    "Coding",
                    "Extraction",
                    "STEM",
                    "Humanities",
                    "Writing"
                  ],
                  "type": "scatterpolar"
                },
                {
                  "hovertemplate": "model=ultrafeedback_openhermespref_orcadoppairs_1epoch_then_2epochs<br>score=%{r}<br>category=%{theta}<extra></extra>",
                  "legendgroup": "ultrafeedback_openhermespref_orcadoppairs_1epoch_then_2epochs",
                  "line": {
                    "color": "rgb(180, 151, 231)",
                    "dash": "solid"
                  },
                  "marker": {
                    "symbol": "circle"
                  },
                  "mode": "lines+markers",
                  "name": "ultrafeedback_openhermespref_orcadoppairs_1epoch_then_2epochs",
                  "r": [
                    8.8,
                    8.2,
                    6.35,
                    6.75,
                    3.35,
                    6,
                    9.2,
                    9.325,
                    8.8
                  ],
                  "showlegend": true,
                  "subplot": "polar",
                  "theta": [
                    "Writing",
                    "Roleplay",
                    "Reasoning",
                    "Math",
                    "Coding",
                    "Extraction",
                    "STEM",
                    "Humanities",
                    "Writing"
                  ],
                  "type": "scatterpolar"
                },
                {
                  "hovertemplate": "model=ultrafeedback_openhermespref_orcadoppairs_1epoch<br>score=%{r}<br>category=%{theta}<extra></extra>",
                  "legendgroup": "ultrafeedback_openhermespref_orcadoppairs_1epoch",
                  "line": {
                    "color": "rgb(179, 179, 179)",
                    "dash": "solid"
                  },
                  "marker": {
                    "symbol": "circle"
                  },
                  "mode": "lines+markers",
                  "name": "ultrafeedback_openhermespref_orcadoppairs_1epoch",
                  "r": [
                    7.45,
                    7.9,
                    6.4,
                    6.05,
                    3.4,
                    5.45,
                    8.975,
                    9.175,
                    7.45
                  ],
                  "showlegend": true,
                  "subplot": "polar",
                  "theta": [
                    "Writing",
                    "Roleplay",
                    "Reasoning",
                    "Math",
                    "Coding",
                    "Extraction",
                    "STEM",
                    "Humanities",
                    "Writing"
                  ],
                  "type": "scatterpolar"
                },
                {
                  "hovertemplate": "model=ultrafeedback_openhermespref_orcadoppairs_4epochs<br>score=%{r}<br>category=%{theta}<extra></extra>",
                  "legendgroup": "ultrafeedback_openhermespref_orcadoppairs_4epochs",
                  "line": {
                    "color": "rgb(102, 197, 204)",
                    "dash": "solid"
                  },
                  "marker": {
                    "symbol": "circle"
                  },
                  "mode": "lines+markers",
                  "name": "ultrafeedback_openhermespref_orcadoppairs_4epochs",
                  "r": [
                    7.9,
                    7.375,
                    6.35,
                    6.05,
                    3.95,
                    5.95,
                    9.3,
                    9.1,
                    7.9
                  ],
                  "showlegend": true,
                  "subplot": "polar",
                  "theta": [
                    "Writing",
                    "Roleplay",
                    "Reasoning",
                    "Math",
                    "Coding",
                    "Extraction",
                    "STEM",
                    "Humanities",
                    "Writing"
                  ],
                  "type": "scatterpolar"
                },
                {
                  "hovertemplate": "model=gemma-2-2b-it<br>score=%{r}<br>category=%{theta}<extra></extra>",
                  "legendgroup": "gemma-2-2b-it",
                  "line": {
                    "color": "rgb(246, 207, 113)",
                    "dash": "solid"
                  },
                  "marker": {
                    "symbol": "circle"
                  },
                  "mode": "lines+markers",
                  "name": "gemma-2-2b-it",
                  "r": [
                    8.225,
                    7.125,
                    4.75,
                    3.45,
                    2.473684210526316,
                    2.1,
                    6.65,
                    6.45,
                    8.225
                  ],
                  "showlegend": true,
                  "subplot": "polar",
                  "theta": [
                    "Writing",
                    "Roleplay",
                    "Reasoning",
                    "Math",
                    "Coding",
                    "Extraction",
                    "STEM",
                    "Humanities",
                    "Writing"
                  ],
                  "type": "scatterpolar"
                },
                {
                  "hovertemplate": "model=instr_release_ultrafeedback_batch32_rejected_half_from_zamba<br>score=%{r}<br>category=%{theta}<extra></extra>",
                  "legendgroup": "instr_release_ultrafeedback_batch32_rejected_half_from_zamba",
                  "line": {
                    "color": "rgb(248, 156, 116)",
                    "dash": "solid"
                  },
                  "marker": {
                    "symbol": "circle"
                  },
                  "mode": "lines+markers",
                  "name": "instr_release_ultrafeedback_batch32_rejected_half_from_zamba",
                  "r": [
                    8.325,
                    7.525,
                    6.2,
                    6.25,
                    3.7,
                    5,
                    9,
                    9.6,
                    8.325
                  ],
                  "showlegend": true,
                  "subplot": "polar",
                  "theta": [
                    "Writing",
                    "Roleplay",
                    "Reasoning",
                    "Math",
                    "Coding",
                    "Extraction",
                    "STEM",
                    "Humanities",
                    "Writing"
                  ],
                  "type": "scatterpolar"
                },
                {
                  "hovertemplate": "model=instr_release_ultrafeedback_infinfstruct_batch32_with_actual_mix_infinstr_ultrachat_round2<br>score=%{r}<br>category=%{theta}<extra></extra>",
                  "legendgroup": "instr_release_ultrafeedback_infinfstruct_batch32_with_actual_mix_infinstr_ultrachat_round2",
                  "line": {
                    "color": "rgb(220, 176, 242)",
                    "dash": "solid"
                  },
                  "marker": {
                    "symbol": "circle"
                  },
                  "mode": "lines+markers",
                  "name": "instr_release_ultrafeedback_infinfstruct_batch32_with_actual_mix_infinstr_ultrachat_round2",
                  "r": [
                    7.75,
                    8.1,
                    6.85,
                    6.55,
                    3.3,
                    5.45,
                    9,
                    9.075,
                    7.75
                  ],
                  "showlegend": true,
                  "subplot": "polar",
                  "theta": [
                    "Writing",
                    "Roleplay",
                    "Reasoning",
                    "Math",
                    "Coding",
                    "Extraction",
                    "STEM",
                    "Humanities",
                    "Writing"
                  ],
                  "type": "scatterpolar"
                },
                {
                  "hovertemplate": "model=instr_release_ultrafeedback_batch32_rejected_half_from_zamba_round2<br>score=%{r}<br>category=%{theta}<extra></extra>",
                  "legendgroup": "instr_release_ultrafeedback_batch32_rejected_half_from_zamba_round2",
                  "line": {
                    "color": "rgb(135, 197, 95)",
                    "dash": "solid"
                  },
                  "marker": {
                    "symbol": "circle"
                  },
                  "mode": "lines+markers",
                  "name": "instr_release_ultrafeedback_batch32_rejected_half_from_zamba_round2",
                  "r": [
                    7.55,
                    7.95,
                    6.3,
                    6.2,
                    3.45,
                    5.65,
                    8.875,
                    9.45,
                    7.55
                  ],
                  "showlegend": true,
                  "subplot": "polar",
                  "theta": [
                    "Writing",
                    "Roleplay",
                    "Reasoning",
                    "Math",
                    "Coding",
                    "Extraction",
                    "STEM",
                    "Humanities",
                    "Writing"
                  ],
                  "type": "scatterpolar"
                },
                {
                  "hovertemplate": "model=instr_release_ultrafeedback_batch32_rejected_fully_from_zamba<br>score=%{r}<br>category=%{theta}<extra></extra>",
                  "legendgroup": "instr_release_ultrafeedback_batch32_rejected_fully_from_zamba",
                  "line": {
                    "color": "rgb(158, 185, 243)",
                    "dash": "solid"
                  },
                  "marker": {
                    "symbol": "circle"
                  },
                  "mode": "lines+markers",
                  "name": "instr_release_ultrafeedback_batch32_rejected_fully_from_zamba",
                  "r": [
                    8.075,
                    7.5,
                    6.7,
                    6.1,
                    3.65,
                    5.675,
                    8.875,
                    9.5,
                    8.075
                  ],
                  "showlegend": true,
                  "subplot": "polar",
                  "theta": [
                    "Writing",
                    "Roleplay",
                    "Reasoning",
                    "Math",
                    "Coding",
                    "Extraction",
                    "STEM",
                    "Humanities",
                    "Writing"
                  ],
                  "type": "scatterpolar"
                },
                {
                  "hovertemplate": "model=instr_release_ultrafeedback_infinfstruct_batch32_with_actual_mix_infinstr_ultrachat_round3<br>score=%{r}<br>category=%{theta}<extra></extra>",
                  "legendgroup": "instr_release_ultrafeedback_infinfstruct_batch32_with_actual_mix_infinstr_ultrachat_round3",
                  "line": {
                    "color": "rgb(254, 136, 177)",
                    "dash": "solid"
                  },
                  "marker": {
                    "symbol": "circle"
                  },
                  "mode": "lines+markers",
                  "name": "instr_release_ultrafeedback_infinfstruct_batch32_with_actual_mix_infinstr_ultrachat_round3",
                  "r": [
                    7.6,
                    7.9,
                    6.4,
                    6.6,
                    3.05,
                    5.4,
                    9.2,
                    9.125,
                    7.6
                  ],
                  "showlegend": true,
                  "subplot": "polar",
                  "theta": [
                    "Writing",
                    "Roleplay",
                    "Reasoning",
                    "Math",
                    "Coding",
                    "Extraction",
                    "STEM",
                    "Humanities",
                    "Writing"
                  ],
                  "type": "scatterpolar"
                },
                {
                  "hovertemplate": "model=instr_release_ultrafeedback_batch32_rejected_half_from_zamba_round3<br>score=%{r}<br>category=%{theta}<extra></extra>",
                  "legendgroup": "instr_release_ultrafeedback_batch32_rejected_half_from_zamba_round3",
                  "line": {
                    "color": "rgb(201, 219, 116)",
                    "dash": "solid"
                  },
                  "marker": {
                    "symbol": "circle"
                  },
                  "mode": "lines+markers",
                  "name": "instr_release_ultrafeedback_batch32_rejected_half_from_zamba_round3",
                  "r": [
                    7.925,
                    7.55,
                    6.45,
                    6.2,
                    3.45,
                    5.35,
                    8.825,
                    9.45,
                    7.925
                  ],
                  "showlegend": true,
                  "subplot": "polar",
                  "theta": [
                    "Writing",
                    "Roleplay",
                    "Reasoning",
                    "Math",
                    "Coding",
                    "Extraction",
                    "STEM",
                    "Humanities",
                    "Writing"
                  ],
                  "type": "scatterpolar"
                },
                {
                  "hovertemplate": "model=instr_release_ultrafeedback_infinfstruct_batch32_with_actual_mix_infinstr_ultrachat<br>score=%{r}<br>category=%{theta}<extra></extra>",
                  "legendgroup": "instr_release_ultrafeedback_infinfstruct_batch32_with_actual_mix_infinstr_ultrachat",
                  "line": {
                    "color": "rgb(139, 224, 164)",
                    "dash": "solid"
                  },
                  "marker": {
                    "symbol": "circle"
                  },
                  "mode": "lines+markers",
                  "name": "instr_release_ultrafeedback_infinfstruct_batch32_with_actual_mix_infinstr_ultrachat",
                  "r": [
                    7.675,
                    7.825,
                    6.5,
                    6.25,
                    3.55,
                    5.55,
                    9.05,
                    9.1,
                    7.675
                  ],
                  "showlegend": true,
                  "subplot": "polar",
                  "theta": [
                    "Writing",
                    "Roleplay",
                    "Reasoning",
                    "Math",
                    "Coding",
                    "Extraction",
                    "STEM",
                    "Humanities",
                    "Writing"
                  ],
                  "type": "scatterpolar"
                },
                {
                  "hovertemplate": "model=nstr_release_ultrafeedback_batch32_rejected_fully_from_zamba_round2<br>score=%{r}<br>category=%{theta}<extra></extra>",
                  "legendgroup": "nstr_release_ultrafeedback_batch32_rejected_fully_from_zamba_round2",
                  "line": {
                    "color": "rgb(180, 151, 231)",
                    "dash": "solid"
                  },
                  "marker": {
                    "symbol": "circle"
                  },
                  "mode": "lines+markers",
                  "name": "nstr_release_ultrafeedback_batch32_rejected_fully_from_zamba_round2",
                  "r": [
                    8.2,
                    7.75,
                    6.2,
                    5.5,
                    3.7,
                    5.6,
                    8.75,
                    9.775,
                    8.2
                  ],
                  "showlegend": true,
                  "subplot": "polar",
                  "theta": [
                    "Writing",
                    "Roleplay",
                    "Reasoning",
                    "Math",
                    "Coding",
                    "Extraction",
                    "STEM",
                    "Humanities",
                    "Writing"
                  ],
                  "type": "scatterpolar"
                },
                {
                  "hovertemplate": "model=instr_release_ultrafeedback_batch32_rejected_fully_from_zamba_round3<br>score=%{r}<br>category=%{theta}<extra></extra>",
                  "legendgroup": "instr_release_ultrafeedback_batch32_rejected_fully_from_zamba_round3",
                  "line": {
                    "color": "rgb(179, 179, 179)",
                    "dash": "solid"
                  },
                  "marker": {
                    "symbol": "circle"
                  },
                  "mode": "lines+markers",
                  "name": "instr_release_ultrafeedback_batch32_rejected_fully_from_zamba_round3",
                  "r": [
                    8.15,
                    7.525,
                    6.5,
                    5.8,
                    3.5,
                    5.45,
                    8.6,
                    9.675,
                    8.15
                  ],
                  "showlegend": true,
                  "subplot": "polar",
                  "theta": [
                    "Writing",
                    "Roleplay",
                    "Reasoning",
                    "Math",
                    "Coding",
                    "Extraction",
                    "STEM",
                    "Humanities",
                    "Writing"
                  ],
                  "type": "scatterpolar"
                }
              ],
              "layout": {
                "legend": {
                  "title": {
                    "text": "model"
                  },
                  "tracegroupgap": 0
                },
                "margin": {
                  "t": 60
                },
                "polar": {
                  "angularaxis": {
                    "categoryarray": [
                      "Writing",
                      "Roleplay",
                      "Reasoning",
                      "Math",
                      "Coding",
                      "Extraction",
                      "STEM",
                      "Humanities"
                    ],
                    "categoryorder": "array",
                    "direction": "clockwise",
                    "rotation": 90
                  },
                  "domain": {
                    "x": [
                      0,
                      1
                    ],
                    "y": [
                      0,
                      1
                    ]
                  }
                },
                "template": {
                  "data": {
                    "bar": [
                      {
                        "error_x": {
                          "color": "#2a3f5f"
                        },
                        "error_y": {
                          "color": "#2a3f5f"
                        },
                        "marker": {
                          "line": {
                            "color": "#E5ECF6",
                            "width": 0.5
                          },
                          "pattern": {
                            "fillmode": "overlay",
                            "size": 10,
                            "solidity": 0.2
                          }
                        },
                        "type": "bar"
                      }
                    ],
                    "barpolar": [
                      {
                        "marker": {
                          "line": {
                            "color": "#E5ECF6",
                            "width": 0.5
                          },
                          "pattern": {
                            "fillmode": "overlay",
                            "size": 10,
                            "solidity": 0.2
                          }
                        },
                        "type": "barpolar"
                      }
                    ],
                    "carpet": [
                      {
                        "aaxis": {
                          "endlinecolor": "#2a3f5f",
                          "gridcolor": "white",
                          "linecolor": "white",
                          "minorgridcolor": "white",
                          "startlinecolor": "#2a3f5f"
                        },
                        "baxis": {
                          "endlinecolor": "#2a3f5f",
                          "gridcolor": "white",
                          "linecolor": "white",
                          "minorgridcolor": "white",
                          "startlinecolor": "#2a3f5f"
                        },
                        "type": "carpet"
                      }
                    ],
                    "choropleth": [
                      {
                        "colorbar": {
                          "outlinewidth": 0,
                          "ticks": ""
                        },
                        "type": "choropleth"
                      }
                    ],
                    "contour": [
                      {
                        "colorbar": {
                          "outlinewidth": 0,
                          "ticks": ""
                        },
                        "colorscale": [
                          [
                            0,
                            "#0d0887"
                          ],
                          [
                            0.1111111111111111,
                            "#46039f"
                          ],
                          [
                            0.2222222222222222,
                            "#7201a8"
                          ],
                          [
                            0.3333333333333333,
                            "#9c179e"
                          ],
                          [
                            0.4444444444444444,
                            "#bd3786"
                          ],
                          [
                            0.5555555555555556,
                            "#d8576b"
                          ],
                          [
                            0.6666666666666666,
                            "#ed7953"
                          ],
                          [
                            0.7777777777777778,
                            "#fb9f3a"
                          ],
                          [
                            0.8888888888888888,
                            "#fdca26"
                          ],
                          [
                            1,
                            "#f0f921"
                          ]
                        ],
                        "type": "contour"
                      }
                    ],
                    "contourcarpet": [
                      {
                        "colorbar": {
                          "outlinewidth": 0,
                          "ticks": ""
                        },
                        "type": "contourcarpet"
                      }
                    ],
                    "heatmap": [
                      {
                        "colorbar": {
                          "outlinewidth": 0,
                          "ticks": ""
                        },
                        "colorscale": [
                          [
                            0,
                            "#0d0887"
                          ],
                          [
                            0.1111111111111111,
                            "#46039f"
                          ],
                          [
                            0.2222222222222222,
                            "#7201a8"
                          ],
                          [
                            0.3333333333333333,
                            "#9c179e"
                          ],
                          [
                            0.4444444444444444,
                            "#bd3786"
                          ],
                          [
                            0.5555555555555556,
                            "#d8576b"
                          ],
                          [
                            0.6666666666666666,
                            "#ed7953"
                          ],
                          [
                            0.7777777777777778,
                            "#fb9f3a"
                          ],
                          [
                            0.8888888888888888,
                            "#fdca26"
                          ],
                          [
                            1,
                            "#f0f921"
                          ]
                        ],
                        "type": "heatmap"
                      }
                    ],
                    "heatmapgl": [
                      {
                        "colorbar": {
                          "outlinewidth": 0,
                          "ticks": ""
                        },
                        "colorscale": [
                          [
                            0,
                            "#0d0887"
                          ],
                          [
                            0.1111111111111111,
                            "#46039f"
                          ],
                          [
                            0.2222222222222222,
                            "#7201a8"
                          ],
                          [
                            0.3333333333333333,
                            "#9c179e"
                          ],
                          [
                            0.4444444444444444,
                            "#bd3786"
                          ],
                          [
                            0.5555555555555556,
                            "#d8576b"
                          ],
                          [
                            0.6666666666666666,
                            "#ed7953"
                          ],
                          [
                            0.7777777777777778,
                            "#fb9f3a"
                          ],
                          [
                            0.8888888888888888,
                            "#fdca26"
                          ],
                          [
                            1,
                            "#f0f921"
                          ]
                        ],
                        "type": "heatmapgl"
                      }
                    ],
                    "histogram": [
                      {
                        "marker": {
                          "pattern": {
                            "fillmode": "overlay",
                            "size": 10,
                            "solidity": 0.2
                          }
                        },
                        "type": "histogram"
                      }
                    ],
                    "histogram2d": [
                      {
                        "colorbar": {
                          "outlinewidth": 0,
                          "ticks": ""
                        },
                        "colorscale": [
                          [
                            0,
                            "#0d0887"
                          ],
                          [
                            0.1111111111111111,
                            "#46039f"
                          ],
                          [
                            0.2222222222222222,
                            "#7201a8"
                          ],
                          [
                            0.3333333333333333,
                            "#9c179e"
                          ],
                          [
                            0.4444444444444444,
                            "#bd3786"
                          ],
                          [
                            0.5555555555555556,
                            "#d8576b"
                          ],
                          [
                            0.6666666666666666,
                            "#ed7953"
                          ],
                          [
                            0.7777777777777778,
                            "#fb9f3a"
                          ],
                          [
                            0.8888888888888888,
                            "#fdca26"
                          ],
                          [
                            1,
                            "#f0f921"
                          ]
                        ],
                        "type": "histogram2d"
                      }
                    ],
                    "histogram2dcontour": [
                      {
                        "colorbar": {
                          "outlinewidth": 0,
                          "ticks": ""
                        },
                        "colorscale": [
                          [
                            0,
                            "#0d0887"
                          ],
                          [
                            0.1111111111111111,
                            "#46039f"
                          ],
                          [
                            0.2222222222222222,
                            "#7201a8"
                          ],
                          [
                            0.3333333333333333,
                            "#9c179e"
                          ],
                          [
                            0.4444444444444444,
                            "#bd3786"
                          ],
                          [
                            0.5555555555555556,
                            "#d8576b"
                          ],
                          [
                            0.6666666666666666,
                            "#ed7953"
                          ],
                          [
                            0.7777777777777778,
                            "#fb9f3a"
                          ],
                          [
                            0.8888888888888888,
                            "#fdca26"
                          ],
                          [
                            1,
                            "#f0f921"
                          ]
                        ],
                        "type": "histogram2dcontour"
                      }
                    ],
                    "mesh3d": [
                      {
                        "colorbar": {
                          "outlinewidth": 0,
                          "ticks": ""
                        },
                        "type": "mesh3d"
                      }
                    ],
                    "parcoords": [
                      {
                        "line": {
                          "colorbar": {
                            "outlinewidth": 0,
                            "ticks": ""
                          }
                        },
                        "type": "parcoords"
                      }
                    ],
                    "pie": [
                      {
                        "automargin": true,
                        "type": "pie"
                      }
                    ],
                    "scatter": [
                      {
                        "fillpattern": {
                          "fillmode": "overlay",
                          "size": 10,
                          "solidity": 0.2
                        },
                        "type": "scatter"
                      }
                    ],
                    "scatter3d": [
                      {
                        "line": {
                          "colorbar": {
                            "outlinewidth": 0,
                            "ticks": ""
                          }
                        },
                        "marker": {
                          "colorbar": {
                            "outlinewidth": 0,
                            "ticks": ""
                          }
                        },
                        "type": "scatter3d"
                      }
                    ],
                    "scattercarpet": [
                      {
                        "marker": {
                          "colorbar": {
                            "outlinewidth": 0,
                            "ticks": ""
                          }
                        },
                        "type": "scattercarpet"
                      }
                    ],
                    "scattergeo": [
                      {
                        "marker": {
                          "colorbar": {
                            "outlinewidth": 0,
                            "ticks": ""
                          }
                        },
                        "type": "scattergeo"
                      }
                    ],
                    "scattergl": [
                      {
                        "marker": {
                          "colorbar": {
                            "outlinewidth": 0,
                            "ticks": ""
                          }
                        },
                        "type": "scattergl"
                      }
                    ],
                    "scattermapbox": [
                      {
                        "marker": {
                          "colorbar": {
                            "outlinewidth": 0,
                            "ticks": ""
                          }
                        },
                        "type": "scattermapbox"
                      }
                    ],
                    "scatterpolar": [
                      {
                        "marker": {
                          "colorbar": {
                            "outlinewidth": 0,
                            "ticks": ""
                          }
                        },
                        "type": "scatterpolar"
                      }
                    ],
                    "scatterpolargl": [
                      {
                        "marker": {
                          "colorbar": {
                            "outlinewidth": 0,
                            "ticks": ""
                          }
                        },
                        "type": "scatterpolargl"
                      }
                    ],
                    "scatterternary": [
                      {
                        "marker": {
                          "colorbar": {
                            "outlinewidth": 0,
                            "ticks": ""
                          }
                        },
                        "type": "scatterternary"
                      }
                    ],
                    "surface": [
                      {
                        "colorbar": {
                          "outlinewidth": 0,
                          "ticks": ""
                        },
                        "colorscale": [
                          [
                            0,
                            "#0d0887"
                          ],
                          [
                            0.1111111111111111,
                            "#46039f"
                          ],
                          [
                            0.2222222222222222,
                            "#7201a8"
                          ],
                          [
                            0.3333333333333333,
                            "#9c179e"
                          ],
                          [
                            0.4444444444444444,
                            "#bd3786"
                          ],
                          [
                            0.5555555555555556,
                            "#d8576b"
                          ],
                          [
                            0.6666666666666666,
                            "#ed7953"
                          ],
                          [
                            0.7777777777777778,
                            "#fb9f3a"
                          ],
                          [
                            0.8888888888888888,
                            "#fdca26"
                          ],
                          [
                            1,
                            "#f0f921"
                          ]
                        ],
                        "type": "surface"
                      }
                    ],
                    "table": [
                      {
                        "cells": {
                          "fill": {
                            "color": "#EBF0F8"
                          },
                          "line": {
                            "color": "white"
                          }
                        },
                        "header": {
                          "fill": {
                            "color": "#C8D4E3"
                          },
                          "line": {
                            "color": "white"
                          }
                        },
                        "type": "table"
                      }
                    ]
                  },
                  "layout": {
                    "annotationdefaults": {
                      "arrowcolor": "#2a3f5f",
                      "arrowhead": 0,
                      "arrowwidth": 1
                    },
                    "autotypenumbers": "strict",
                    "coloraxis": {
                      "colorbar": {
                        "outlinewidth": 0,
                        "ticks": ""
                      }
                    },
                    "colorscale": {
                      "diverging": [
                        [
                          0,
                          "#8e0152"
                        ],
                        [
                          0.1,
                          "#c51b7d"
                        ],
                        [
                          0.2,
                          "#de77ae"
                        ],
                        [
                          0.3,
                          "#f1b6da"
                        ],
                        [
                          0.4,
                          "#fde0ef"
                        ],
                        [
                          0.5,
                          "#f7f7f7"
                        ],
                        [
                          0.6,
                          "#e6f5d0"
                        ],
                        [
                          0.7,
                          "#b8e186"
                        ],
                        [
                          0.8,
                          "#7fbc41"
                        ],
                        [
                          0.9,
                          "#4d9221"
                        ],
                        [
                          1,
                          "#276419"
                        ]
                      ],
                      "sequential": [
                        [
                          0,
                          "#0d0887"
                        ],
                        [
                          0.1111111111111111,
                          "#46039f"
                        ],
                        [
                          0.2222222222222222,
                          "#7201a8"
                        ],
                        [
                          0.3333333333333333,
                          "#9c179e"
                        ],
                        [
                          0.4444444444444444,
                          "#bd3786"
                        ],
                        [
                          0.5555555555555556,
                          "#d8576b"
                        ],
                        [
                          0.6666666666666666,
                          "#ed7953"
                        ],
                        [
                          0.7777777777777778,
                          "#fb9f3a"
                        ],
                        [
                          0.8888888888888888,
                          "#fdca26"
                        ],
                        [
                          1,
                          "#f0f921"
                        ]
                      ],
                      "sequentialminus": [
                        [
                          0,
                          "#0d0887"
                        ],
                        [
                          0.1111111111111111,
                          "#46039f"
                        ],
                        [
                          0.2222222222222222,
                          "#7201a8"
                        ],
                        [
                          0.3333333333333333,
                          "#9c179e"
                        ],
                        [
                          0.4444444444444444,
                          "#bd3786"
                        ],
                        [
                          0.5555555555555556,
                          "#d8576b"
                        ],
                        [
                          0.6666666666666666,
                          "#ed7953"
                        ],
                        [
                          0.7777777777777778,
                          "#fb9f3a"
                        ],
                        [
                          0.8888888888888888,
                          "#fdca26"
                        ],
                        [
                          1,
                          "#f0f921"
                        ]
                      ]
                    },
                    "colorway": [
                      "#636efa",
                      "#EF553B",
                      "#00cc96",
                      "#ab63fa",
                      "#FFA15A",
                      "#19d3f3",
                      "#FF6692",
                      "#B6E880",
                      "#FF97FF",
                      "#FECB52"
                    ],
                    "font": {
                      "color": "#2a3f5f"
                    },
                    "geo": {
                      "bgcolor": "white",
                      "lakecolor": "white",
                      "landcolor": "#E5ECF6",
                      "showlakes": true,
                      "showland": true,
                      "subunitcolor": "white"
                    },
                    "hoverlabel": {
                      "align": "left"
                    },
                    "hovermode": "closest",
                    "mapbox": {
                      "style": "light"
                    },
                    "paper_bgcolor": "white",
                    "plot_bgcolor": "#E5ECF6",
                    "polar": {
                      "angularaxis": {
                        "gridcolor": "white",
                        "linecolor": "white",
                        "ticks": ""
                      },
                      "bgcolor": "#E5ECF6",
                      "radialaxis": {
                        "gridcolor": "white",
                        "linecolor": "white",
                        "ticks": ""
                      }
                    },
                    "scene": {
                      "xaxis": {
                        "backgroundcolor": "#E5ECF6",
                        "gridcolor": "white",
                        "gridwidth": 2,
                        "linecolor": "white",
                        "showbackground": true,
                        "ticks": "",
                        "zerolinecolor": "white"
                      },
                      "yaxis": {
                        "backgroundcolor": "#E5ECF6",
                        "gridcolor": "white",
                        "gridwidth": 2,
                        "linecolor": "white",
                        "showbackground": true,
                        "ticks": "",
                        "zerolinecolor": "white"
                      },
                      "zaxis": {
                        "backgroundcolor": "#E5ECF6",
                        "gridcolor": "white",
                        "gridwidth": 2,
                        "linecolor": "white",
                        "showbackground": true,
                        "ticks": "",
                        "zerolinecolor": "white"
                      }
                    },
                    "shapedefaults": {
                      "line": {
                        "color": "#2a3f5f"
                      }
                    },
                    "ternary": {
                      "aaxis": {
                        "gridcolor": "white",
                        "linecolor": "white",
                        "ticks": ""
                      },
                      "baxis": {
                        "gridcolor": "white",
                        "linecolor": "white",
                        "ticks": ""
                      },
                      "bgcolor": "#E5ECF6",
                      "caxis": {
                        "gridcolor": "white",
                        "linecolor": "white",
                        "ticks": ""
                      }
                    },
                    "title": {
                      "x": 0.05
                    },
                    "xaxis": {
                      "automargin": true,
                      "gridcolor": "white",
                      "linecolor": "white",
                      "ticks": "",
                      "title": {
                        "standoff": 15
                      },
                      "zerolinecolor": "white",
                      "zerolinewidth": 2
                    },
                    "yaxis": {
                      "automargin": true,
                      "gridcolor": "white",
                      "linecolor": "white",
                      "ticks": "",
                      "title": {
                        "standoff": 15
                      },
                      "zerolinecolor": "white",
                      "zerolinewidth": 2
                    }
                  }
                }
              }
            },
            "text/html": [
              "<div>                            <div id=\"7adf8659-516c-4b97-8894-767a7fb93b3b\" class=\"plotly-graph-div\" style=\"height:525px; width:100%;\"></div>            <script type=\"text/javascript\">                require([\"plotly\"], function(Plotly) {                    window.PLOTLYENV=window.PLOTLYENV || {};                                    if (document.getElementById(\"7adf8659-516c-4b97-8894-767a7fb93b3b\")) {                    Plotly.newPlot(                        \"7adf8659-516c-4b97-8894-767a7fb93b3b\",                        [{\"hovertemplate\":\"model=h2oai_h2o-danube2-1.8b-chat\\u003cbr\\u003escore=%{r}\\u003cbr\\u003ecategory=%{theta}\\u003cextra\\u003e\\u003c\\u002fextra\\u003e\",\"legendgroup\":\"h2oai_h2o-danube2-1.8b-chat\",\"line\":{\"color\":\"rgb(102, 197, 204)\",\"dash\":\"solid\"},\"marker\":{\"symbol\":\"circle\"},\"mode\":\"lines+markers\",\"name\":\"h2oai_h2o-danube2-1.8b-chat\",\"r\":[7.1,6.175,3.2,2.95,2.4,2.85,6.05,9.1,7.1],\"showlegend\":true,\"subplot\":\"polar\",\"theta\":[\"Writing\",\"Roleplay\",\"Reasoning\",\"Math\",\"Coding\",\"Extraction\",\"STEM\",\"Humanities\",\"Writing\"],\"type\":\"scatterpolar\"},{\"hovertemplate\":\"model=stabilityai_stablelm-zephyr-3b\\u003cbr\\u003escore=%{r}\\u003cbr\\u003ecategory=%{theta}\\u003cextra\\u003e\\u003c\\u002fextra\\u003e\",\"legendgroup\":\"stabilityai_stablelm-zephyr-3b\",\"line\":{\"color\":\"rgb(246, 207, 113)\",\"dash\":\"solid\"},\"marker\":{\"symbol\":\"circle\"},\"mode\":\"lines+markers\",\"name\":\"stabilityai_stablelm-zephyr-3b\",\"r\":[7.6,7.0,3.3,3.5,5.05,5.05,7.175,8.725,7.6],\"showlegend\":true,\"subplot\":\"polar\",\"theta\":[\"Writing\",\"Roleplay\",\"Reasoning\",\"Math\",\"Coding\",\"Extraction\",\"STEM\",\"Humanities\",\"Writing\"],\"type\":\"scatterpolar\"},{\"hovertemplate\":\"model=h2oai_h2o-danube3-4b-chat\\u003cbr\\u003escore=%{r}\\u003cbr\\u003ecategory=%{theta}\\u003cextra\\u003e\\u003c\\u002fextra\\u003e\",\"legendgroup\":\"h2oai_h2o-danube3-4b-chat\",\"line\":{\"color\":\"rgb(248, 156, 116)\",\"dash\":\"solid\"},\"marker\":{\"symbol\":\"circle\"},\"mode\":\"lines+markers\",\"name\":\"h2oai_h2o-danube3-4b-chat\",\"r\":[6.2,6.15,5.4,3.8,3.55,4.6,6.5,5.894736842105263,6.2],\"showlegend\":true,\"subplot\":\"polar\",\"theta\":[\"Writing\",\"Roleplay\",\"Reasoning\",\"Math\",\"Coding\",\"Extraction\",\"STEM\",\"Humanities\",\"Writing\"],\"type\":\"scatterpolar\"},{\"hovertemplate\":\"model=microsoft_Phi-3.5-mini-instruct\\u003cbr\\u003escore=%{r}\\u003cbr\\u003ecategory=%{theta}\\u003cextra\\u003e\\u003c\\u002fextra\\u003e\",\"legendgroup\":\"microsoft_Phi-3.5-mini-instruct\",\"line\":{\"color\":\"rgb(220, 176, 242)\",\"dash\":\"solid\"},\"marker\":{\"symbol\":\"circle\"},\"mode\":\"lines+markers\",\"name\":\"microsoft_Phi-3.5-mini-instruct\",\"r\":[9.55,9.2,6.8,6.2,7.55,8.68421052631579,9.8,9.85,9.55],\"showlegend\":true,\"subplot\":\"polar\",\"theta\":[\"Writing\",\"Roleplay\",\"Reasoning\",\"Math\",\"Coding\",\"Extraction\",\"STEM\",\"Humanities\",\"Writing\"],\"type\":\"scatterpolar\"},{\"hovertemplate\":\"model=stabilityai_stablelm-2-1_6b-chat\\u003cbr\\u003escore=%{r}\\u003cbr\\u003ecategory=%{theta}\\u003cextra\\u003e\\u003c\\u002fextra\\u003e\",\"legendgroup\":\"stabilityai_stablelm-2-1_6b-chat\",\"line\":{\"color\":\"rgb(135, 197, 95)\",\"dash\":\"solid\"},\"marker\":{\"symbol\":\"circle\"},\"mode\":\"lines+markers\",\"name\":\"stabilityai_stablelm-2-1_6b-chat\",\"r\":[6.2,6.55,3.7,2.7,2.9,4.0,6.55,7.3,6.2],\"showlegend\":true,\"subplot\":\"polar\",\"theta\":[\"Writing\",\"Roleplay\",\"Reasoning\",\"Math\",\"Coding\",\"Extraction\",\"STEM\",\"Humanities\",\"Writing\"],\"type\":\"scatterpolar\"},{\"hovertemplate\":\"model=Qwen_Qwen2-1.5B-Instruct\\u003cbr\\u003escore=%{r}\\u003cbr\\u003ecategory=%{theta}\\u003cextra\\u003e\\u003c\\u002fextra\\u003e\",\"legendgroup\":\"Qwen_Qwen2-1.5B-Instruct\",\"line\":{\"color\":\"rgb(158, 185, 243)\",\"dash\":\"solid\"},\"marker\":{\"symbol\":\"circle\"},\"mode\":\"lines+markers\",\"name\":\"Qwen_Qwen2-1.5B-Instruct\",\"r\":[1.0,1.0,1.0,1.0,1.0,1.0,1.0,1.0,1.0],\"showlegend\":true,\"subplot\":\"polar\",\"theta\":[\"Writing\",\"Roleplay\",\"Reasoning\",\"Math\",\"Coding\",\"Extraction\",\"STEM\",\"Humanities\",\"Writing\"],\"type\":\"scatterpolar\"},{\"hovertemplate\":\"model=microsoft_Phi-3-mini-4k-instruct\\u003cbr\\u003escore=%{r}\\u003cbr\\u003ecategory=%{theta}\\u003cextra\\u003e\\u003c\\u002fextra\\u003e\",\"legendgroup\":\"microsoft_Phi-3-mini-4k-instruct\",\"line\":{\"color\":\"rgb(254, 136, 177)\",\"dash\":\"solid\"},\"marker\":{\"symbol\":\"circle\"},\"mode\":\"lines+markers\",\"name\":\"microsoft_Phi-3-mini-4k-instruct\",\"r\":[9.6,8.525,6.75,7.1,5.95,7.65,9.1,9.65,9.6],\"showlegend\":true,\"subplot\":\"polar\",\"theta\":[\"Writing\",\"Roleplay\",\"Reasoning\",\"Math\",\"Coding\",\"Extraction\",\"STEM\",\"Humanities\",\"Writing\"],\"type\":\"scatterpolar\"},{\"hovertemplate\":\"model=HuggingFaceTB_SmolLM-1.7B-Instruct\\u003cbr\\u003escore=%{r}\\u003cbr\\u003ecategory=%{theta}\\u003cextra\\u003e\\u003c\\u002fextra\\u003e\",\"legendgroup\":\"HuggingFaceTB_SmolLM-1.7B-Instruct\",\"line\":{\"color\":\"rgb(201, 219, 116)\",\"dash\":\"solid\"},\"marker\":{\"symbol\":\"circle\"},\"mode\":\"lines+markers\",\"name\":\"HuggingFaceTB_SmolLM-1.7B-Instruct\",\"r\":[5.1,5.7,2.75,1.6,2.85,2.4,6.8,7.5,5.1],\"showlegend\":true,\"subplot\":\"polar\",\"theta\":[\"Writing\",\"Roleplay\",\"Reasoning\",\"Math\",\"Coding\",\"Extraction\",\"STEM\",\"Humanities\",\"Writing\"],\"type\":\"scatterpolar\"},{\"hovertemplate\":\"model=ultrafeedback_openhermespref_orcadoppairs_1epoch_then_2epochs_then_1epoch\\u003cbr\\u003escore=%{r}\\u003cbr\\u003ecategory=%{theta}\\u003cextra\\u003e\\u003c\\u002fextra\\u003e\",\"legendgroup\":\"ultrafeedback_openhermespref_orcadoppairs_1epoch_then_2epochs_then_1epoch\",\"line\":{\"color\":\"rgb(139, 224, 164)\",\"dash\":\"solid\"},\"marker\":{\"symbol\":\"circle\"},\"mode\":\"lines+markers\",\"name\":\"ultrafeedback_openhermespref_orcadoppairs_1epoch_then_2epochs_then_1epoch\",\"r\":[6.6,7.95,6.7,6.6,3.3,5.5,9.0,9.325,6.6],\"showlegend\":true,\"subplot\":\"polar\",\"theta\":[\"Writing\",\"Roleplay\",\"Reasoning\",\"Math\",\"Coding\",\"Extraction\",\"STEM\",\"Humanities\",\"Writing\"],\"type\":\"scatterpolar\"},{\"hovertemplate\":\"model=ultrafeedback_openhermespref_orcadoppairs_1epoch_then_2epochs\\u003cbr\\u003escore=%{r}\\u003cbr\\u003ecategory=%{theta}\\u003cextra\\u003e\\u003c\\u002fextra\\u003e\",\"legendgroup\":\"ultrafeedback_openhermespref_orcadoppairs_1epoch_then_2epochs\",\"line\":{\"color\":\"rgb(180, 151, 231)\",\"dash\":\"solid\"},\"marker\":{\"symbol\":\"circle\"},\"mode\":\"lines+markers\",\"name\":\"ultrafeedback_openhermespref_orcadoppairs_1epoch_then_2epochs\",\"r\":[8.8,8.2,6.35,6.75,3.35,6.0,9.2,9.325,8.8],\"showlegend\":true,\"subplot\":\"polar\",\"theta\":[\"Writing\",\"Roleplay\",\"Reasoning\",\"Math\",\"Coding\",\"Extraction\",\"STEM\",\"Humanities\",\"Writing\"],\"type\":\"scatterpolar\"},{\"hovertemplate\":\"model=ultrafeedback_openhermespref_orcadoppairs_1epoch\\u003cbr\\u003escore=%{r}\\u003cbr\\u003ecategory=%{theta}\\u003cextra\\u003e\\u003c\\u002fextra\\u003e\",\"legendgroup\":\"ultrafeedback_openhermespref_orcadoppairs_1epoch\",\"line\":{\"color\":\"rgb(179, 179, 179)\",\"dash\":\"solid\"},\"marker\":{\"symbol\":\"circle\"},\"mode\":\"lines+markers\",\"name\":\"ultrafeedback_openhermespref_orcadoppairs_1epoch\",\"r\":[7.45,7.9,6.4,6.05,3.4,5.45,8.975,9.175,7.45],\"showlegend\":true,\"subplot\":\"polar\",\"theta\":[\"Writing\",\"Roleplay\",\"Reasoning\",\"Math\",\"Coding\",\"Extraction\",\"STEM\",\"Humanities\",\"Writing\"],\"type\":\"scatterpolar\"},{\"hovertemplate\":\"model=ultrafeedback_openhermespref_orcadoppairs_4epochs\\u003cbr\\u003escore=%{r}\\u003cbr\\u003ecategory=%{theta}\\u003cextra\\u003e\\u003c\\u002fextra\\u003e\",\"legendgroup\":\"ultrafeedback_openhermespref_orcadoppairs_4epochs\",\"line\":{\"color\":\"rgb(102, 197, 204)\",\"dash\":\"solid\"},\"marker\":{\"symbol\":\"circle\"},\"mode\":\"lines+markers\",\"name\":\"ultrafeedback_openhermespref_orcadoppairs_4epochs\",\"r\":[7.9,7.375,6.35,6.05,3.95,5.95,9.3,9.1,7.9],\"showlegend\":true,\"subplot\":\"polar\",\"theta\":[\"Writing\",\"Roleplay\",\"Reasoning\",\"Math\",\"Coding\",\"Extraction\",\"STEM\",\"Humanities\",\"Writing\"],\"type\":\"scatterpolar\"},{\"hovertemplate\":\"model=gemma-2-2b-it\\u003cbr\\u003escore=%{r}\\u003cbr\\u003ecategory=%{theta}\\u003cextra\\u003e\\u003c\\u002fextra\\u003e\",\"legendgroup\":\"gemma-2-2b-it\",\"line\":{\"color\":\"rgb(246, 207, 113)\",\"dash\":\"solid\"},\"marker\":{\"symbol\":\"circle\"},\"mode\":\"lines+markers\",\"name\":\"gemma-2-2b-it\",\"r\":[8.225,7.125,4.75,3.45,2.473684210526316,2.1,6.65,6.45,8.225],\"showlegend\":true,\"subplot\":\"polar\",\"theta\":[\"Writing\",\"Roleplay\",\"Reasoning\",\"Math\",\"Coding\",\"Extraction\",\"STEM\",\"Humanities\",\"Writing\"],\"type\":\"scatterpolar\"},{\"hovertemplate\":\"model=instr_release_ultrafeedback_batch32_rejected_half_from_zamba\\u003cbr\\u003escore=%{r}\\u003cbr\\u003ecategory=%{theta}\\u003cextra\\u003e\\u003c\\u002fextra\\u003e\",\"legendgroup\":\"instr_release_ultrafeedback_batch32_rejected_half_from_zamba\",\"line\":{\"color\":\"rgb(248, 156, 116)\",\"dash\":\"solid\"},\"marker\":{\"symbol\":\"circle\"},\"mode\":\"lines+markers\",\"name\":\"instr_release_ultrafeedback_batch32_rejected_half_from_zamba\",\"r\":[8.325,7.525,6.2,6.25,3.7,5.0,9.0,9.6,8.325],\"showlegend\":true,\"subplot\":\"polar\",\"theta\":[\"Writing\",\"Roleplay\",\"Reasoning\",\"Math\",\"Coding\",\"Extraction\",\"STEM\",\"Humanities\",\"Writing\"],\"type\":\"scatterpolar\"},{\"hovertemplate\":\"model=instr_release_ultrafeedback_infinfstruct_batch32_with_actual_mix_infinstr_ultrachat_round2\\u003cbr\\u003escore=%{r}\\u003cbr\\u003ecategory=%{theta}\\u003cextra\\u003e\\u003c\\u002fextra\\u003e\",\"legendgroup\":\"instr_release_ultrafeedback_infinfstruct_batch32_with_actual_mix_infinstr_ultrachat_round2\",\"line\":{\"color\":\"rgb(220, 176, 242)\",\"dash\":\"solid\"},\"marker\":{\"symbol\":\"circle\"},\"mode\":\"lines+markers\",\"name\":\"instr_release_ultrafeedback_infinfstruct_batch32_with_actual_mix_infinstr_ultrachat_round2\",\"r\":[7.75,8.1,6.85,6.55,3.3,5.45,9.0,9.075,7.75],\"showlegend\":true,\"subplot\":\"polar\",\"theta\":[\"Writing\",\"Roleplay\",\"Reasoning\",\"Math\",\"Coding\",\"Extraction\",\"STEM\",\"Humanities\",\"Writing\"],\"type\":\"scatterpolar\"},{\"hovertemplate\":\"model=instr_release_ultrafeedback_batch32_rejected_half_from_zamba_round2\\u003cbr\\u003escore=%{r}\\u003cbr\\u003ecategory=%{theta}\\u003cextra\\u003e\\u003c\\u002fextra\\u003e\",\"legendgroup\":\"instr_release_ultrafeedback_batch32_rejected_half_from_zamba_round2\",\"line\":{\"color\":\"rgb(135, 197, 95)\",\"dash\":\"solid\"},\"marker\":{\"symbol\":\"circle\"},\"mode\":\"lines+markers\",\"name\":\"instr_release_ultrafeedback_batch32_rejected_half_from_zamba_round2\",\"r\":[7.55,7.95,6.3,6.2,3.45,5.65,8.875,9.45,7.55],\"showlegend\":true,\"subplot\":\"polar\",\"theta\":[\"Writing\",\"Roleplay\",\"Reasoning\",\"Math\",\"Coding\",\"Extraction\",\"STEM\",\"Humanities\",\"Writing\"],\"type\":\"scatterpolar\"},{\"hovertemplate\":\"model=instr_release_ultrafeedback_batch32_rejected_fully_from_zamba\\u003cbr\\u003escore=%{r}\\u003cbr\\u003ecategory=%{theta}\\u003cextra\\u003e\\u003c\\u002fextra\\u003e\",\"legendgroup\":\"instr_release_ultrafeedback_batch32_rejected_fully_from_zamba\",\"line\":{\"color\":\"rgb(158, 185, 243)\",\"dash\":\"solid\"},\"marker\":{\"symbol\":\"circle\"},\"mode\":\"lines+markers\",\"name\":\"instr_release_ultrafeedback_batch32_rejected_fully_from_zamba\",\"r\":[8.075,7.5,6.7,6.1,3.65,5.675,8.875,9.5,8.075],\"showlegend\":true,\"subplot\":\"polar\",\"theta\":[\"Writing\",\"Roleplay\",\"Reasoning\",\"Math\",\"Coding\",\"Extraction\",\"STEM\",\"Humanities\",\"Writing\"],\"type\":\"scatterpolar\"},{\"hovertemplate\":\"model=instr_release_ultrafeedback_infinfstruct_batch32_with_actual_mix_infinstr_ultrachat_round3\\u003cbr\\u003escore=%{r}\\u003cbr\\u003ecategory=%{theta}\\u003cextra\\u003e\\u003c\\u002fextra\\u003e\",\"legendgroup\":\"instr_release_ultrafeedback_infinfstruct_batch32_with_actual_mix_infinstr_ultrachat_round3\",\"line\":{\"color\":\"rgb(254, 136, 177)\",\"dash\":\"solid\"},\"marker\":{\"symbol\":\"circle\"},\"mode\":\"lines+markers\",\"name\":\"instr_release_ultrafeedback_infinfstruct_batch32_with_actual_mix_infinstr_ultrachat_round3\",\"r\":[7.6,7.9,6.4,6.6,3.05,5.4,9.2,9.125,7.6],\"showlegend\":true,\"subplot\":\"polar\",\"theta\":[\"Writing\",\"Roleplay\",\"Reasoning\",\"Math\",\"Coding\",\"Extraction\",\"STEM\",\"Humanities\",\"Writing\"],\"type\":\"scatterpolar\"},{\"hovertemplate\":\"model=instr_release_ultrafeedback_batch32_rejected_half_from_zamba_round3\\u003cbr\\u003escore=%{r}\\u003cbr\\u003ecategory=%{theta}\\u003cextra\\u003e\\u003c\\u002fextra\\u003e\",\"legendgroup\":\"instr_release_ultrafeedback_batch32_rejected_half_from_zamba_round3\",\"line\":{\"color\":\"rgb(201, 219, 116)\",\"dash\":\"solid\"},\"marker\":{\"symbol\":\"circle\"},\"mode\":\"lines+markers\",\"name\":\"instr_release_ultrafeedback_batch32_rejected_half_from_zamba_round3\",\"r\":[7.925,7.55,6.45,6.2,3.45,5.35,8.825,9.45,7.925],\"showlegend\":true,\"subplot\":\"polar\",\"theta\":[\"Writing\",\"Roleplay\",\"Reasoning\",\"Math\",\"Coding\",\"Extraction\",\"STEM\",\"Humanities\",\"Writing\"],\"type\":\"scatterpolar\"},{\"hovertemplate\":\"model=instr_release_ultrafeedback_infinfstruct_batch32_with_actual_mix_infinstr_ultrachat\\u003cbr\\u003escore=%{r}\\u003cbr\\u003ecategory=%{theta}\\u003cextra\\u003e\\u003c\\u002fextra\\u003e\",\"legendgroup\":\"instr_release_ultrafeedback_infinfstruct_batch32_with_actual_mix_infinstr_ultrachat\",\"line\":{\"color\":\"rgb(139, 224, 164)\",\"dash\":\"solid\"},\"marker\":{\"symbol\":\"circle\"},\"mode\":\"lines+markers\",\"name\":\"instr_release_ultrafeedback_infinfstruct_batch32_with_actual_mix_infinstr_ultrachat\",\"r\":[7.675,7.825,6.5,6.25,3.55,5.55,9.05,9.1,7.675],\"showlegend\":true,\"subplot\":\"polar\",\"theta\":[\"Writing\",\"Roleplay\",\"Reasoning\",\"Math\",\"Coding\",\"Extraction\",\"STEM\",\"Humanities\",\"Writing\"],\"type\":\"scatterpolar\"},{\"hovertemplate\":\"model=nstr_release_ultrafeedback_batch32_rejected_fully_from_zamba_round2\\u003cbr\\u003escore=%{r}\\u003cbr\\u003ecategory=%{theta}\\u003cextra\\u003e\\u003c\\u002fextra\\u003e\",\"legendgroup\":\"nstr_release_ultrafeedback_batch32_rejected_fully_from_zamba_round2\",\"line\":{\"color\":\"rgb(180, 151, 231)\",\"dash\":\"solid\"},\"marker\":{\"symbol\":\"circle\"},\"mode\":\"lines+markers\",\"name\":\"nstr_release_ultrafeedback_batch32_rejected_fully_from_zamba_round2\",\"r\":[8.2,7.75,6.2,5.5,3.7,5.6,8.75,9.775,8.2],\"showlegend\":true,\"subplot\":\"polar\",\"theta\":[\"Writing\",\"Roleplay\",\"Reasoning\",\"Math\",\"Coding\",\"Extraction\",\"STEM\",\"Humanities\",\"Writing\"],\"type\":\"scatterpolar\"},{\"hovertemplate\":\"model=instr_release_ultrafeedback_batch32_rejected_fully_from_zamba_round3\\u003cbr\\u003escore=%{r}\\u003cbr\\u003ecategory=%{theta}\\u003cextra\\u003e\\u003c\\u002fextra\\u003e\",\"legendgroup\":\"instr_release_ultrafeedback_batch32_rejected_fully_from_zamba_round3\",\"line\":{\"color\":\"rgb(179, 179, 179)\",\"dash\":\"solid\"},\"marker\":{\"symbol\":\"circle\"},\"mode\":\"lines+markers\",\"name\":\"instr_release_ultrafeedback_batch32_rejected_fully_from_zamba_round3\",\"r\":[8.15,7.525,6.5,5.8,3.5,5.45,8.6,9.675,8.15],\"showlegend\":true,\"subplot\":\"polar\",\"theta\":[\"Writing\",\"Roleplay\",\"Reasoning\",\"Math\",\"Coding\",\"Extraction\",\"STEM\",\"Humanities\",\"Writing\"],\"type\":\"scatterpolar\"}],                        {\"template\":{\"data\":{\"histogram2dcontour\":[{\"type\":\"histogram2dcontour\",\"colorbar\":{\"outlinewidth\":0,\"ticks\":\"\"},\"colorscale\":[[0.0,\"#0d0887\"],[0.1111111111111111,\"#46039f\"],[0.2222222222222222,\"#7201a8\"],[0.3333333333333333,\"#9c179e\"],[0.4444444444444444,\"#bd3786\"],[0.5555555555555556,\"#d8576b\"],[0.6666666666666666,\"#ed7953\"],[0.7777777777777778,\"#fb9f3a\"],[0.8888888888888888,\"#fdca26\"],[1.0,\"#f0f921\"]]}],\"choropleth\":[{\"type\":\"choropleth\",\"colorbar\":{\"outlinewidth\":0,\"ticks\":\"\"}}],\"histogram2d\":[{\"type\":\"histogram2d\",\"colorbar\":{\"outlinewidth\":0,\"ticks\":\"\"},\"colorscale\":[[0.0,\"#0d0887\"],[0.1111111111111111,\"#46039f\"],[0.2222222222222222,\"#7201a8\"],[0.3333333333333333,\"#9c179e\"],[0.4444444444444444,\"#bd3786\"],[0.5555555555555556,\"#d8576b\"],[0.6666666666666666,\"#ed7953\"],[0.7777777777777778,\"#fb9f3a\"],[0.8888888888888888,\"#fdca26\"],[1.0,\"#f0f921\"]]}],\"heatmap\":[{\"type\":\"heatmap\",\"colorbar\":{\"outlinewidth\":0,\"ticks\":\"\"},\"colorscale\":[[0.0,\"#0d0887\"],[0.1111111111111111,\"#46039f\"],[0.2222222222222222,\"#7201a8\"],[0.3333333333333333,\"#9c179e\"],[0.4444444444444444,\"#bd3786\"],[0.5555555555555556,\"#d8576b\"],[0.6666666666666666,\"#ed7953\"],[0.7777777777777778,\"#fb9f3a\"],[0.8888888888888888,\"#fdca26\"],[1.0,\"#f0f921\"]]}],\"heatmapgl\":[{\"type\":\"heatmapgl\",\"colorbar\":{\"outlinewidth\":0,\"ticks\":\"\"},\"colorscale\":[[0.0,\"#0d0887\"],[0.1111111111111111,\"#46039f\"],[0.2222222222222222,\"#7201a8\"],[0.3333333333333333,\"#9c179e\"],[0.4444444444444444,\"#bd3786\"],[0.5555555555555556,\"#d8576b\"],[0.6666666666666666,\"#ed7953\"],[0.7777777777777778,\"#fb9f3a\"],[0.8888888888888888,\"#fdca26\"],[1.0,\"#f0f921\"]]}],\"contourcarpet\":[{\"type\":\"contourcarpet\",\"colorbar\":{\"outlinewidth\":0,\"ticks\":\"\"}}],\"contour\":[{\"type\":\"contour\",\"colorbar\":{\"outlinewidth\":0,\"ticks\":\"\"},\"colorscale\":[[0.0,\"#0d0887\"],[0.1111111111111111,\"#46039f\"],[0.2222222222222222,\"#7201a8\"],[0.3333333333333333,\"#9c179e\"],[0.4444444444444444,\"#bd3786\"],[0.5555555555555556,\"#d8576b\"],[0.6666666666666666,\"#ed7953\"],[0.7777777777777778,\"#fb9f3a\"],[0.8888888888888888,\"#fdca26\"],[1.0,\"#f0f921\"]]}],\"surface\":[{\"type\":\"surface\",\"colorbar\":{\"outlinewidth\":0,\"ticks\":\"\"},\"colorscale\":[[0.0,\"#0d0887\"],[0.1111111111111111,\"#46039f\"],[0.2222222222222222,\"#7201a8\"],[0.3333333333333333,\"#9c179e\"],[0.4444444444444444,\"#bd3786\"],[0.5555555555555556,\"#d8576b\"],[0.6666666666666666,\"#ed7953\"],[0.7777777777777778,\"#fb9f3a\"],[0.8888888888888888,\"#fdca26\"],[1.0,\"#f0f921\"]]}],\"mesh3d\":[{\"type\":\"mesh3d\",\"colorbar\":{\"outlinewidth\":0,\"ticks\":\"\"}}],\"scatter\":[{\"fillpattern\":{\"fillmode\":\"overlay\",\"size\":10,\"solidity\":0.2},\"type\":\"scatter\"}],\"parcoords\":[{\"type\":\"parcoords\",\"line\":{\"colorbar\":{\"outlinewidth\":0,\"ticks\":\"\"}}}],\"scatterpolargl\":[{\"type\":\"scatterpolargl\",\"marker\":{\"colorbar\":{\"outlinewidth\":0,\"ticks\":\"\"}}}],\"bar\":[{\"error_x\":{\"color\":\"#2a3f5f\"},\"error_y\":{\"color\":\"#2a3f5f\"},\"marker\":{\"line\":{\"color\":\"#E5ECF6\",\"width\":0.5},\"pattern\":{\"fillmode\":\"overlay\",\"size\":10,\"solidity\":0.2}},\"type\":\"bar\"}],\"scattergeo\":[{\"type\":\"scattergeo\",\"marker\":{\"colorbar\":{\"outlinewidth\":0,\"ticks\":\"\"}}}],\"scatterpolar\":[{\"type\":\"scatterpolar\",\"marker\":{\"colorbar\":{\"outlinewidth\":0,\"ticks\":\"\"}}}],\"histogram\":[{\"marker\":{\"pattern\":{\"fillmode\":\"overlay\",\"size\":10,\"solidity\":0.2}},\"type\":\"histogram\"}],\"scattergl\":[{\"type\":\"scattergl\",\"marker\":{\"colorbar\":{\"outlinewidth\":0,\"ticks\":\"\"}}}],\"scatter3d\":[{\"type\":\"scatter3d\",\"line\":{\"colorbar\":{\"outlinewidth\":0,\"ticks\":\"\"}},\"marker\":{\"colorbar\":{\"outlinewidth\":0,\"ticks\":\"\"}}}],\"scattermapbox\":[{\"type\":\"scattermapbox\",\"marker\":{\"colorbar\":{\"outlinewidth\":0,\"ticks\":\"\"}}}],\"scatterternary\":[{\"type\":\"scatterternary\",\"marker\":{\"colorbar\":{\"outlinewidth\":0,\"ticks\":\"\"}}}],\"scattercarpet\":[{\"type\":\"scattercarpet\",\"marker\":{\"colorbar\":{\"outlinewidth\":0,\"ticks\":\"\"}}}],\"carpet\":[{\"aaxis\":{\"endlinecolor\":\"#2a3f5f\",\"gridcolor\":\"white\",\"linecolor\":\"white\",\"minorgridcolor\":\"white\",\"startlinecolor\":\"#2a3f5f\"},\"baxis\":{\"endlinecolor\":\"#2a3f5f\",\"gridcolor\":\"white\",\"linecolor\":\"white\",\"minorgridcolor\":\"white\",\"startlinecolor\":\"#2a3f5f\"},\"type\":\"carpet\"}],\"table\":[{\"cells\":{\"fill\":{\"color\":\"#EBF0F8\"},\"line\":{\"color\":\"white\"}},\"header\":{\"fill\":{\"color\":\"#C8D4E3\"},\"line\":{\"color\":\"white\"}},\"type\":\"table\"}],\"barpolar\":[{\"marker\":{\"line\":{\"color\":\"#E5ECF6\",\"width\":0.5},\"pattern\":{\"fillmode\":\"overlay\",\"size\":10,\"solidity\":0.2}},\"type\":\"barpolar\"}],\"pie\":[{\"automargin\":true,\"type\":\"pie\"}]},\"layout\":{\"autotypenumbers\":\"strict\",\"colorway\":[\"#636efa\",\"#EF553B\",\"#00cc96\",\"#ab63fa\",\"#FFA15A\",\"#19d3f3\",\"#FF6692\",\"#B6E880\",\"#FF97FF\",\"#FECB52\"],\"font\":{\"color\":\"#2a3f5f\"},\"hovermode\":\"closest\",\"hoverlabel\":{\"align\":\"left\"},\"paper_bgcolor\":\"white\",\"plot_bgcolor\":\"#E5ECF6\",\"polar\":{\"bgcolor\":\"#E5ECF6\",\"angularaxis\":{\"gridcolor\":\"white\",\"linecolor\":\"white\",\"ticks\":\"\"},\"radialaxis\":{\"gridcolor\":\"white\",\"linecolor\":\"white\",\"ticks\":\"\"}},\"ternary\":{\"bgcolor\":\"#E5ECF6\",\"aaxis\":{\"gridcolor\":\"white\",\"linecolor\":\"white\",\"ticks\":\"\"},\"baxis\":{\"gridcolor\":\"white\",\"linecolor\":\"white\",\"ticks\":\"\"},\"caxis\":{\"gridcolor\":\"white\",\"linecolor\":\"white\",\"ticks\":\"\"}},\"coloraxis\":{\"colorbar\":{\"outlinewidth\":0,\"ticks\":\"\"}},\"colorscale\":{\"sequential\":[[0.0,\"#0d0887\"],[0.1111111111111111,\"#46039f\"],[0.2222222222222222,\"#7201a8\"],[0.3333333333333333,\"#9c179e\"],[0.4444444444444444,\"#bd3786\"],[0.5555555555555556,\"#d8576b\"],[0.6666666666666666,\"#ed7953\"],[0.7777777777777778,\"#fb9f3a\"],[0.8888888888888888,\"#fdca26\"],[1.0,\"#f0f921\"]],\"sequentialminus\":[[0.0,\"#0d0887\"],[0.1111111111111111,\"#46039f\"],[0.2222222222222222,\"#7201a8\"],[0.3333333333333333,\"#9c179e\"],[0.4444444444444444,\"#bd3786\"],[0.5555555555555556,\"#d8576b\"],[0.6666666666666666,\"#ed7953\"],[0.7777777777777778,\"#fb9f3a\"],[0.8888888888888888,\"#fdca26\"],[1.0,\"#f0f921\"]],\"diverging\":[[0,\"#8e0152\"],[0.1,\"#c51b7d\"],[0.2,\"#de77ae\"],[0.3,\"#f1b6da\"],[0.4,\"#fde0ef\"],[0.5,\"#f7f7f7\"],[0.6,\"#e6f5d0\"],[0.7,\"#b8e186\"],[0.8,\"#7fbc41\"],[0.9,\"#4d9221\"],[1,\"#276419\"]]},\"xaxis\":{\"gridcolor\":\"white\",\"linecolor\":\"white\",\"ticks\":\"\",\"title\":{\"standoff\":15},\"zerolinecolor\":\"white\",\"automargin\":true,\"zerolinewidth\":2},\"yaxis\":{\"gridcolor\":\"white\",\"linecolor\":\"white\",\"ticks\":\"\",\"title\":{\"standoff\":15},\"zerolinecolor\":\"white\",\"automargin\":true,\"zerolinewidth\":2},\"scene\":{\"xaxis\":{\"backgroundcolor\":\"#E5ECF6\",\"gridcolor\":\"white\",\"linecolor\":\"white\",\"showbackground\":true,\"ticks\":\"\",\"zerolinecolor\":\"white\",\"gridwidth\":2},\"yaxis\":{\"backgroundcolor\":\"#E5ECF6\",\"gridcolor\":\"white\",\"linecolor\":\"white\",\"showbackground\":true,\"ticks\":\"\",\"zerolinecolor\":\"white\",\"gridwidth\":2},\"zaxis\":{\"backgroundcolor\":\"#E5ECF6\",\"gridcolor\":\"white\",\"linecolor\":\"white\",\"showbackground\":true,\"ticks\":\"\",\"zerolinecolor\":\"white\",\"gridwidth\":2}},\"shapedefaults\":{\"line\":{\"color\":\"#2a3f5f\"}},\"annotationdefaults\":{\"arrowcolor\":\"#2a3f5f\",\"arrowhead\":0,\"arrowwidth\":1},\"geo\":{\"bgcolor\":\"white\",\"landcolor\":\"#E5ECF6\",\"subunitcolor\":\"white\",\"showland\":true,\"showlakes\":true,\"lakecolor\":\"white\"},\"title\":{\"x\":0.05},\"mapbox\":{\"style\":\"light\"}}},\"polar\":{\"domain\":{\"x\":[0.0,1.0],\"y\":[0.0,1.0]},\"angularaxis\":{\"direction\":\"clockwise\",\"rotation\":90,\"categoryorder\":\"array\",\"categoryarray\":[\"Writing\",\"Roleplay\",\"Reasoning\",\"Math\",\"Coding\",\"Extraction\",\"STEM\",\"Humanities\"]}},\"legend\":{\"title\":{\"text\":\"model\"},\"tracegroupgap\":0},\"margin\":{\"t\":60}},                        {\"responsive\": true}                    ).then(function(){\n",
              "                            \n",
              "var gd = document.getElementById('7adf8659-516c-4b97-8894-767a7fb93b3b');\n",
              "var x = new MutationObserver(function (mutations, observer) {{\n",
              "        var display = window.getComputedStyle(gd).display;\n",
              "        if (!display || display === 'none') {{\n",
              "            console.log([gd, 'removed!']);\n",
              "            Plotly.purge(gd);\n",
              "            observer.disconnect();\n",
              "        }}\n",
              "}});\n",
              "\n",
              "// Listen for the removal of the full notebook cells\n",
              "var notebookContainer = gd.closest('#notebook-container');\n",
              "if (notebookContainer) {{\n",
              "    x.observe(notebookContainer, {childList: true});\n",
              "}}\n",
              "\n",
              "// Listen for the clearing of the current output cell\n",
              "var outputEl = gd.closest('.output');\n",
              "if (outputEl) {{\n",
              "    x.observe(outputEl, {childList: true});\n",
              "}}\n",
              "\n",
              "                        })                };                });            </script>        </div>"
            ]
          },
          "metadata": {},
          "output_type": "display_data"
        },
        {
          "data": {
            "application/vnd.plotly.v1+json": {
              "config": {
                "plotlyServerURL": "https://plot.ly"
              },
              "data": [
                {
                  "hovertemplate": "model=h2oai_h2o-danube2-1.8b-chat<br>score=%{r}<br>category=%{theta}<extra></extra>",
                  "legendgroup": "h2oai_h2o-danube2-1.8b-chat",
                  "line": {
                    "color": "rgb(102, 197, 204)",
                    "dash": "solid"
                  },
                  "marker": {
                    "symbol": "circle"
                  },
                  "mode": "lines+markers",
                  "name": "h2oai_h2o-danube2-1.8b-chat",
                  "r": [
                    7.1,
                    6.175,
                    3.2,
                    2.95,
                    2.4,
                    2.85,
                    6.05,
                    9.1,
                    7.1
                  ],
                  "showlegend": true,
                  "subplot": "polar",
                  "theta": [
                    "Writing",
                    "Roleplay",
                    "Reasoning",
                    "Math",
                    "Coding",
                    "Extraction",
                    "STEM",
                    "Humanities",
                    "Writing"
                  ],
                  "type": "scatterpolar"
                },
                {
                  "hovertemplate": "model=stabilityai_stablelm-zephyr-3b<br>score=%{r}<br>category=%{theta}<extra></extra>",
                  "legendgroup": "stabilityai_stablelm-zephyr-3b",
                  "line": {
                    "color": "rgb(246, 207, 113)",
                    "dash": "solid"
                  },
                  "marker": {
                    "symbol": "circle"
                  },
                  "mode": "lines+markers",
                  "name": "stabilityai_stablelm-zephyr-3b",
                  "r": [
                    7.6,
                    7,
                    3.3,
                    3.5,
                    5.05,
                    5.05,
                    7.175,
                    8.725,
                    7.6
                  ],
                  "showlegend": true,
                  "subplot": "polar",
                  "theta": [
                    "Writing",
                    "Roleplay",
                    "Reasoning",
                    "Math",
                    "Coding",
                    "Extraction",
                    "STEM",
                    "Humanities",
                    "Writing"
                  ],
                  "type": "scatterpolar"
                },
                {
                  "hovertemplate": "model=h2oai_h2o-danube3-4b-chat<br>score=%{r}<br>category=%{theta}<extra></extra>",
                  "legendgroup": "h2oai_h2o-danube3-4b-chat",
                  "line": {
                    "color": "rgb(248, 156, 116)",
                    "dash": "solid"
                  },
                  "marker": {
                    "symbol": "circle"
                  },
                  "mode": "lines+markers",
                  "name": "h2oai_h2o-danube3-4b-chat",
                  "r": [
                    6.2,
                    6.15,
                    5.4,
                    3.8,
                    3.55,
                    4.6,
                    6.5,
                    5.894736842105263,
                    6.2
                  ],
                  "showlegend": true,
                  "subplot": "polar",
                  "theta": [
                    "Writing",
                    "Roleplay",
                    "Reasoning",
                    "Math",
                    "Coding",
                    "Extraction",
                    "STEM",
                    "Humanities",
                    "Writing"
                  ],
                  "type": "scatterpolar"
                },
                {
                  "hovertemplate": "model=microsoft_Phi-3.5-mini-instruct<br>score=%{r}<br>category=%{theta}<extra></extra>",
                  "legendgroup": "microsoft_Phi-3.5-mini-instruct",
                  "line": {
                    "color": "rgb(220, 176, 242)",
                    "dash": "solid"
                  },
                  "marker": {
                    "symbol": "circle"
                  },
                  "mode": "lines+markers",
                  "name": "microsoft_Phi-3.5-mini-instruct",
                  "r": [
                    9.55,
                    9.2,
                    6.8,
                    6.2,
                    7.55,
                    8.68421052631579,
                    9.8,
                    9.85,
                    9.55
                  ],
                  "showlegend": true,
                  "subplot": "polar",
                  "theta": [
                    "Writing",
                    "Roleplay",
                    "Reasoning",
                    "Math",
                    "Coding",
                    "Extraction",
                    "STEM",
                    "Humanities",
                    "Writing"
                  ],
                  "type": "scatterpolar"
                },
                {
                  "hovertemplate": "model=stabilityai_stablelm-2-1_6b-chat<br>score=%{r}<br>category=%{theta}<extra></extra>",
                  "legendgroup": "stabilityai_stablelm-2-1_6b-chat",
                  "line": {
                    "color": "rgb(135, 197, 95)",
                    "dash": "solid"
                  },
                  "marker": {
                    "symbol": "circle"
                  },
                  "mode": "lines+markers",
                  "name": "stabilityai_stablelm-2-1_6b-chat",
                  "r": [
                    6.2,
                    6.55,
                    3.7,
                    2.7,
                    2.9,
                    4,
                    6.55,
                    7.3,
                    6.2
                  ],
                  "showlegend": true,
                  "subplot": "polar",
                  "theta": [
                    "Writing",
                    "Roleplay",
                    "Reasoning",
                    "Math",
                    "Coding",
                    "Extraction",
                    "STEM",
                    "Humanities",
                    "Writing"
                  ],
                  "type": "scatterpolar"
                },
                {
                  "hovertemplate": "model=Qwen_Qwen2-1.5B-Instruct<br>score=%{r}<br>category=%{theta}<extra></extra>",
                  "legendgroup": "Qwen_Qwen2-1.5B-Instruct",
                  "line": {
                    "color": "rgb(158, 185, 243)",
                    "dash": "solid"
                  },
                  "marker": {
                    "symbol": "circle"
                  },
                  "mode": "lines+markers",
                  "name": "Qwen_Qwen2-1.5B-Instruct",
                  "r": [
                    1,
                    1,
                    1,
                    1,
                    1,
                    1,
                    1,
                    1,
                    1
                  ],
                  "showlegend": true,
                  "subplot": "polar",
                  "theta": [
                    "Writing",
                    "Roleplay",
                    "Reasoning",
                    "Math",
                    "Coding",
                    "Extraction",
                    "STEM",
                    "Humanities",
                    "Writing"
                  ],
                  "type": "scatterpolar"
                },
                {
                  "hovertemplate": "model=microsoft_Phi-3-mini-4k-instruct<br>score=%{r}<br>category=%{theta}<extra></extra>",
                  "legendgroup": "microsoft_Phi-3-mini-4k-instruct",
                  "line": {
                    "color": "rgb(254, 136, 177)",
                    "dash": "solid"
                  },
                  "marker": {
                    "symbol": "circle"
                  },
                  "mode": "lines+markers",
                  "name": "microsoft_Phi-3-mini-4k-instruct",
                  "r": [
                    9.6,
                    8.525,
                    6.75,
                    7.1,
                    5.95,
                    7.65,
                    9.1,
                    9.65,
                    9.6
                  ],
                  "showlegend": true,
                  "subplot": "polar",
                  "theta": [
                    "Writing",
                    "Roleplay",
                    "Reasoning",
                    "Math",
                    "Coding",
                    "Extraction",
                    "STEM",
                    "Humanities",
                    "Writing"
                  ],
                  "type": "scatterpolar"
                },
                {
                  "hovertemplate": "model=HuggingFaceTB_SmolLM-1.7B-Instruct<br>score=%{r}<br>category=%{theta}<extra></extra>",
                  "legendgroup": "HuggingFaceTB_SmolLM-1.7B-Instruct",
                  "line": {
                    "color": "rgb(201, 219, 116)",
                    "dash": "solid"
                  },
                  "marker": {
                    "symbol": "circle"
                  },
                  "mode": "lines+markers",
                  "name": "HuggingFaceTB_SmolLM-1.7B-Instruct",
                  "r": [
                    5.1,
                    5.7,
                    2.75,
                    1.6,
                    2.85,
                    2.4,
                    6.8,
                    7.5,
                    5.1
                  ],
                  "showlegend": true,
                  "subplot": "polar",
                  "theta": [
                    "Writing",
                    "Roleplay",
                    "Reasoning",
                    "Math",
                    "Coding",
                    "Extraction",
                    "STEM",
                    "Humanities",
                    "Writing"
                  ],
                  "type": "scatterpolar"
                },
                {
                  "hovertemplate": "model=ultrafeedback_openhermespref_orcadoppairs_1epoch_then_2epochs_then_1epoch<br>score=%{r}<br>category=%{theta}<extra></extra>",
                  "legendgroup": "ultrafeedback_openhermespref_orcadoppairs_1epoch_then_2epochs_then_1epoch",
                  "line": {
                    "color": "rgb(139, 224, 164)",
                    "dash": "solid"
                  },
                  "marker": {
                    "symbol": "circle"
                  },
                  "mode": "lines+markers",
                  "name": "ultrafeedback_openhermespref_orcadoppairs_1epoch_then_2epochs_then_1epoch",
                  "r": [
                    6.6,
                    7.95,
                    6.7,
                    6.6,
                    3.3,
                    5.5,
                    9,
                    9.325,
                    6.6
                  ],
                  "showlegend": true,
                  "subplot": "polar",
                  "theta": [
                    "Writing",
                    "Roleplay",
                    "Reasoning",
                    "Math",
                    "Coding",
                    "Extraction",
                    "STEM",
                    "Humanities",
                    "Writing"
                  ],
                  "type": "scatterpolar"
                },
                {
                  "hovertemplate": "model=ultrafeedback_openhermespref_orcadoppairs_1epoch_then_2epochs<br>score=%{r}<br>category=%{theta}<extra></extra>",
                  "legendgroup": "ultrafeedback_openhermespref_orcadoppairs_1epoch_then_2epochs",
                  "line": {
                    "color": "rgb(180, 151, 231)",
                    "dash": "solid"
                  },
                  "marker": {
                    "symbol": "circle"
                  },
                  "mode": "lines+markers",
                  "name": "ultrafeedback_openhermespref_orcadoppairs_1epoch_then_2epochs",
                  "r": [
                    8.8,
                    8.2,
                    6.35,
                    6.75,
                    3.35,
                    6,
                    9.2,
                    9.325,
                    8.8
                  ],
                  "showlegend": true,
                  "subplot": "polar",
                  "theta": [
                    "Writing",
                    "Roleplay",
                    "Reasoning",
                    "Math",
                    "Coding",
                    "Extraction",
                    "STEM",
                    "Humanities",
                    "Writing"
                  ],
                  "type": "scatterpolar"
                },
                {
                  "hovertemplate": "model=ultrafeedback_openhermespref_orcadoppairs_1epoch<br>score=%{r}<br>category=%{theta}<extra></extra>",
                  "legendgroup": "ultrafeedback_openhermespref_orcadoppairs_1epoch",
                  "line": {
                    "color": "rgb(179, 179, 179)",
                    "dash": "solid"
                  },
                  "marker": {
                    "symbol": "circle"
                  },
                  "mode": "lines+markers",
                  "name": "ultrafeedback_openhermespref_orcadoppairs_1epoch",
                  "r": [
                    7.45,
                    7.9,
                    6.4,
                    6.05,
                    3.4,
                    5.45,
                    8.975,
                    9.175,
                    7.45
                  ],
                  "showlegend": true,
                  "subplot": "polar",
                  "theta": [
                    "Writing",
                    "Roleplay",
                    "Reasoning",
                    "Math",
                    "Coding",
                    "Extraction",
                    "STEM",
                    "Humanities",
                    "Writing"
                  ],
                  "type": "scatterpolar"
                },
                {
                  "hovertemplate": "model=ultrafeedback_openhermespref_orcadoppairs_4epochs<br>score=%{r}<br>category=%{theta}<extra></extra>",
                  "legendgroup": "ultrafeedback_openhermespref_orcadoppairs_4epochs",
                  "line": {
                    "color": "rgb(102, 197, 204)",
                    "dash": "solid"
                  },
                  "marker": {
                    "symbol": "circle"
                  },
                  "mode": "lines+markers",
                  "name": "ultrafeedback_openhermespref_orcadoppairs_4epochs",
                  "r": [
                    7.9,
                    7.375,
                    6.35,
                    6.05,
                    3.95,
                    5.95,
                    9.3,
                    9.1,
                    7.9
                  ],
                  "showlegend": true,
                  "subplot": "polar",
                  "theta": [
                    "Writing",
                    "Roleplay",
                    "Reasoning",
                    "Math",
                    "Coding",
                    "Extraction",
                    "STEM",
                    "Humanities",
                    "Writing"
                  ],
                  "type": "scatterpolar"
                },
                {
                  "hovertemplate": "model=gemma-2-2b-it<br>score=%{r}<br>category=%{theta}<extra></extra>",
                  "legendgroup": "gemma-2-2b-it",
                  "line": {
                    "color": "rgb(246, 207, 113)",
                    "dash": "solid"
                  },
                  "marker": {
                    "symbol": "circle"
                  },
                  "mode": "lines+markers",
                  "name": "gemma-2-2b-it",
                  "r": [
                    8.225,
                    7.125,
                    4.75,
                    3.45,
                    2.473684210526316,
                    2.1,
                    6.65,
                    6.45,
                    8.225
                  ],
                  "showlegend": true,
                  "subplot": "polar",
                  "theta": [
                    "Writing",
                    "Roleplay",
                    "Reasoning",
                    "Math",
                    "Coding",
                    "Extraction",
                    "STEM",
                    "Humanities",
                    "Writing"
                  ],
                  "type": "scatterpolar"
                },
                {
                  "hovertemplate": "model=instr_release_ultrafeedback_batch32_rejected_half_from_zamba<br>score=%{r}<br>category=%{theta}<extra></extra>",
                  "legendgroup": "instr_release_ultrafeedback_batch32_rejected_half_from_zamba",
                  "line": {
                    "color": "rgb(248, 156, 116)",
                    "dash": "solid"
                  },
                  "marker": {
                    "symbol": "circle"
                  },
                  "mode": "lines+markers",
                  "name": "instr_release_ultrafeedback_batch32_rejected_half_from_zamba",
                  "r": [
                    8.325,
                    7.525,
                    6.2,
                    6.25,
                    3.7,
                    5,
                    9,
                    9.6,
                    8.325
                  ],
                  "showlegend": true,
                  "subplot": "polar",
                  "theta": [
                    "Writing",
                    "Roleplay",
                    "Reasoning",
                    "Math",
                    "Coding",
                    "Extraction",
                    "STEM",
                    "Humanities",
                    "Writing"
                  ],
                  "type": "scatterpolar"
                },
                {
                  "hovertemplate": "model=instr_release_ultrafeedback_infinfstruct_batch32_with_actual_mix_infinstr_ultrachat_round2<br>score=%{r}<br>category=%{theta}<extra></extra>",
                  "legendgroup": "instr_release_ultrafeedback_infinfstruct_batch32_with_actual_mix_infinstr_ultrachat_round2",
                  "line": {
                    "color": "rgb(220, 176, 242)",
                    "dash": "solid"
                  },
                  "marker": {
                    "symbol": "circle"
                  },
                  "mode": "lines+markers",
                  "name": "instr_release_ultrafeedback_infinfstruct_batch32_with_actual_mix_infinstr_ultrachat_round2",
                  "r": [
                    7.75,
                    8.1,
                    6.85,
                    6.55,
                    3.3,
                    5.45,
                    9,
                    9.075,
                    7.75
                  ],
                  "showlegend": true,
                  "subplot": "polar",
                  "theta": [
                    "Writing",
                    "Roleplay",
                    "Reasoning",
                    "Math",
                    "Coding",
                    "Extraction",
                    "STEM",
                    "Humanities",
                    "Writing"
                  ],
                  "type": "scatterpolar"
                },
                {
                  "hovertemplate": "model=instr_release_ultrafeedback_batch32_rejected_half_from_zamba_round2<br>score=%{r}<br>category=%{theta}<extra></extra>",
                  "legendgroup": "instr_release_ultrafeedback_batch32_rejected_half_from_zamba_round2",
                  "line": {
                    "color": "rgb(135, 197, 95)",
                    "dash": "solid"
                  },
                  "marker": {
                    "symbol": "circle"
                  },
                  "mode": "lines+markers",
                  "name": "instr_release_ultrafeedback_batch32_rejected_half_from_zamba_round2",
                  "r": [
                    7.55,
                    7.95,
                    6.3,
                    6.2,
                    3.45,
                    5.65,
                    8.875,
                    9.45,
                    7.55
                  ],
                  "showlegend": true,
                  "subplot": "polar",
                  "theta": [
                    "Writing",
                    "Roleplay",
                    "Reasoning",
                    "Math",
                    "Coding",
                    "Extraction",
                    "STEM",
                    "Humanities",
                    "Writing"
                  ],
                  "type": "scatterpolar"
                },
                {
                  "hovertemplate": "model=instr_release_ultrafeedback_batch32_rejected_fully_from_zamba<br>score=%{r}<br>category=%{theta}<extra></extra>",
                  "legendgroup": "instr_release_ultrafeedback_batch32_rejected_fully_from_zamba",
                  "line": {
                    "color": "rgb(158, 185, 243)",
                    "dash": "solid"
                  },
                  "marker": {
                    "symbol": "circle"
                  },
                  "mode": "lines+markers",
                  "name": "instr_release_ultrafeedback_batch32_rejected_fully_from_zamba",
                  "r": [
                    8.075,
                    7.5,
                    6.7,
                    6.1,
                    3.65,
                    5.675,
                    8.875,
                    9.5,
                    8.075
                  ],
                  "showlegend": true,
                  "subplot": "polar",
                  "theta": [
                    "Writing",
                    "Roleplay",
                    "Reasoning",
                    "Math",
                    "Coding",
                    "Extraction",
                    "STEM",
                    "Humanities",
                    "Writing"
                  ],
                  "type": "scatterpolar"
                },
                {
                  "hovertemplate": "model=instr_release_ultrafeedback_infinfstruct_batch32_with_actual_mix_infinstr_ultrachat_round3<br>score=%{r}<br>category=%{theta}<extra></extra>",
                  "legendgroup": "instr_release_ultrafeedback_infinfstruct_batch32_with_actual_mix_infinstr_ultrachat_round3",
                  "line": {
                    "color": "rgb(254, 136, 177)",
                    "dash": "solid"
                  },
                  "marker": {
                    "symbol": "circle"
                  },
                  "mode": "lines+markers",
                  "name": "instr_release_ultrafeedback_infinfstruct_batch32_with_actual_mix_infinstr_ultrachat_round3",
                  "r": [
                    7.6,
                    7.9,
                    6.4,
                    6.6,
                    3.05,
                    5.4,
                    9.2,
                    9.125,
                    7.6
                  ],
                  "showlegend": true,
                  "subplot": "polar",
                  "theta": [
                    "Writing",
                    "Roleplay",
                    "Reasoning",
                    "Math",
                    "Coding",
                    "Extraction",
                    "STEM",
                    "Humanities",
                    "Writing"
                  ],
                  "type": "scatterpolar"
                },
                {
                  "hovertemplate": "model=instr_release_ultrafeedback_batch32_rejected_half_from_zamba_round3<br>score=%{r}<br>category=%{theta}<extra></extra>",
                  "legendgroup": "instr_release_ultrafeedback_batch32_rejected_half_from_zamba_round3",
                  "line": {
                    "color": "rgb(201, 219, 116)",
                    "dash": "solid"
                  },
                  "marker": {
                    "symbol": "circle"
                  },
                  "mode": "lines+markers",
                  "name": "instr_release_ultrafeedback_batch32_rejected_half_from_zamba_round3",
                  "r": [
                    7.925,
                    7.55,
                    6.45,
                    6.2,
                    3.45,
                    5.35,
                    8.825,
                    9.45,
                    7.925
                  ],
                  "showlegend": true,
                  "subplot": "polar",
                  "theta": [
                    "Writing",
                    "Roleplay",
                    "Reasoning",
                    "Math",
                    "Coding",
                    "Extraction",
                    "STEM",
                    "Humanities",
                    "Writing"
                  ],
                  "type": "scatterpolar"
                },
                {
                  "hovertemplate": "model=instr_release_ultrafeedback_infinfstruct_batch32_with_actual_mix_infinstr_ultrachat<br>score=%{r}<br>category=%{theta}<extra></extra>",
                  "legendgroup": "instr_release_ultrafeedback_infinfstruct_batch32_with_actual_mix_infinstr_ultrachat",
                  "line": {
                    "color": "rgb(139, 224, 164)",
                    "dash": "solid"
                  },
                  "marker": {
                    "symbol": "circle"
                  },
                  "mode": "lines+markers",
                  "name": "instr_release_ultrafeedback_infinfstruct_batch32_with_actual_mix_infinstr_ultrachat",
                  "r": [
                    7.675,
                    7.825,
                    6.5,
                    6.25,
                    3.55,
                    5.55,
                    9.05,
                    9.1,
                    7.675
                  ],
                  "showlegend": true,
                  "subplot": "polar",
                  "theta": [
                    "Writing",
                    "Roleplay",
                    "Reasoning",
                    "Math",
                    "Coding",
                    "Extraction",
                    "STEM",
                    "Humanities",
                    "Writing"
                  ],
                  "type": "scatterpolar"
                },
                {
                  "hovertemplate": "model=nstr_release_ultrafeedback_batch32_rejected_fully_from_zamba_round2<br>score=%{r}<br>category=%{theta}<extra></extra>",
                  "legendgroup": "nstr_release_ultrafeedback_batch32_rejected_fully_from_zamba_round2",
                  "line": {
                    "color": "rgb(180, 151, 231)",
                    "dash": "solid"
                  },
                  "marker": {
                    "symbol": "circle"
                  },
                  "mode": "lines+markers",
                  "name": "nstr_release_ultrafeedback_batch32_rejected_fully_from_zamba_round2",
                  "r": [
                    8.2,
                    7.75,
                    6.2,
                    5.5,
                    3.7,
                    5.6,
                    8.75,
                    9.775,
                    8.2
                  ],
                  "showlegend": true,
                  "subplot": "polar",
                  "theta": [
                    "Writing",
                    "Roleplay",
                    "Reasoning",
                    "Math",
                    "Coding",
                    "Extraction",
                    "STEM",
                    "Humanities",
                    "Writing"
                  ],
                  "type": "scatterpolar"
                },
                {
                  "hovertemplate": "model=instr_release_ultrafeedback_batch32_rejected_fully_from_zamba_round3<br>score=%{r}<br>category=%{theta}<extra></extra>",
                  "legendgroup": "instr_release_ultrafeedback_batch32_rejected_fully_from_zamba_round3",
                  "line": {
                    "color": "rgb(179, 179, 179)",
                    "dash": "solid"
                  },
                  "marker": {
                    "symbol": "circle"
                  },
                  "mode": "lines+markers",
                  "name": "instr_release_ultrafeedback_batch32_rejected_fully_from_zamba_round3",
                  "r": [
                    8.15,
                    7.525,
                    6.5,
                    5.8,
                    3.5,
                    5.45,
                    8.6,
                    9.675,
                    8.15
                  ],
                  "showlegend": true,
                  "subplot": "polar",
                  "theta": [
                    "Writing",
                    "Roleplay",
                    "Reasoning",
                    "Math",
                    "Coding",
                    "Extraction",
                    "STEM",
                    "Humanities",
                    "Writing"
                  ],
                  "type": "scatterpolar"
                }
              ],
              "layout": {
                "legend": {
                  "title": {
                    "text": "model"
                  },
                  "tracegroupgap": 0
                },
                "margin": {
                  "t": 60
                },
                "polar": {
                  "angularaxis": {
                    "categoryarray": [
                      "Writing",
                      "Roleplay",
                      "Reasoning",
                      "Math",
                      "Coding",
                      "Extraction",
                      "STEM",
                      "Humanities"
                    ],
                    "categoryorder": "array",
                    "direction": "clockwise",
                    "rotation": 90
                  },
                  "domain": {
                    "x": [
                      0,
                      1
                    ],
                    "y": [
                      0,
                      1
                    ]
                  }
                },
                "template": {
                  "data": {
                    "bar": [
                      {
                        "error_x": {
                          "color": "#2a3f5f"
                        },
                        "error_y": {
                          "color": "#2a3f5f"
                        },
                        "marker": {
                          "line": {
                            "color": "#E5ECF6",
                            "width": 0.5
                          },
                          "pattern": {
                            "fillmode": "overlay",
                            "size": 10,
                            "solidity": 0.2
                          }
                        },
                        "type": "bar"
                      }
                    ],
                    "barpolar": [
                      {
                        "marker": {
                          "line": {
                            "color": "#E5ECF6",
                            "width": 0.5
                          },
                          "pattern": {
                            "fillmode": "overlay",
                            "size": 10,
                            "solidity": 0.2
                          }
                        },
                        "type": "barpolar"
                      }
                    ],
                    "carpet": [
                      {
                        "aaxis": {
                          "endlinecolor": "#2a3f5f",
                          "gridcolor": "white",
                          "linecolor": "white",
                          "minorgridcolor": "white",
                          "startlinecolor": "#2a3f5f"
                        },
                        "baxis": {
                          "endlinecolor": "#2a3f5f",
                          "gridcolor": "white",
                          "linecolor": "white",
                          "minorgridcolor": "white",
                          "startlinecolor": "#2a3f5f"
                        },
                        "type": "carpet"
                      }
                    ],
                    "choropleth": [
                      {
                        "colorbar": {
                          "outlinewidth": 0,
                          "ticks": ""
                        },
                        "type": "choropleth"
                      }
                    ],
                    "contour": [
                      {
                        "colorbar": {
                          "outlinewidth": 0,
                          "ticks": ""
                        },
                        "colorscale": [
                          [
                            0,
                            "#0d0887"
                          ],
                          [
                            0.1111111111111111,
                            "#46039f"
                          ],
                          [
                            0.2222222222222222,
                            "#7201a8"
                          ],
                          [
                            0.3333333333333333,
                            "#9c179e"
                          ],
                          [
                            0.4444444444444444,
                            "#bd3786"
                          ],
                          [
                            0.5555555555555556,
                            "#d8576b"
                          ],
                          [
                            0.6666666666666666,
                            "#ed7953"
                          ],
                          [
                            0.7777777777777778,
                            "#fb9f3a"
                          ],
                          [
                            0.8888888888888888,
                            "#fdca26"
                          ],
                          [
                            1,
                            "#f0f921"
                          ]
                        ],
                        "type": "contour"
                      }
                    ],
                    "contourcarpet": [
                      {
                        "colorbar": {
                          "outlinewidth": 0,
                          "ticks": ""
                        },
                        "type": "contourcarpet"
                      }
                    ],
                    "heatmap": [
                      {
                        "colorbar": {
                          "outlinewidth": 0,
                          "ticks": ""
                        },
                        "colorscale": [
                          [
                            0,
                            "#0d0887"
                          ],
                          [
                            0.1111111111111111,
                            "#46039f"
                          ],
                          [
                            0.2222222222222222,
                            "#7201a8"
                          ],
                          [
                            0.3333333333333333,
                            "#9c179e"
                          ],
                          [
                            0.4444444444444444,
                            "#bd3786"
                          ],
                          [
                            0.5555555555555556,
                            "#d8576b"
                          ],
                          [
                            0.6666666666666666,
                            "#ed7953"
                          ],
                          [
                            0.7777777777777778,
                            "#fb9f3a"
                          ],
                          [
                            0.8888888888888888,
                            "#fdca26"
                          ],
                          [
                            1,
                            "#f0f921"
                          ]
                        ],
                        "type": "heatmap"
                      }
                    ],
                    "heatmapgl": [
                      {
                        "colorbar": {
                          "outlinewidth": 0,
                          "ticks": ""
                        },
                        "colorscale": [
                          [
                            0,
                            "#0d0887"
                          ],
                          [
                            0.1111111111111111,
                            "#46039f"
                          ],
                          [
                            0.2222222222222222,
                            "#7201a8"
                          ],
                          [
                            0.3333333333333333,
                            "#9c179e"
                          ],
                          [
                            0.4444444444444444,
                            "#bd3786"
                          ],
                          [
                            0.5555555555555556,
                            "#d8576b"
                          ],
                          [
                            0.6666666666666666,
                            "#ed7953"
                          ],
                          [
                            0.7777777777777778,
                            "#fb9f3a"
                          ],
                          [
                            0.8888888888888888,
                            "#fdca26"
                          ],
                          [
                            1,
                            "#f0f921"
                          ]
                        ],
                        "type": "heatmapgl"
                      }
                    ],
                    "histogram": [
                      {
                        "marker": {
                          "pattern": {
                            "fillmode": "overlay",
                            "size": 10,
                            "solidity": 0.2
                          }
                        },
                        "type": "histogram"
                      }
                    ],
                    "histogram2d": [
                      {
                        "colorbar": {
                          "outlinewidth": 0,
                          "ticks": ""
                        },
                        "colorscale": [
                          [
                            0,
                            "#0d0887"
                          ],
                          [
                            0.1111111111111111,
                            "#46039f"
                          ],
                          [
                            0.2222222222222222,
                            "#7201a8"
                          ],
                          [
                            0.3333333333333333,
                            "#9c179e"
                          ],
                          [
                            0.4444444444444444,
                            "#bd3786"
                          ],
                          [
                            0.5555555555555556,
                            "#d8576b"
                          ],
                          [
                            0.6666666666666666,
                            "#ed7953"
                          ],
                          [
                            0.7777777777777778,
                            "#fb9f3a"
                          ],
                          [
                            0.8888888888888888,
                            "#fdca26"
                          ],
                          [
                            1,
                            "#f0f921"
                          ]
                        ],
                        "type": "histogram2d"
                      }
                    ],
                    "histogram2dcontour": [
                      {
                        "colorbar": {
                          "outlinewidth": 0,
                          "ticks": ""
                        },
                        "colorscale": [
                          [
                            0,
                            "#0d0887"
                          ],
                          [
                            0.1111111111111111,
                            "#46039f"
                          ],
                          [
                            0.2222222222222222,
                            "#7201a8"
                          ],
                          [
                            0.3333333333333333,
                            "#9c179e"
                          ],
                          [
                            0.4444444444444444,
                            "#bd3786"
                          ],
                          [
                            0.5555555555555556,
                            "#d8576b"
                          ],
                          [
                            0.6666666666666666,
                            "#ed7953"
                          ],
                          [
                            0.7777777777777778,
                            "#fb9f3a"
                          ],
                          [
                            0.8888888888888888,
                            "#fdca26"
                          ],
                          [
                            1,
                            "#f0f921"
                          ]
                        ],
                        "type": "histogram2dcontour"
                      }
                    ],
                    "mesh3d": [
                      {
                        "colorbar": {
                          "outlinewidth": 0,
                          "ticks": ""
                        },
                        "type": "mesh3d"
                      }
                    ],
                    "parcoords": [
                      {
                        "line": {
                          "colorbar": {
                            "outlinewidth": 0,
                            "ticks": ""
                          }
                        },
                        "type": "parcoords"
                      }
                    ],
                    "pie": [
                      {
                        "automargin": true,
                        "type": "pie"
                      }
                    ],
                    "scatter": [
                      {
                        "fillpattern": {
                          "fillmode": "overlay",
                          "size": 10,
                          "solidity": 0.2
                        },
                        "type": "scatter"
                      }
                    ],
                    "scatter3d": [
                      {
                        "line": {
                          "colorbar": {
                            "outlinewidth": 0,
                            "ticks": ""
                          }
                        },
                        "marker": {
                          "colorbar": {
                            "outlinewidth": 0,
                            "ticks": ""
                          }
                        },
                        "type": "scatter3d"
                      }
                    ],
                    "scattercarpet": [
                      {
                        "marker": {
                          "colorbar": {
                            "outlinewidth": 0,
                            "ticks": ""
                          }
                        },
                        "type": "scattercarpet"
                      }
                    ],
                    "scattergeo": [
                      {
                        "marker": {
                          "colorbar": {
                            "outlinewidth": 0,
                            "ticks": ""
                          }
                        },
                        "type": "scattergeo"
                      }
                    ],
                    "scattergl": [
                      {
                        "marker": {
                          "colorbar": {
                            "outlinewidth": 0,
                            "ticks": ""
                          }
                        },
                        "type": "scattergl"
                      }
                    ],
                    "scattermapbox": [
                      {
                        "marker": {
                          "colorbar": {
                            "outlinewidth": 0,
                            "ticks": ""
                          }
                        },
                        "type": "scattermapbox"
                      }
                    ],
                    "scatterpolar": [
                      {
                        "marker": {
                          "colorbar": {
                            "outlinewidth": 0,
                            "ticks": ""
                          }
                        },
                        "type": "scatterpolar"
                      }
                    ],
                    "scatterpolargl": [
                      {
                        "marker": {
                          "colorbar": {
                            "outlinewidth": 0,
                            "ticks": ""
                          }
                        },
                        "type": "scatterpolargl"
                      }
                    ],
                    "scatterternary": [
                      {
                        "marker": {
                          "colorbar": {
                            "outlinewidth": 0,
                            "ticks": ""
                          }
                        },
                        "type": "scatterternary"
                      }
                    ],
                    "surface": [
                      {
                        "colorbar": {
                          "outlinewidth": 0,
                          "ticks": ""
                        },
                        "colorscale": [
                          [
                            0,
                            "#0d0887"
                          ],
                          [
                            0.1111111111111111,
                            "#46039f"
                          ],
                          [
                            0.2222222222222222,
                            "#7201a8"
                          ],
                          [
                            0.3333333333333333,
                            "#9c179e"
                          ],
                          [
                            0.4444444444444444,
                            "#bd3786"
                          ],
                          [
                            0.5555555555555556,
                            "#d8576b"
                          ],
                          [
                            0.6666666666666666,
                            "#ed7953"
                          ],
                          [
                            0.7777777777777778,
                            "#fb9f3a"
                          ],
                          [
                            0.8888888888888888,
                            "#fdca26"
                          ],
                          [
                            1,
                            "#f0f921"
                          ]
                        ],
                        "type": "surface"
                      }
                    ],
                    "table": [
                      {
                        "cells": {
                          "fill": {
                            "color": "#EBF0F8"
                          },
                          "line": {
                            "color": "white"
                          }
                        },
                        "header": {
                          "fill": {
                            "color": "#C8D4E3"
                          },
                          "line": {
                            "color": "white"
                          }
                        },
                        "type": "table"
                      }
                    ]
                  },
                  "layout": {
                    "annotationdefaults": {
                      "arrowcolor": "#2a3f5f",
                      "arrowhead": 0,
                      "arrowwidth": 1
                    },
                    "autotypenumbers": "strict",
                    "coloraxis": {
                      "colorbar": {
                        "outlinewidth": 0,
                        "ticks": ""
                      }
                    },
                    "colorscale": {
                      "diverging": [
                        [
                          0,
                          "#8e0152"
                        ],
                        [
                          0.1,
                          "#c51b7d"
                        ],
                        [
                          0.2,
                          "#de77ae"
                        ],
                        [
                          0.3,
                          "#f1b6da"
                        ],
                        [
                          0.4,
                          "#fde0ef"
                        ],
                        [
                          0.5,
                          "#f7f7f7"
                        ],
                        [
                          0.6,
                          "#e6f5d0"
                        ],
                        [
                          0.7,
                          "#b8e186"
                        ],
                        [
                          0.8,
                          "#7fbc41"
                        ],
                        [
                          0.9,
                          "#4d9221"
                        ],
                        [
                          1,
                          "#276419"
                        ]
                      ],
                      "sequential": [
                        [
                          0,
                          "#0d0887"
                        ],
                        [
                          0.1111111111111111,
                          "#46039f"
                        ],
                        [
                          0.2222222222222222,
                          "#7201a8"
                        ],
                        [
                          0.3333333333333333,
                          "#9c179e"
                        ],
                        [
                          0.4444444444444444,
                          "#bd3786"
                        ],
                        [
                          0.5555555555555556,
                          "#d8576b"
                        ],
                        [
                          0.6666666666666666,
                          "#ed7953"
                        ],
                        [
                          0.7777777777777778,
                          "#fb9f3a"
                        ],
                        [
                          0.8888888888888888,
                          "#fdca26"
                        ],
                        [
                          1,
                          "#f0f921"
                        ]
                      ],
                      "sequentialminus": [
                        [
                          0,
                          "#0d0887"
                        ],
                        [
                          0.1111111111111111,
                          "#46039f"
                        ],
                        [
                          0.2222222222222222,
                          "#7201a8"
                        ],
                        [
                          0.3333333333333333,
                          "#9c179e"
                        ],
                        [
                          0.4444444444444444,
                          "#bd3786"
                        ],
                        [
                          0.5555555555555556,
                          "#d8576b"
                        ],
                        [
                          0.6666666666666666,
                          "#ed7953"
                        ],
                        [
                          0.7777777777777778,
                          "#fb9f3a"
                        ],
                        [
                          0.8888888888888888,
                          "#fdca26"
                        ],
                        [
                          1,
                          "#f0f921"
                        ]
                      ]
                    },
                    "colorway": [
                      "#636efa",
                      "#EF553B",
                      "#00cc96",
                      "#ab63fa",
                      "#FFA15A",
                      "#19d3f3",
                      "#FF6692",
                      "#B6E880",
                      "#FF97FF",
                      "#FECB52"
                    ],
                    "font": {
                      "color": "#2a3f5f"
                    },
                    "geo": {
                      "bgcolor": "white",
                      "lakecolor": "white",
                      "landcolor": "#E5ECF6",
                      "showlakes": true,
                      "showland": true,
                      "subunitcolor": "white"
                    },
                    "hoverlabel": {
                      "align": "left"
                    },
                    "hovermode": "closest",
                    "mapbox": {
                      "style": "light"
                    },
                    "paper_bgcolor": "white",
                    "plot_bgcolor": "#E5ECF6",
                    "polar": {
                      "angularaxis": {
                        "gridcolor": "white",
                        "linecolor": "white",
                        "ticks": ""
                      },
                      "bgcolor": "#E5ECF6",
                      "radialaxis": {
                        "gridcolor": "white",
                        "linecolor": "white",
                        "ticks": ""
                      }
                    },
                    "scene": {
                      "xaxis": {
                        "backgroundcolor": "#E5ECF6",
                        "gridcolor": "white",
                        "gridwidth": 2,
                        "linecolor": "white",
                        "showbackground": true,
                        "ticks": "",
                        "zerolinecolor": "white"
                      },
                      "yaxis": {
                        "backgroundcolor": "#E5ECF6",
                        "gridcolor": "white",
                        "gridwidth": 2,
                        "linecolor": "white",
                        "showbackground": true,
                        "ticks": "",
                        "zerolinecolor": "white"
                      },
                      "zaxis": {
                        "backgroundcolor": "#E5ECF6",
                        "gridcolor": "white",
                        "gridwidth": 2,
                        "linecolor": "white",
                        "showbackground": true,
                        "ticks": "",
                        "zerolinecolor": "white"
                      }
                    },
                    "shapedefaults": {
                      "line": {
                        "color": "#2a3f5f"
                      }
                    },
                    "ternary": {
                      "aaxis": {
                        "gridcolor": "white",
                        "linecolor": "white",
                        "ticks": ""
                      },
                      "baxis": {
                        "gridcolor": "white",
                        "linecolor": "white",
                        "ticks": ""
                      },
                      "bgcolor": "#E5ECF6",
                      "caxis": {
                        "gridcolor": "white",
                        "linecolor": "white",
                        "ticks": ""
                      }
                    },
                    "title": {
                      "x": 0.05
                    },
                    "xaxis": {
                      "automargin": true,
                      "gridcolor": "white",
                      "linecolor": "white",
                      "ticks": "",
                      "title": {
                        "standoff": 15
                      },
                      "zerolinecolor": "white",
                      "zerolinewidth": 2
                    },
                    "yaxis": {
                      "automargin": true,
                      "gridcolor": "white",
                      "linecolor": "white",
                      "ticks": "",
                      "title": {
                        "standoff": 15
                      },
                      "zerolinecolor": "white",
                      "zerolinewidth": 2
                    }
                  }
                }
              }
            },
            "text/html": [
              "<div>                            <div id=\"c295bd69-4409-414e-9632-24c6e76fa153\" class=\"plotly-graph-div\" style=\"height:525px; width:100%;\"></div>            <script type=\"text/javascript\">                require([\"plotly\"], function(Plotly) {                    window.PLOTLYENV=window.PLOTLYENV || {};                                    if (document.getElementById(\"c295bd69-4409-414e-9632-24c6e76fa153\")) {                    Plotly.newPlot(                        \"c295bd69-4409-414e-9632-24c6e76fa153\",                        [{\"hovertemplate\":\"model=h2oai_h2o-danube2-1.8b-chat\\u003cbr\\u003escore=%{r}\\u003cbr\\u003ecategory=%{theta}\\u003cextra\\u003e\\u003c\\u002fextra\\u003e\",\"legendgroup\":\"h2oai_h2o-danube2-1.8b-chat\",\"line\":{\"color\":\"rgb(102, 197, 204)\",\"dash\":\"solid\"},\"marker\":{\"symbol\":\"circle\"},\"mode\":\"lines+markers\",\"name\":\"h2oai_h2o-danube2-1.8b-chat\",\"r\":[7.1,6.175,3.2,2.95,2.4,2.85,6.05,9.1,7.1],\"showlegend\":true,\"subplot\":\"polar\",\"theta\":[\"Writing\",\"Roleplay\",\"Reasoning\",\"Math\",\"Coding\",\"Extraction\",\"STEM\",\"Humanities\",\"Writing\"],\"type\":\"scatterpolar\"},{\"hovertemplate\":\"model=stabilityai_stablelm-zephyr-3b\\u003cbr\\u003escore=%{r}\\u003cbr\\u003ecategory=%{theta}\\u003cextra\\u003e\\u003c\\u002fextra\\u003e\",\"legendgroup\":\"stabilityai_stablelm-zephyr-3b\",\"line\":{\"color\":\"rgb(246, 207, 113)\",\"dash\":\"solid\"},\"marker\":{\"symbol\":\"circle\"},\"mode\":\"lines+markers\",\"name\":\"stabilityai_stablelm-zephyr-3b\",\"r\":[7.6,7.0,3.3,3.5,5.05,5.05,7.175,8.725,7.6],\"showlegend\":true,\"subplot\":\"polar\",\"theta\":[\"Writing\",\"Roleplay\",\"Reasoning\",\"Math\",\"Coding\",\"Extraction\",\"STEM\",\"Humanities\",\"Writing\"],\"type\":\"scatterpolar\"},{\"hovertemplate\":\"model=h2oai_h2o-danube3-4b-chat\\u003cbr\\u003escore=%{r}\\u003cbr\\u003ecategory=%{theta}\\u003cextra\\u003e\\u003c\\u002fextra\\u003e\",\"legendgroup\":\"h2oai_h2o-danube3-4b-chat\",\"line\":{\"color\":\"rgb(248, 156, 116)\",\"dash\":\"solid\"},\"marker\":{\"symbol\":\"circle\"},\"mode\":\"lines+markers\",\"name\":\"h2oai_h2o-danube3-4b-chat\",\"r\":[6.2,6.15,5.4,3.8,3.55,4.6,6.5,5.894736842105263,6.2],\"showlegend\":true,\"subplot\":\"polar\",\"theta\":[\"Writing\",\"Roleplay\",\"Reasoning\",\"Math\",\"Coding\",\"Extraction\",\"STEM\",\"Humanities\",\"Writing\"],\"type\":\"scatterpolar\"},{\"hovertemplate\":\"model=microsoft_Phi-3.5-mini-instruct\\u003cbr\\u003escore=%{r}\\u003cbr\\u003ecategory=%{theta}\\u003cextra\\u003e\\u003c\\u002fextra\\u003e\",\"legendgroup\":\"microsoft_Phi-3.5-mini-instruct\",\"line\":{\"color\":\"rgb(220, 176, 242)\",\"dash\":\"solid\"},\"marker\":{\"symbol\":\"circle\"},\"mode\":\"lines+markers\",\"name\":\"microsoft_Phi-3.5-mini-instruct\",\"r\":[9.55,9.2,6.8,6.2,7.55,8.68421052631579,9.8,9.85,9.55],\"showlegend\":true,\"subplot\":\"polar\",\"theta\":[\"Writing\",\"Roleplay\",\"Reasoning\",\"Math\",\"Coding\",\"Extraction\",\"STEM\",\"Humanities\",\"Writing\"],\"type\":\"scatterpolar\"},{\"hovertemplate\":\"model=stabilityai_stablelm-2-1_6b-chat\\u003cbr\\u003escore=%{r}\\u003cbr\\u003ecategory=%{theta}\\u003cextra\\u003e\\u003c\\u002fextra\\u003e\",\"legendgroup\":\"stabilityai_stablelm-2-1_6b-chat\",\"line\":{\"color\":\"rgb(135, 197, 95)\",\"dash\":\"solid\"},\"marker\":{\"symbol\":\"circle\"},\"mode\":\"lines+markers\",\"name\":\"stabilityai_stablelm-2-1_6b-chat\",\"r\":[6.2,6.55,3.7,2.7,2.9,4.0,6.55,7.3,6.2],\"showlegend\":true,\"subplot\":\"polar\",\"theta\":[\"Writing\",\"Roleplay\",\"Reasoning\",\"Math\",\"Coding\",\"Extraction\",\"STEM\",\"Humanities\",\"Writing\"],\"type\":\"scatterpolar\"},{\"hovertemplate\":\"model=Qwen_Qwen2-1.5B-Instruct\\u003cbr\\u003escore=%{r}\\u003cbr\\u003ecategory=%{theta}\\u003cextra\\u003e\\u003c\\u002fextra\\u003e\",\"legendgroup\":\"Qwen_Qwen2-1.5B-Instruct\",\"line\":{\"color\":\"rgb(158, 185, 243)\",\"dash\":\"solid\"},\"marker\":{\"symbol\":\"circle\"},\"mode\":\"lines+markers\",\"name\":\"Qwen_Qwen2-1.5B-Instruct\",\"r\":[1.0,1.0,1.0,1.0,1.0,1.0,1.0,1.0,1.0],\"showlegend\":true,\"subplot\":\"polar\",\"theta\":[\"Writing\",\"Roleplay\",\"Reasoning\",\"Math\",\"Coding\",\"Extraction\",\"STEM\",\"Humanities\",\"Writing\"],\"type\":\"scatterpolar\"},{\"hovertemplate\":\"model=microsoft_Phi-3-mini-4k-instruct\\u003cbr\\u003escore=%{r}\\u003cbr\\u003ecategory=%{theta}\\u003cextra\\u003e\\u003c\\u002fextra\\u003e\",\"legendgroup\":\"microsoft_Phi-3-mini-4k-instruct\",\"line\":{\"color\":\"rgb(254, 136, 177)\",\"dash\":\"solid\"},\"marker\":{\"symbol\":\"circle\"},\"mode\":\"lines+markers\",\"name\":\"microsoft_Phi-3-mini-4k-instruct\",\"r\":[9.6,8.525,6.75,7.1,5.95,7.65,9.1,9.65,9.6],\"showlegend\":true,\"subplot\":\"polar\",\"theta\":[\"Writing\",\"Roleplay\",\"Reasoning\",\"Math\",\"Coding\",\"Extraction\",\"STEM\",\"Humanities\",\"Writing\"],\"type\":\"scatterpolar\"},{\"hovertemplate\":\"model=HuggingFaceTB_SmolLM-1.7B-Instruct\\u003cbr\\u003escore=%{r}\\u003cbr\\u003ecategory=%{theta}\\u003cextra\\u003e\\u003c\\u002fextra\\u003e\",\"legendgroup\":\"HuggingFaceTB_SmolLM-1.7B-Instruct\",\"line\":{\"color\":\"rgb(201, 219, 116)\",\"dash\":\"solid\"},\"marker\":{\"symbol\":\"circle\"},\"mode\":\"lines+markers\",\"name\":\"HuggingFaceTB_SmolLM-1.7B-Instruct\",\"r\":[5.1,5.7,2.75,1.6,2.85,2.4,6.8,7.5,5.1],\"showlegend\":true,\"subplot\":\"polar\",\"theta\":[\"Writing\",\"Roleplay\",\"Reasoning\",\"Math\",\"Coding\",\"Extraction\",\"STEM\",\"Humanities\",\"Writing\"],\"type\":\"scatterpolar\"},{\"hovertemplate\":\"model=ultrafeedback_openhermespref_orcadoppairs_1epoch_then_2epochs_then_1epoch\\u003cbr\\u003escore=%{r}\\u003cbr\\u003ecategory=%{theta}\\u003cextra\\u003e\\u003c\\u002fextra\\u003e\",\"legendgroup\":\"ultrafeedback_openhermespref_orcadoppairs_1epoch_then_2epochs_then_1epoch\",\"line\":{\"color\":\"rgb(139, 224, 164)\",\"dash\":\"solid\"},\"marker\":{\"symbol\":\"circle\"},\"mode\":\"lines+markers\",\"name\":\"ultrafeedback_openhermespref_orcadoppairs_1epoch_then_2epochs_then_1epoch\",\"r\":[6.6,7.95,6.7,6.6,3.3,5.5,9.0,9.325,6.6],\"showlegend\":true,\"subplot\":\"polar\",\"theta\":[\"Writing\",\"Roleplay\",\"Reasoning\",\"Math\",\"Coding\",\"Extraction\",\"STEM\",\"Humanities\",\"Writing\"],\"type\":\"scatterpolar\"},{\"hovertemplate\":\"model=ultrafeedback_openhermespref_orcadoppairs_1epoch_then_2epochs\\u003cbr\\u003escore=%{r}\\u003cbr\\u003ecategory=%{theta}\\u003cextra\\u003e\\u003c\\u002fextra\\u003e\",\"legendgroup\":\"ultrafeedback_openhermespref_orcadoppairs_1epoch_then_2epochs\",\"line\":{\"color\":\"rgb(180, 151, 231)\",\"dash\":\"solid\"},\"marker\":{\"symbol\":\"circle\"},\"mode\":\"lines+markers\",\"name\":\"ultrafeedback_openhermespref_orcadoppairs_1epoch_then_2epochs\",\"r\":[8.8,8.2,6.35,6.75,3.35,6.0,9.2,9.325,8.8],\"showlegend\":true,\"subplot\":\"polar\",\"theta\":[\"Writing\",\"Roleplay\",\"Reasoning\",\"Math\",\"Coding\",\"Extraction\",\"STEM\",\"Humanities\",\"Writing\"],\"type\":\"scatterpolar\"},{\"hovertemplate\":\"model=ultrafeedback_openhermespref_orcadoppairs_1epoch\\u003cbr\\u003escore=%{r}\\u003cbr\\u003ecategory=%{theta}\\u003cextra\\u003e\\u003c\\u002fextra\\u003e\",\"legendgroup\":\"ultrafeedback_openhermespref_orcadoppairs_1epoch\",\"line\":{\"color\":\"rgb(179, 179, 179)\",\"dash\":\"solid\"},\"marker\":{\"symbol\":\"circle\"},\"mode\":\"lines+markers\",\"name\":\"ultrafeedback_openhermespref_orcadoppairs_1epoch\",\"r\":[7.45,7.9,6.4,6.05,3.4,5.45,8.975,9.175,7.45],\"showlegend\":true,\"subplot\":\"polar\",\"theta\":[\"Writing\",\"Roleplay\",\"Reasoning\",\"Math\",\"Coding\",\"Extraction\",\"STEM\",\"Humanities\",\"Writing\"],\"type\":\"scatterpolar\"},{\"hovertemplate\":\"model=ultrafeedback_openhermespref_orcadoppairs_4epochs\\u003cbr\\u003escore=%{r}\\u003cbr\\u003ecategory=%{theta}\\u003cextra\\u003e\\u003c\\u002fextra\\u003e\",\"legendgroup\":\"ultrafeedback_openhermespref_orcadoppairs_4epochs\",\"line\":{\"color\":\"rgb(102, 197, 204)\",\"dash\":\"solid\"},\"marker\":{\"symbol\":\"circle\"},\"mode\":\"lines+markers\",\"name\":\"ultrafeedback_openhermespref_orcadoppairs_4epochs\",\"r\":[7.9,7.375,6.35,6.05,3.95,5.95,9.3,9.1,7.9],\"showlegend\":true,\"subplot\":\"polar\",\"theta\":[\"Writing\",\"Roleplay\",\"Reasoning\",\"Math\",\"Coding\",\"Extraction\",\"STEM\",\"Humanities\",\"Writing\"],\"type\":\"scatterpolar\"},{\"hovertemplate\":\"model=gemma-2-2b-it\\u003cbr\\u003escore=%{r}\\u003cbr\\u003ecategory=%{theta}\\u003cextra\\u003e\\u003c\\u002fextra\\u003e\",\"legendgroup\":\"gemma-2-2b-it\",\"line\":{\"color\":\"rgb(246, 207, 113)\",\"dash\":\"solid\"},\"marker\":{\"symbol\":\"circle\"},\"mode\":\"lines+markers\",\"name\":\"gemma-2-2b-it\",\"r\":[8.225,7.125,4.75,3.45,2.473684210526316,2.1,6.65,6.45,8.225],\"showlegend\":true,\"subplot\":\"polar\",\"theta\":[\"Writing\",\"Roleplay\",\"Reasoning\",\"Math\",\"Coding\",\"Extraction\",\"STEM\",\"Humanities\",\"Writing\"],\"type\":\"scatterpolar\"},{\"hovertemplate\":\"model=instr_release_ultrafeedback_batch32_rejected_half_from_zamba\\u003cbr\\u003escore=%{r}\\u003cbr\\u003ecategory=%{theta}\\u003cextra\\u003e\\u003c\\u002fextra\\u003e\",\"legendgroup\":\"instr_release_ultrafeedback_batch32_rejected_half_from_zamba\",\"line\":{\"color\":\"rgb(248, 156, 116)\",\"dash\":\"solid\"},\"marker\":{\"symbol\":\"circle\"},\"mode\":\"lines+markers\",\"name\":\"instr_release_ultrafeedback_batch32_rejected_half_from_zamba\",\"r\":[8.325,7.525,6.2,6.25,3.7,5.0,9.0,9.6,8.325],\"showlegend\":true,\"subplot\":\"polar\",\"theta\":[\"Writing\",\"Roleplay\",\"Reasoning\",\"Math\",\"Coding\",\"Extraction\",\"STEM\",\"Humanities\",\"Writing\"],\"type\":\"scatterpolar\"},{\"hovertemplate\":\"model=instr_release_ultrafeedback_infinfstruct_batch32_with_actual_mix_infinstr_ultrachat_round2\\u003cbr\\u003escore=%{r}\\u003cbr\\u003ecategory=%{theta}\\u003cextra\\u003e\\u003c\\u002fextra\\u003e\",\"legendgroup\":\"instr_release_ultrafeedback_infinfstruct_batch32_with_actual_mix_infinstr_ultrachat_round2\",\"line\":{\"color\":\"rgb(220, 176, 242)\",\"dash\":\"solid\"},\"marker\":{\"symbol\":\"circle\"},\"mode\":\"lines+markers\",\"name\":\"instr_release_ultrafeedback_infinfstruct_batch32_with_actual_mix_infinstr_ultrachat_round2\",\"r\":[7.75,8.1,6.85,6.55,3.3,5.45,9.0,9.075,7.75],\"showlegend\":true,\"subplot\":\"polar\",\"theta\":[\"Writing\",\"Roleplay\",\"Reasoning\",\"Math\",\"Coding\",\"Extraction\",\"STEM\",\"Humanities\",\"Writing\"],\"type\":\"scatterpolar\"},{\"hovertemplate\":\"model=instr_release_ultrafeedback_batch32_rejected_half_from_zamba_round2\\u003cbr\\u003escore=%{r}\\u003cbr\\u003ecategory=%{theta}\\u003cextra\\u003e\\u003c\\u002fextra\\u003e\",\"legendgroup\":\"instr_release_ultrafeedback_batch32_rejected_half_from_zamba_round2\",\"line\":{\"color\":\"rgb(135, 197, 95)\",\"dash\":\"solid\"},\"marker\":{\"symbol\":\"circle\"},\"mode\":\"lines+markers\",\"name\":\"instr_release_ultrafeedback_batch32_rejected_half_from_zamba_round2\",\"r\":[7.55,7.95,6.3,6.2,3.45,5.65,8.875,9.45,7.55],\"showlegend\":true,\"subplot\":\"polar\",\"theta\":[\"Writing\",\"Roleplay\",\"Reasoning\",\"Math\",\"Coding\",\"Extraction\",\"STEM\",\"Humanities\",\"Writing\"],\"type\":\"scatterpolar\"},{\"hovertemplate\":\"model=instr_release_ultrafeedback_batch32_rejected_fully_from_zamba\\u003cbr\\u003escore=%{r}\\u003cbr\\u003ecategory=%{theta}\\u003cextra\\u003e\\u003c\\u002fextra\\u003e\",\"legendgroup\":\"instr_release_ultrafeedback_batch32_rejected_fully_from_zamba\",\"line\":{\"color\":\"rgb(158, 185, 243)\",\"dash\":\"solid\"},\"marker\":{\"symbol\":\"circle\"},\"mode\":\"lines+markers\",\"name\":\"instr_release_ultrafeedback_batch32_rejected_fully_from_zamba\",\"r\":[8.075,7.5,6.7,6.1,3.65,5.675,8.875,9.5,8.075],\"showlegend\":true,\"subplot\":\"polar\",\"theta\":[\"Writing\",\"Roleplay\",\"Reasoning\",\"Math\",\"Coding\",\"Extraction\",\"STEM\",\"Humanities\",\"Writing\"],\"type\":\"scatterpolar\"},{\"hovertemplate\":\"model=instr_release_ultrafeedback_infinfstruct_batch32_with_actual_mix_infinstr_ultrachat_round3\\u003cbr\\u003escore=%{r}\\u003cbr\\u003ecategory=%{theta}\\u003cextra\\u003e\\u003c\\u002fextra\\u003e\",\"legendgroup\":\"instr_release_ultrafeedback_infinfstruct_batch32_with_actual_mix_infinstr_ultrachat_round3\",\"line\":{\"color\":\"rgb(254, 136, 177)\",\"dash\":\"solid\"},\"marker\":{\"symbol\":\"circle\"},\"mode\":\"lines+markers\",\"name\":\"instr_release_ultrafeedback_infinfstruct_batch32_with_actual_mix_infinstr_ultrachat_round3\",\"r\":[7.6,7.9,6.4,6.6,3.05,5.4,9.2,9.125,7.6],\"showlegend\":true,\"subplot\":\"polar\",\"theta\":[\"Writing\",\"Roleplay\",\"Reasoning\",\"Math\",\"Coding\",\"Extraction\",\"STEM\",\"Humanities\",\"Writing\"],\"type\":\"scatterpolar\"},{\"hovertemplate\":\"model=instr_release_ultrafeedback_batch32_rejected_half_from_zamba_round3\\u003cbr\\u003escore=%{r}\\u003cbr\\u003ecategory=%{theta}\\u003cextra\\u003e\\u003c\\u002fextra\\u003e\",\"legendgroup\":\"instr_release_ultrafeedback_batch32_rejected_half_from_zamba_round3\",\"line\":{\"color\":\"rgb(201, 219, 116)\",\"dash\":\"solid\"},\"marker\":{\"symbol\":\"circle\"},\"mode\":\"lines+markers\",\"name\":\"instr_release_ultrafeedback_batch32_rejected_half_from_zamba_round3\",\"r\":[7.925,7.55,6.45,6.2,3.45,5.35,8.825,9.45,7.925],\"showlegend\":true,\"subplot\":\"polar\",\"theta\":[\"Writing\",\"Roleplay\",\"Reasoning\",\"Math\",\"Coding\",\"Extraction\",\"STEM\",\"Humanities\",\"Writing\"],\"type\":\"scatterpolar\"},{\"hovertemplate\":\"model=instr_release_ultrafeedback_infinfstruct_batch32_with_actual_mix_infinstr_ultrachat\\u003cbr\\u003escore=%{r}\\u003cbr\\u003ecategory=%{theta}\\u003cextra\\u003e\\u003c\\u002fextra\\u003e\",\"legendgroup\":\"instr_release_ultrafeedback_infinfstruct_batch32_with_actual_mix_infinstr_ultrachat\",\"line\":{\"color\":\"rgb(139, 224, 164)\",\"dash\":\"solid\"},\"marker\":{\"symbol\":\"circle\"},\"mode\":\"lines+markers\",\"name\":\"instr_release_ultrafeedback_infinfstruct_batch32_with_actual_mix_infinstr_ultrachat\",\"r\":[7.675,7.825,6.5,6.25,3.55,5.55,9.05,9.1,7.675],\"showlegend\":true,\"subplot\":\"polar\",\"theta\":[\"Writing\",\"Roleplay\",\"Reasoning\",\"Math\",\"Coding\",\"Extraction\",\"STEM\",\"Humanities\",\"Writing\"],\"type\":\"scatterpolar\"},{\"hovertemplate\":\"model=nstr_release_ultrafeedback_batch32_rejected_fully_from_zamba_round2\\u003cbr\\u003escore=%{r}\\u003cbr\\u003ecategory=%{theta}\\u003cextra\\u003e\\u003c\\u002fextra\\u003e\",\"legendgroup\":\"nstr_release_ultrafeedback_batch32_rejected_fully_from_zamba_round2\",\"line\":{\"color\":\"rgb(180, 151, 231)\",\"dash\":\"solid\"},\"marker\":{\"symbol\":\"circle\"},\"mode\":\"lines+markers\",\"name\":\"nstr_release_ultrafeedback_batch32_rejected_fully_from_zamba_round2\",\"r\":[8.2,7.75,6.2,5.5,3.7,5.6,8.75,9.775,8.2],\"showlegend\":true,\"subplot\":\"polar\",\"theta\":[\"Writing\",\"Roleplay\",\"Reasoning\",\"Math\",\"Coding\",\"Extraction\",\"STEM\",\"Humanities\",\"Writing\"],\"type\":\"scatterpolar\"},{\"hovertemplate\":\"model=instr_release_ultrafeedback_batch32_rejected_fully_from_zamba_round3\\u003cbr\\u003escore=%{r}\\u003cbr\\u003ecategory=%{theta}\\u003cextra\\u003e\\u003c\\u002fextra\\u003e\",\"legendgroup\":\"instr_release_ultrafeedback_batch32_rejected_fully_from_zamba_round3\",\"line\":{\"color\":\"rgb(179, 179, 179)\",\"dash\":\"solid\"},\"marker\":{\"symbol\":\"circle\"},\"mode\":\"lines+markers\",\"name\":\"instr_release_ultrafeedback_batch32_rejected_fully_from_zamba_round3\",\"r\":[8.15,7.525,6.5,5.8,3.5,5.45,8.6,9.675,8.15],\"showlegend\":true,\"subplot\":\"polar\",\"theta\":[\"Writing\",\"Roleplay\",\"Reasoning\",\"Math\",\"Coding\",\"Extraction\",\"STEM\",\"Humanities\",\"Writing\"],\"type\":\"scatterpolar\"}],                        {\"template\":{\"data\":{\"histogram2dcontour\":[{\"type\":\"histogram2dcontour\",\"colorbar\":{\"outlinewidth\":0,\"ticks\":\"\"},\"colorscale\":[[0.0,\"#0d0887\"],[0.1111111111111111,\"#46039f\"],[0.2222222222222222,\"#7201a8\"],[0.3333333333333333,\"#9c179e\"],[0.4444444444444444,\"#bd3786\"],[0.5555555555555556,\"#d8576b\"],[0.6666666666666666,\"#ed7953\"],[0.7777777777777778,\"#fb9f3a\"],[0.8888888888888888,\"#fdca26\"],[1.0,\"#f0f921\"]]}],\"choropleth\":[{\"type\":\"choropleth\",\"colorbar\":{\"outlinewidth\":0,\"ticks\":\"\"}}],\"histogram2d\":[{\"type\":\"histogram2d\",\"colorbar\":{\"outlinewidth\":0,\"ticks\":\"\"},\"colorscale\":[[0.0,\"#0d0887\"],[0.1111111111111111,\"#46039f\"],[0.2222222222222222,\"#7201a8\"],[0.3333333333333333,\"#9c179e\"],[0.4444444444444444,\"#bd3786\"],[0.5555555555555556,\"#d8576b\"],[0.6666666666666666,\"#ed7953\"],[0.7777777777777778,\"#fb9f3a\"],[0.8888888888888888,\"#fdca26\"],[1.0,\"#f0f921\"]]}],\"heatmap\":[{\"type\":\"heatmap\",\"colorbar\":{\"outlinewidth\":0,\"ticks\":\"\"},\"colorscale\":[[0.0,\"#0d0887\"],[0.1111111111111111,\"#46039f\"],[0.2222222222222222,\"#7201a8\"],[0.3333333333333333,\"#9c179e\"],[0.4444444444444444,\"#bd3786\"],[0.5555555555555556,\"#d8576b\"],[0.6666666666666666,\"#ed7953\"],[0.7777777777777778,\"#fb9f3a\"],[0.8888888888888888,\"#fdca26\"],[1.0,\"#f0f921\"]]}],\"heatmapgl\":[{\"type\":\"heatmapgl\",\"colorbar\":{\"outlinewidth\":0,\"ticks\":\"\"},\"colorscale\":[[0.0,\"#0d0887\"],[0.1111111111111111,\"#46039f\"],[0.2222222222222222,\"#7201a8\"],[0.3333333333333333,\"#9c179e\"],[0.4444444444444444,\"#bd3786\"],[0.5555555555555556,\"#d8576b\"],[0.6666666666666666,\"#ed7953\"],[0.7777777777777778,\"#fb9f3a\"],[0.8888888888888888,\"#fdca26\"],[1.0,\"#f0f921\"]]}],\"contourcarpet\":[{\"type\":\"contourcarpet\",\"colorbar\":{\"outlinewidth\":0,\"ticks\":\"\"}}],\"contour\":[{\"type\":\"contour\",\"colorbar\":{\"outlinewidth\":0,\"ticks\":\"\"},\"colorscale\":[[0.0,\"#0d0887\"],[0.1111111111111111,\"#46039f\"],[0.2222222222222222,\"#7201a8\"],[0.3333333333333333,\"#9c179e\"],[0.4444444444444444,\"#bd3786\"],[0.5555555555555556,\"#d8576b\"],[0.6666666666666666,\"#ed7953\"],[0.7777777777777778,\"#fb9f3a\"],[0.8888888888888888,\"#fdca26\"],[1.0,\"#f0f921\"]]}],\"surface\":[{\"type\":\"surface\",\"colorbar\":{\"outlinewidth\":0,\"ticks\":\"\"},\"colorscale\":[[0.0,\"#0d0887\"],[0.1111111111111111,\"#46039f\"],[0.2222222222222222,\"#7201a8\"],[0.3333333333333333,\"#9c179e\"],[0.4444444444444444,\"#bd3786\"],[0.5555555555555556,\"#d8576b\"],[0.6666666666666666,\"#ed7953\"],[0.7777777777777778,\"#fb9f3a\"],[0.8888888888888888,\"#fdca26\"],[1.0,\"#f0f921\"]]}],\"mesh3d\":[{\"type\":\"mesh3d\",\"colorbar\":{\"outlinewidth\":0,\"ticks\":\"\"}}],\"scatter\":[{\"fillpattern\":{\"fillmode\":\"overlay\",\"size\":10,\"solidity\":0.2},\"type\":\"scatter\"}],\"parcoords\":[{\"type\":\"parcoords\",\"line\":{\"colorbar\":{\"outlinewidth\":0,\"ticks\":\"\"}}}],\"scatterpolargl\":[{\"type\":\"scatterpolargl\",\"marker\":{\"colorbar\":{\"outlinewidth\":0,\"ticks\":\"\"}}}],\"bar\":[{\"error_x\":{\"color\":\"#2a3f5f\"},\"error_y\":{\"color\":\"#2a3f5f\"},\"marker\":{\"line\":{\"color\":\"#E5ECF6\",\"width\":0.5},\"pattern\":{\"fillmode\":\"overlay\",\"size\":10,\"solidity\":0.2}},\"type\":\"bar\"}],\"scattergeo\":[{\"type\":\"scattergeo\",\"marker\":{\"colorbar\":{\"outlinewidth\":0,\"ticks\":\"\"}}}],\"scatterpolar\":[{\"type\":\"scatterpolar\",\"marker\":{\"colorbar\":{\"outlinewidth\":0,\"ticks\":\"\"}}}],\"histogram\":[{\"marker\":{\"pattern\":{\"fillmode\":\"overlay\",\"size\":10,\"solidity\":0.2}},\"type\":\"histogram\"}],\"scattergl\":[{\"type\":\"scattergl\",\"marker\":{\"colorbar\":{\"outlinewidth\":0,\"ticks\":\"\"}}}],\"scatter3d\":[{\"type\":\"scatter3d\",\"line\":{\"colorbar\":{\"outlinewidth\":0,\"ticks\":\"\"}},\"marker\":{\"colorbar\":{\"outlinewidth\":0,\"ticks\":\"\"}}}],\"scattermapbox\":[{\"type\":\"scattermapbox\",\"marker\":{\"colorbar\":{\"outlinewidth\":0,\"ticks\":\"\"}}}],\"scatterternary\":[{\"type\":\"scatterternary\",\"marker\":{\"colorbar\":{\"outlinewidth\":0,\"ticks\":\"\"}}}],\"scattercarpet\":[{\"type\":\"scattercarpet\",\"marker\":{\"colorbar\":{\"outlinewidth\":0,\"ticks\":\"\"}}}],\"carpet\":[{\"aaxis\":{\"endlinecolor\":\"#2a3f5f\",\"gridcolor\":\"white\",\"linecolor\":\"white\",\"minorgridcolor\":\"white\",\"startlinecolor\":\"#2a3f5f\"},\"baxis\":{\"endlinecolor\":\"#2a3f5f\",\"gridcolor\":\"white\",\"linecolor\":\"white\",\"minorgridcolor\":\"white\",\"startlinecolor\":\"#2a3f5f\"},\"type\":\"carpet\"}],\"table\":[{\"cells\":{\"fill\":{\"color\":\"#EBF0F8\"},\"line\":{\"color\":\"white\"}},\"header\":{\"fill\":{\"color\":\"#C8D4E3\"},\"line\":{\"color\":\"white\"}},\"type\":\"table\"}],\"barpolar\":[{\"marker\":{\"line\":{\"color\":\"#E5ECF6\",\"width\":0.5},\"pattern\":{\"fillmode\":\"overlay\",\"size\":10,\"solidity\":0.2}},\"type\":\"barpolar\"}],\"pie\":[{\"automargin\":true,\"type\":\"pie\"}]},\"layout\":{\"autotypenumbers\":\"strict\",\"colorway\":[\"#636efa\",\"#EF553B\",\"#00cc96\",\"#ab63fa\",\"#FFA15A\",\"#19d3f3\",\"#FF6692\",\"#B6E880\",\"#FF97FF\",\"#FECB52\"],\"font\":{\"color\":\"#2a3f5f\"},\"hovermode\":\"closest\",\"hoverlabel\":{\"align\":\"left\"},\"paper_bgcolor\":\"white\",\"plot_bgcolor\":\"#E5ECF6\",\"polar\":{\"bgcolor\":\"#E5ECF6\",\"angularaxis\":{\"gridcolor\":\"white\",\"linecolor\":\"white\",\"ticks\":\"\"},\"radialaxis\":{\"gridcolor\":\"white\",\"linecolor\":\"white\",\"ticks\":\"\"}},\"ternary\":{\"bgcolor\":\"#E5ECF6\",\"aaxis\":{\"gridcolor\":\"white\",\"linecolor\":\"white\",\"ticks\":\"\"},\"baxis\":{\"gridcolor\":\"white\",\"linecolor\":\"white\",\"ticks\":\"\"},\"caxis\":{\"gridcolor\":\"white\",\"linecolor\":\"white\",\"ticks\":\"\"}},\"coloraxis\":{\"colorbar\":{\"outlinewidth\":0,\"ticks\":\"\"}},\"colorscale\":{\"sequential\":[[0.0,\"#0d0887\"],[0.1111111111111111,\"#46039f\"],[0.2222222222222222,\"#7201a8\"],[0.3333333333333333,\"#9c179e\"],[0.4444444444444444,\"#bd3786\"],[0.5555555555555556,\"#d8576b\"],[0.6666666666666666,\"#ed7953\"],[0.7777777777777778,\"#fb9f3a\"],[0.8888888888888888,\"#fdca26\"],[1.0,\"#f0f921\"]],\"sequentialminus\":[[0.0,\"#0d0887\"],[0.1111111111111111,\"#46039f\"],[0.2222222222222222,\"#7201a8\"],[0.3333333333333333,\"#9c179e\"],[0.4444444444444444,\"#bd3786\"],[0.5555555555555556,\"#d8576b\"],[0.6666666666666666,\"#ed7953\"],[0.7777777777777778,\"#fb9f3a\"],[0.8888888888888888,\"#fdca26\"],[1.0,\"#f0f921\"]],\"diverging\":[[0,\"#8e0152\"],[0.1,\"#c51b7d\"],[0.2,\"#de77ae\"],[0.3,\"#f1b6da\"],[0.4,\"#fde0ef\"],[0.5,\"#f7f7f7\"],[0.6,\"#e6f5d0\"],[0.7,\"#b8e186\"],[0.8,\"#7fbc41\"],[0.9,\"#4d9221\"],[1,\"#276419\"]]},\"xaxis\":{\"gridcolor\":\"white\",\"linecolor\":\"white\",\"ticks\":\"\",\"title\":{\"standoff\":15},\"zerolinecolor\":\"white\",\"automargin\":true,\"zerolinewidth\":2},\"yaxis\":{\"gridcolor\":\"white\",\"linecolor\":\"white\",\"ticks\":\"\",\"title\":{\"standoff\":15},\"zerolinecolor\":\"white\",\"automargin\":true,\"zerolinewidth\":2},\"scene\":{\"xaxis\":{\"backgroundcolor\":\"#E5ECF6\",\"gridcolor\":\"white\",\"linecolor\":\"white\",\"showbackground\":true,\"ticks\":\"\",\"zerolinecolor\":\"white\",\"gridwidth\":2},\"yaxis\":{\"backgroundcolor\":\"#E5ECF6\",\"gridcolor\":\"white\",\"linecolor\":\"white\",\"showbackground\":true,\"ticks\":\"\",\"zerolinecolor\":\"white\",\"gridwidth\":2},\"zaxis\":{\"backgroundcolor\":\"#E5ECF6\",\"gridcolor\":\"white\",\"linecolor\":\"white\",\"showbackground\":true,\"ticks\":\"\",\"zerolinecolor\":\"white\",\"gridwidth\":2}},\"shapedefaults\":{\"line\":{\"color\":\"#2a3f5f\"}},\"annotationdefaults\":{\"arrowcolor\":\"#2a3f5f\",\"arrowhead\":0,\"arrowwidth\":1},\"geo\":{\"bgcolor\":\"white\",\"landcolor\":\"#E5ECF6\",\"subunitcolor\":\"white\",\"showland\":true,\"showlakes\":true,\"lakecolor\":\"white\"},\"title\":{\"x\":0.05},\"mapbox\":{\"style\":\"light\"}}},\"polar\":{\"domain\":{\"x\":[0.0,1.0],\"y\":[0.0,1.0]},\"angularaxis\":{\"direction\":\"clockwise\",\"rotation\":90,\"categoryorder\":\"array\",\"categoryarray\":[\"Writing\",\"Roleplay\",\"Reasoning\",\"Math\",\"Coding\",\"Extraction\",\"STEM\",\"Humanities\"]}},\"legend\":{\"title\":{\"text\":\"model\"},\"tracegroupgap\":0},\"margin\":{\"t\":60}},                        {\"responsive\": true}                    ).then(function(){\n",
              "                            \n",
              "var gd = document.getElementById('c295bd69-4409-414e-9632-24c6e76fa153');\n",
              "var x = new MutationObserver(function (mutations, observer) {{\n",
              "        var display = window.getComputedStyle(gd).display;\n",
              "        if (!display || display === 'none') {{\n",
              "            console.log([gd, 'removed!']);\n",
              "            Plotly.purge(gd);\n",
              "            observer.disconnect();\n",
              "        }}\n",
              "}});\n",
              "\n",
              "// Listen for the removal of the full notebook cells\n",
              "var notebookContainer = gd.closest('#notebook-container');\n",
              "if (notebookContainer) {{\n",
              "    x.observe(notebookContainer, {childList: true});\n",
              "}}\n",
              "\n",
              "// Listen for the clearing of the current output cell\n",
              "var outputEl = gd.closest('.output');\n",
              "if (outputEl) {{\n",
              "    x.observe(outputEl, {childList: true});\n",
              "}}\n",
              "\n",
              "                        })                };                });            </script>        </div>"
            ]
          },
          "metadata": {},
          "output_type": "display_data"
        }
      ],
      "source": [
        "# target_models = [\"Llama-2-7b-chat\", \"Llama-2-13b-chat\", \"Llama-2-70b-chat\", \"gpt-3.5-turbo\", \"claude-v1\", \"gpt-4\"]\n",
        "\n",
        "target_models = ['instr_release_ultrafeedback_batch32_rejected_fully_from_zamba_round3',\n",
        " 'nstr_release_ultrafeedback_batch32_rejected_fully_from_zamba_round2',\n",
        " 'instr_release_ultrafeedback_infinfstruct_batch32_with_actual_mix_infinstr_ultrachat',\n",
        " 'instr_release_ultrafeedback_batch32_rejected_half_from_zamba_round3',\n",
        " 'instr_release_ultrafeedback_infinfstruct_batch32_with_actual_mix_infinstr_ultrachat_round3',\n",
        " 'instr_release_ultrafeedback_batch32_rejected_fully_from_zamba',\n",
        " 'instr_release_ultrafeedback_batch32_rejected_half_from_zamba_round2',\n",
        " 'instr_release_ultrafeedback_infinfstruct_batch32_with_actual_mix_infinstr_ultrachat_round2',\n",
        " 'instr_release_ultrafeedback_batch32_rejected_half_from_zamba',\n",
        " 'gemma-2-2b-it', 'ultrafeedback_openhermespref_orcadoppairs_4epochs',\n",
        " 'ultrafeedback_openhermespref_orcadoppairs_1epoch',\n",
        " 'ultrafeedback_openhermespref_orcadoppairs_1epoch_then_2epochs',\n",
        " 'ultrafeedback_openhermespref_orcadoppairs_1epoch_then_2epochs_then_1epoch',\n",
        " 'HuggingFaceTB_SmolLM-1.7B-Instruct', 'microsoft_Phi-3-mini-4k-instruct',\n",
        " 'Qwen_Qwen2-1.5B-Instruct', 'stabilityai_stablelm-2-1_6b-chat',\n",
        " 'microsoft_Phi-3.5-mini-instruct', 'h2oai_h2o-danube3-4b-chat',\n",
        " 'stabilityai_stablelm-zephyr-3b', 'h2oai_h2o-danube2-1.8b-chat']\n",
        "\n",
        "\n",
        "\n",
        "scores_target = [scores_all[i] for i in range(len(scores_all)) if scores_all[i][\"model\"] in target_models]\n",
        "\n",
        "# sort by target_models\n",
        "scores_target = sorted(scores_target, key=lambda x: target_models.index(x[\"model\"]), reverse=True)\n",
        "\n",
        "df_score = pd.DataFrame(scores_target)\n",
        "df_score = df_score[df_score[\"model\"].isin(target_models)]\n",
        "\n",
        "# rename_map = {\"llama-13b\": \"LLaMA-13B\",\n",
        "#               \"alpaca-13b\": \"Alpaca-13B\",\n",
        "#               \"vicuna-33b-v1.3\": \"Vicuna-33B\",\n",
        "#               \"vicuna-13b-v1.3\": \"Vicuna-13B\",\n",
        "#               \"gpt-3.5-turbo\": \"GPT-3.5-turbo\",\n",
        "#               \"claude-v1\": \"Claude-v1\",\n",
        "#               \"gpt-4\": \"GPT-4\"}\n",
        "\n",
        "# for k, v in rename_map.items():\n",
        "#     df_score.replace(k, v, inplace=True)\n",
        "\n",
        "fig = px.line_polar(df_score, r = 'score', theta = 'category', line_close = True, category_orders = {\"category\": CATEGORIES},\n",
        "                    color = 'model', markers=True, color_discrete_sequence=px.colors.qualitative.Pastel)\n",
        "\n",
        "fig.show()\n",
        "\n",
        "# scores_target = [scores_all[i] for i in range(len(scores_all)) if scores_all[i][\"model\"] in target_models]\n",
        "\n",
        "# # sort by target_models\n",
        "# scores_target = sorted(scores_target, key=lambda x: target_models.index(x[\"model\"]), reverse=True)\n",
        "\n",
        "# df_score = pd.DataFrame(scores_target)\n",
        "# df_score = df_score[df_score[\"model\"].isin(target_models)]\n",
        "\n",
        "# rename_map = {\"llama-13b\": \"LLaMA-13B\",\n",
        "#               \"alpaca-13b\": \"Alpaca-13B\",\n",
        "#               \"vicuna-33b-v1.3\": \"Vicuna-33B\",\n",
        "#               \"vicuna-13b-v1.3\": \"Vicuna-13B\",\n",
        "#               \"gpt-3.5-turbo\": \"GPT-3.5-turbo\",\n",
        "#               \"claude-v1\": \"Claude-v1\",\n",
        "#               \"gpt-4\": \"GPT-4\"}\n",
        "\n",
        "# for k, v in rename_map.items():\n",
        "#     df_score.replace(k, v, inplace=True)\n",
        "\n",
        "# fig = px.line_polar(df_score, r = 'score', theta = 'category', line_close = True, category_orders = {\"category\": CATEGORIES},\n",
        "#                     color = 'model', markers=True, color_discrete_sequence=px.colors.qualitative.Pastel)\n",
        "\n",
        "# fig.show()"
      ]
    },
    {
      "cell_type": "code",
      "execution_count": null,
      "metadata": {
        "id": "MaBaUN4IqvJI"
      },
      "outputs": [],
      "source": [
        "# fig = px.line_polar(df_score, r = 'wtrate', theta = 'category', line_close = True, category_orders = {\"category\": CATEGORIES},\n",
        "#                     color = 'model', markers=True, color_discrete_sequence=px.colors.qualitative.Pastel)\n",
        "# fig.show()"
      ]
    },
    {
      "cell_type": "code",
      "execution_count": null,
      "metadata": {
        "id": "4l1bzYM2bgDW"
      },
      "outputs": [],
      "source": [
        "fig.update_layout(\n",
        "    font=dict(\n",
        "        size=18,\n",
        "    ),\n",
        ")\n",
        "fig.write_image(\"fig.png\", width=800, height=600, scale=2)"
      ]
    },
    {
      "cell_type": "code",
      "execution_count": null,
      "metadata": {
        "id": "nfpERnxFANhV"
      },
      "outputs": [],
      "source": []
    }
  ],
  "metadata": {
    "colab": {
      "provenance": []
    },
    "kernelspec": {
      "display_name": "Python 3",
      "name": "python3"
    },
    "language_info": {
      "codemirror_mode": {
        "name": "ipython",
        "version": 3
      },
      "file_extension": ".py",
      "mimetype": "text/x-python",
      "name": "python",
      "nbconvert_exporter": "python",
      "pygments_lexer": "ipython3",
      "version": "3.10.12"
    }
  },
  "nbformat": 4,
  "nbformat_minor": 0
}
